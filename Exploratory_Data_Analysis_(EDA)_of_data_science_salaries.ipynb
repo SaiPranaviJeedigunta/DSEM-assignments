{
  "nbformat": 4,
  "nbformat_minor": 0,
  "metadata": {
    "colab": {
      "provenance": [],
      "collapsed_sections": [
        "MJvGsgFis6bw",
        "DRsvXhXnZcZh",
        "j3DCfWm6Z-06",
        "9mU9lLZPaYfW",
        "kC17LxN9alVN",
        "75WYoQAzasRO",
        "6OKfYkQVa0Zi",
        "-oA914RxbdS8",
        "NUXOd7-Ic2mH",
        "E8_UKs14dGvu",
        "-KzX-ctOdSkq",
        "aKwsU9wven_J",
        "5rBRFiH6ev6t",
        "rW7zZ2U_fhEv",
        "BgTsd3hnfn5I",
        "RHnAl-lgft5x",
        "mu7l_Bx0fzf0",
        "w7eoeHptf7KM",
        "SgJhsKpAgBIF",
        "thX7_eicgW0w",
        "BZnzbOzItiFV",
        "biC1y-7kudjD",
        "sFBO-JV4uht7"
      ],
      "toc_visible": true
    },
    "kernelspec": {
      "name": "python3",
      "display_name": "Python 3"
    },
    "language_info": {
      "name": "python"
    }
  },
  "cells": [
    {
      "cell_type": "markdown",
      "source": [
        "# Abstract"
      ],
      "metadata": {
        "id": "MJvGsgFis6bw"
      }
    },
    {
      "cell_type": "markdown",
      "source": [
        "This project delves into the Exploratory Data Analysis (EDA) of a dataset focused on data science salaries. The EDA process involves examining various aspects of the dataset to uncover patterns, trends, and insights. Initial steps include exploring the distribution of salaries, identifying outliers, and understanding the range of salaries across different categories such as job titles and experience levels. Additionally, the analysis investigates the relationship between remote work options and salary levels. Through visualizations and statistical summaries, this EDA provides a comprehensive understanding of the dataset's key characteristics, setting the stage for further analysis and modeling."
      ],
      "metadata": {
        "id": "2z_tvsiXs9Ht"
      }
    },
    {
      "cell_type": "markdown",
      "source": [
        "# Importing Libraries and Data"
      ],
      "metadata": {
        "id": "DRsvXhXnZcZh"
      }
    },
    {
      "cell_type": "code",
      "source": [
        "import pandas as pd\n",
        "import matplotlib.pyplot as plt\n",
        "import numpy as np"
      ],
      "metadata": {
        "id": "eVykglYGZkQl"
      },
      "execution_count": 2,
      "outputs": []
    },
    {
      "cell_type": "code",
      "source": [
        "df = pd.read_csv(\"https://raw.githubusercontent.com/SaiPranaviJeedigunta/DAMG_assignments/main/ds_salaries.csv\")\n",
        "df.head()"
      ],
      "metadata": {
        "colab": {
          "base_uri": "https://localhost:8080/",
          "height": 330
        },
        "id": "bwd9325zZl7i",
        "outputId": "90c50fc1-dd12-4640-8623-a93cba0807a6"
      },
      "execution_count": 3,
      "outputs": [
        {
          "output_type": "execute_result",
          "data": {
            "text/plain": [
              "   work_year experience_level employment_type                 job_title  \\\n",
              "0       2023               SE              FT  Principal Data Scientist   \n",
              "1       2023               MI              CT               ML Engineer   \n",
              "2       2023               MI              CT               ML Engineer   \n",
              "3       2023               SE              FT            Data Scientist   \n",
              "4       2023               SE              FT            Data Scientist   \n",
              "\n",
              "   salary salary_currency  salary_in_usd employee_residence  remote_ratio  \\\n",
              "0   80000             EUR          85847                 ES           100   \n",
              "1   30000             USD          30000                 US           100   \n",
              "2   25500             USD          25500                 US           100   \n",
              "3  175000             USD         175000                 CA           100   \n",
              "4  120000             USD         120000                 CA           100   \n",
              "\n",
              "  company_location company_size  \n",
              "0               ES            L  \n",
              "1               US            S  \n",
              "2               US            S  \n",
              "3               CA            M  \n",
              "4               CA            M  "
            ],
            "text/html": [
              "\n",
              "  <div id=\"df-415b8398-9baa-494e-8f45-a4e79e148706\" class=\"colab-df-container\">\n",
              "    <div>\n",
              "<style scoped>\n",
              "    .dataframe tbody tr th:only-of-type {\n",
              "        vertical-align: middle;\n",
              "    }\n",
              "\n",
              "    .dataframe tbody tr th {\n",
              "        vertical-align: top;\n",
              "    }\n",
              "\n",
              "    .dataframe thead th {\n",
              "        text-align: right;\n",
              "    }\n",
              "</style>\n",
              "<table border=\"1\" class=\"dataframe\">\n",
              "  <thead>\n",
              "    <tr style=\"text-align: right;\">\n",
              "      <th></th>\n",
              "      <th>work_year</th>\n",
              "      <th>experience_level</th>\n",
              "      <th>employment_type</th>\n",
              "      <th>job_title</th>\n",
              "      <th>salary</th>\n",
              "      <th>salary_currency</th>\n",
              "      <th>salary_in_usd</th>\n",
              "      <th>employee_residence</th>\n",
              "      <th>remote_ratio</th>\n",
              "      <th>company_location</th>\n",
              "      <th>company_size</th>\n",
              "    </tr>\n",
              "  </thead>\n",
              "  <tbody>\n",
              "    <tr>\n",
              "      <th>0</th>\n",
              "      <td>2023</td>\n",
              "      <td>SE</td>\n",
              "      <td>FT</td>\n",
              "      <td>Principal Data Scientist</td>\n",
              "      <td>80000</td>\n",
              "      <td>EUR</td>\n",
              "      <td>85847</td>\n",
              "      <td>ES</td>\n",
              "      <td>100</td>\n",
              "      <td>ES</td>\n",
              "      <td>L</td>\n",
              "    </tr>\n",
              "    <tr>\n",
              "      <th>1</th>\n",
              "      <td>2023</td>\n",
              "      <td>MI</td>\n",
              "      <td>CT</td>\n",
              "      <td>ML Engineer</td>\n",
              "      <td>30000</td>\n",
              "      <td>USD</td>\n",
              "      <td>30000</td>\n",
              "      <td>US</td>\n",
              "      <td>100</td>\n",
              "      <td>US</td>\n",
              "      <td>S</td>\n",
              "    </tr>\n",
              "    <tr>\n",
              "      <th>2</th>\n",
              "      <td>2023</td>\n",
              "      <td>MI</td>\n",
              "      <td>CT</td>\n",
              "      <td>ML Engineer</td>\n",
              "      <td>25500</td>\n",
              "      <td>USD</td>\n",
              "      <td>25500</td>\n",
              "      <td>US</td>\n",
              "      <td>100</td>\n",
              "      <td>US</td>\n",
              "      <td>S</td>\n",
              "    </tr>\n",
              "    <tr>\n",
              "      <th>3</th>\n",
              "      <td>2023</td>\n",
              "      <td>SE</td>\n",
              "      <td>FT</td>\n",
              "      <td>Data Scientist</td>\n",
              "      <td>175000</td>\n",
              "      <td>USD</td>\n",
              "      <td>175000</td>\n",
              "      <td>CA</td>\n",
              "      <td>100</td>\n",
              "      <td>CA</td>\n",
              "      <td>M</td>\n",
              "    </tr>\n",
              "    <tr>\n",
              "      <th>4</th>\n",
              "      <td>2023</td>\n",
              "      <td>SE</td>\n",
              "      <td>FT</td>\n",
              "      <td>Data Scientist</td>\n",
              "      <td>120000</td>\n",
              "      <td>USD</td>\n",
              "      <td>120000</td>\n",
              "      <td>CA</td>\n",
              "      <td>100</td>\n",
              "      <td>CA</td>\n",
              "      <td>M</td>\n",
              "    </tr>\n",
              "  </tbody>\n",
              "</table>\n",
              "</div>\n",
              "    <div class=\"colab-df-buttons\">\n",
              "\n",
              "  <div class=\"colab-df-container\">\n",
              "    <button class=\"colab-df-convert\" onclick=\"convertToInteractive('df-415b8398-9baa-494e-8f45-a4e79e148706')\"\n",
              "            title=\"Convert this dataframe to an interactive table.\"\n",
              "            style=\"display:none;\">\n",
              "\n",
              "  <svg xmlns=\"http://www.w3.org/2000/svg\" height=\"24px\" viewBox=\"0 -960 960 960\">\n",
              "    <path d=\"M120-120v-720h720v720H120Zm60-500h600v-160H180v160Zm220 220h160v-160H400v160Zm0 220h160v-160H400v160ZM180-400h160v-160H180v160Zm440 0h160v-160H620v160ZM180-180h160v-160H180v160Zm440 0h160v-160H620v160Z\"/>\n",
              "  </svg>\n",
              "    </button>\n",
              "\n",
              "  <style>\n",
              "    .colab-df-container {\n",
              "      display:flex;\n",
              "      gap: 12px;\n",
              "    }\n",
              "\n",
              "    .colab-df-convert {\n",
              "      background-color: #E8F0FE;\n",
              "      border: none;\n",
              "      border-radius: 50%;\n",
              "      cursor: pointer;\n",
              "      display: none;\n",
              "      fill: #1967D2;\n",
              "      height: 32px;\n",
              "      padding: 0 0 0 0;\n",
              "      width: 32px;\n",
              "    }\n",
              "\n",
              "    .colab-df-convert:hover {\n",
              "      background-color: #E2EBFA;\n",
              "      box-shadow: 0px 1px 2px rgba(60, 64, 67, 0.3), 0px 1px 3px 1px rgba(60, 64, 67, 0.15);\n",
              "      fill: #174EA6;\n",
              "    }\n",
              "\n",
              "    .colab-df-buttons div {\n",
              "      margin-bottom: 4px;\n",
              "    }\n",
              "\n",
              "    [theme=dark] .colab-df-convert {\n",
              "      background-color: #3B4455;\n",
              "      fill: #D2E3FC;\n",
              "    }\n",
              "\n",
              "    [theme=dark] .colab-df-convert:hover {\n",
              "      background-color: #434B5C;\n",
              "      box-shadow: 0px 1px 3px 1px rgba(0, 0, 0, 0.15);\n",
              "      filter: drop-shadow(0px 1px 2px rgba(0, 0, 0, 0.3));\n",
              "      fill: #FFFFFF;\n",
              "    }\n",
              "  </style>\n",
              "\n",
              "    <script>\n",
              "      const buttonEl =\n",
              "        document.querySelector('#df-415b8398-9baa-494e-8f45-a4e79e148706 button.colab-df-convert');\n",
              "      buttonEl.style.display =\n",
              "        google.colab.kernel.accessAllowed ? 'block' : 'none';\n",
              "\n",
              "      async function convertToInteractive(key) {\n",
              "        const element = document.querySelector('#df-415b8398-9baa-494e-8f45-a4e79e148706');\n",
              "        const dataTable =\n",
              "          await google.colab.kernel.invokeFunction('convertToInteractive',\n",
              "                                                    [key], {});\n",
              "        if (!dataTable) return;\n",
              "\n",
              "        const docLinkHtml = 'Like what you see? Visit the ' +\n",
              "          '<a target=\"_blank\" href=https://colab.research.google.com/notebooks/data_table.ipynb>data table notebook</a>'\n",
              "          + ' to learn more about interactive tables.';\n",
              "        element.innerHTML = '';\n",
              "        dataTable['output_type'] = 'display_data';\n",
              "        await google.colab.output.renderOutput(dataTable, element);\n",
              "        const docLink = document.createElement('div');\n",
              "        docLink.innerHTML = docLinkHtml;\n",
              "        element.appendChild(docLink);\n",
              "      }\n",
              "    </script>\n",
              "  </div>\n",
              "\n",
              "\n",
              "<div id=\"df-6b84b13d-bba7-4f50-b30d-9d62c94ba89e\">\n",
              "  <button class=\"colab-df-quickchart\" onclick=\"quickchart('df-6b84b13d-bba7-4f50-b30d-9d62c94ba89e')\"\n",
              "            title=\"Suggest charts\"\n",
              "            style=\"display:none;\">\n",
              "\n",
              "<svg xmlns=\"http://www.w3.org/2000/svg\" height=\"24px\"viewBox=\"0 0 24 24\"\n",
              "     width=\"24px\">\n",
              "    <g>\n",
              "        <path d=\"M19 3H5c-1.1 0-2 .9-2 2v14c0 1.1.9 2 2 2h14c1.1 0 2-.9 2-2V5c0-1.1-.9-2-2-2zM9 17H7v-7h2v7zm4 0h-2V7h2v10zm4 0h-2v-4h2v4z\"/>\n",
              "    </g>\n",
              "</svg>\n",
              "  </button>\n",
              "\n",
              "<style>\n",
              "  .colab-df-quickchart {\n",
              "      --bg-color: #E8F0FE;\n",
              "      --fill-color: #1967D2;\n",
              "      --hover-bg-color: #E2EBFA;\n",
              "      --hover-fill-color: #174EA6;\n",
              "      --disabled-fill-color: #AAA;\n",
              "      --disabled-bg-color: #DDD;\n",
              "  }\n",
              "\n",
              "  [theme=dark] .colab-df-quickchart {\n",
              "      --bg-color: #3B4455;\n",
              "      --fill-color: #D2E3FC;\n",
              "      --hover-bg-color: #434B5C;\n",
              "      --hover-fill-color: #FFFFFF;\n",
              "      --disabled-bg-color: #3B4455;\n",
              "      --disabled-fill-color: #666;\n",
              "  }\n",
              "\n",
              "  .colab-df-quickchart {\n",
              "    background-color: var(--bg-color);\n",
              "    border: none;\n",
              "    border-radius: 50%;\n",
              "    cursor: pointer;\n",
              "    display: none;\n",
              "    fill: var(--fill-color);\n",
              "    height: 32px;\n",
              "    padding: 0;\n",
              "    width: 32px;\n",
              "  }\n",
              "\n",
              "  .colab-df-quickchart:hover {\n",
              "    background-color: var(--hover-bg-color);\n",
              "    box-shadow: 0 1px 2px rgba(60, 64, 67, 0.3), 0 1px 3px 1px rgba(60, 64, 67, 0.15);\n",
              "    fill: var(--button-hover-fill-color);\n",
              "  }\n",
              "\n",
              "  .colab-df-quickchart-complete:disabled,\n",
              "  .colab-df-quickchart-complete:disabled:hover {\n",
              "    background-color: var(--disabled-bg-color);\n",
              "    fill: var(--disabled-fill-color);\n",
              "    box-shadow: none;\n",
              "  }\n",
              "\n",
              "  .colab-df-spinner {\n",
              "    border: 2px solid var(--fill-color);\n",
              "    border-color: transparent;\n",
              "    border-bottom-color: var(--fill-color);\n",
              "    animation:\n",
              "      spin 1s steps(1) infinite;\n",
              "  }\n",
              "\n",
              "  @keyframes spin {\n",
              "    0% {\n",
              "      border-color: transparent;\n",
              "      border-bottom-color: var(--fill-color);\n",
              "      border-left-color: var(--fill-color);\n",
              "    }\n",
              "    20% {\n",
              "      border-color: transparent;\n",
              "      border-left-color: var(--fill-color);\n",
              "      border-top-color: var(--fill-color);\n",
              "    }\n",
              "    30% {\n",
              "      border-color: transparent;\n",
              "      border-left-color: var(--fill-color);\n",
              "      border-top-color: var(--fill-color);\n",
              "      border-right-color: var(--fill-color);\n",
              "    }\n",
              "    40% {\n",
              "      border-color: transparent;\n",
              "      border-right-color: var(--fill-color);\n",
              "      border-top-color: var(--fill-color);\n",
              "    }\n",
              "    60% {\n",
              "      border-color: transparent;\n",
              "      border-right-color: var(--fill-color);\n",
              "    }\n",
              "    80% {\n",
              "      border-color: transparent;\n",
              "      border-right-color: var(--fill-color);\n",
              "      border-bottom-color: var(--fill-color);\n",
              "    }\n",
              "    90% {\n",
              "      border-color: transparent;\n",
              "      border-bottom-color: var(--fill-color);\n",
              "    }\n",
              "  }\n",
              "</style>\n",
              "\n",
              "  <script>\n",
              "    async function quickchart(key) {\n",
              "      const quickchartButtonEl =\n",
              "        document.querySelector('#' + key + ' button');\n",
              "      quickchartButtonEl.disabled = true;  // To prevent multiple clicks.\n",
              "      quickchartButtonEl.classList.add('colab-df-spinner');\n",
              "      try {\n",
              "        const charts = await google.colab.kernel.invokeFunction(\n",
              "            'suggestCharts', [key], {});\n",
              "      } catch (error) {\n",
              "        console.error('Error during call to suggestCharts:', error);\n",
              "      }\n",
              "      quickchartButtonEl.classList.remove('colab-df-spinner');\n",
              "      quickchartButtonEl.classList.add('colab-df-quickchart-complete');\n",
              "    }\n",
              "    (() => {\n",
              "      let quickchartButtonEl =\n",
              "        document.querySelector('#df-6b84b13d-bba7-4f50-b30d-9d62c94ba89e button');\n",
              "      quickchartButtonEl.style.display =\n",
              "        google.colab.kernel.accessAllowed ? 'block' : 'none';\n",
              "    })();\n",
              "  </script>\n",
              "</div>\n",
              "\n",
              "    </div>\n",
              "  </div>\n"
            ],
            "application/vnd.google.colaboratory.intrinsic+json": {
              "type": "dataframe",
              "variable_name": "df",
              "summary": "{\n  \"name\": \"df\",\n  \"rows\": 3755,\n  \"fields\": [\n    {\n      \"column\": \"work_year\",\n      \"properties\": {\n        \"dtype\": \"number\",\n        \"std\": 0,\n        \"min\": 2020,\n        \"max\": 2023,\n        \"num_unique_values\": 4,\n        \"samples\": [\n          2022,\n          2021,\n          2023\n        ],\n        \"semantic_type\": \"\",\n        \"description\": \"\"\n      }\n    },\n    {\n      \"column\": \"experience_level\",\n      \"properties\": {\n        \"dtype\": \"category\",\n        \"num_unique_values\": 4,\n        \"samples\": [\n          \"MI\",\n          \"EX\",\n          \"SE\"\n        ],\n        \"semantic_type\": \"\",\n        \"description\": \"\"\n      }\n    },\n    {\n      \"column\": \"employment_type\",\n      \"properties\": {\n        \"dtype\": \"category\",\n        \"num_unique_values\": 4,\n        \"samples\": [\n          \"CT\",\n          \"PT\",\n          \"FT\"\n        ],\n        \"semantic_type\": \"\",\n        \"description\": \"\"\n      }\n    },\n    {\n      \"column\": \"job_title\",\n      \"properties\": {\n        \"dtype\": \"category\",\n        \"num_unique_values\": 93,\n        \"samples\": [\n          \"Cloud Database Engineer\",\n          \"Staff Data Analyst\",\n          \"Insight Analyst\"\n        ],\n        \"semantic_type\": \"\",\n        \"description\": \"\"\n      }\n    },\n    {\n      \"column\": \"salary\",\n      \"properties\": {\n        \"dtype\": \"number\",\n        \"std\": 671676,\n        \"min\": 6000,\n        \"max\": 30400000,\n        \"num_unique_values\": 815,\n        \"samples\": [\n          84570,\n          138000,\n          370000\n        ],\n        \"semantic_type\": \"\",\n        \"description\": \"\"\n      }\n    },\n    {\n      \"column\": \"salary_currency\",\n      \"properties\": {\n        \"dtype\": \"category\",\n        \"num_unique_values\": 20,\n        \"samples\": [\n          \"EUR\",\n          \"MXN\",\n          \"DKK\"\n        ],\n        \"semantic_type\": \"\",\n        \"description\": \"\"\n      }\n    },\n    {\n      \"column\": \"salary_in_usd\",\n      \"properties\": {\n        \"dtype\": \"number\",\n        \"std\": 63055,\n        \"min\": 5132,\n        \"max\": 450000,\n        \"num_unique_values\": 1035,\n        \"samples\": [\n          205600,\n          375000,\n          140700\n        ],\n        \"semantic_type\": \"\",\n        \"description\": \"\"\n      }\n    },\n    {\n      \"column\": \"employee_residence\",\n      \"properties\": {\n        \"dtype\": \"category\",\n        \"num_unique_values\": 78,\n        \"samples\": [\n          \"AR\",\n          \"ES\",\n          \"AM\"\n        ],\n        \"semantic_type\": \"\",\n        \"description\": \"\"\n      }\n    },\n    {\n      \"column\": \"remote_ratio\",\n      \"properties\": {\n        \"dtype\": \"number\",\n        \"std\": 48,\n        \"min\": 0,\n        \"max\": 100,\n        \"num_unique_values\": 3,\n        \"samples\": [\n          100,\n          0,\n          50\n        ],\n        \"semantic_type\": \"\",\n        \"description\": \"\"\n      }\n    },\n    {\n      \"column\": \"company_location\",\n      \"properties\": {\n        \"dtype\": \"category\",\n        \"num_unique_values\": 72,\n        \"samples\": [\n          \"GB\",\n          \"MY\",\n          \"SG\"\n        ],\n        \"semantic_type\": \"\",\n        \"description\": \"\"\n      }\n    },\n    {\n      \"column\": \"company_size\",\n      \"properties\": {\n        \"dtype\": \"category\",\n        \"num_unique_values\": 3,\n        \"samples\": [\n          \"L\",\n          \"S\",\n          \"M\"\n        ],\n        \"semantic_type\": \"\",\n        \"description\": \"\"\n      }\n    }\n  ]\n}"
            }
          },
          "metadata": {},
          "execution_count": 3
        }
      ]
    },
    {
      "cell_type": "markdown",
      "source": [
        "We import the pandas library with  pd, the matplotlib.pyplot library with plt, and the numpy library with np. These libraries are commonly used for data analysis and visualization in Python."
      ],
      "metadata": {
        "id": "psKsIPxv_Txr"
      }
    },
    {
      "cell_type": "markdown",
      "source": [
        "# Exploratory Data Analysis"
      ],
      "metadata": {
        "id": "j3DCfWm6Z-06"
      }
    },
    {
      "cell_type": "markdown",
      "source": [
        "Exploratory Data Analysis (EDA) is a crucial step in the data analysis process that involves exploring and understanding the dataset before diving into more detailed analysis or modeling. The main goals of EDA are to:\n",
        "\n",
        "Understand the Data: EDA helps in understanding the structure, content, and quality of the dataset. This includes checking for missing values, identifying data types, and understanding the meaning of each variable.\n",
        "\n",
        "Detect Patterns and Relationships: EDA helps in identifying patterns, trends, and relationships within the data. This includes exploring correlations between variables, identifying outliers, and understanding the distribution of data.\n",
        "\n",
        "Generate Hypotheses: EDA can help generate hypotheses that can be further tested using statistical methods or machine learning models. By exploring the data visually, analysts can gain insights that may not be apparent from summary statistics alone.\n",
        "\n",
        "Inform Data Cleaning and Preprocessing: EDA can highlight issues in the data that need to be addressed before analysis, such as missing values, outliers, or inconsistencies. This information can guide data cleaning and preprocessing steps.\n",
        "\n",
        "Visualize the Data: EDA often involves creating visualizations such as histograms, scatter plots, and box plots to visualize the distribution of data and relationships between variables. Visualizations can provide insights that are not apparent from raw data.\n",
        "\n",
        "Overall, EDA is an essential step in the data analysis process as it helps analysts gain a deeper understanding of the dataset, identify patterns and relationships, and inform subsequent analysis and modeling decisions."
      ],
      "metadata": {
        "id": "QnUpIw581TIc"
      }
    },
    {
      "cell_type": "code",
      "source": [
        "df.describe()"
      ],
      "metadata": {
        "colab": {
          "base_uri": "https://localhost:8080/",
          "height": 300
        },
        "id": "dAF_fUQkZtNR",
        "outputId": "b9b49b85-a8d8-4b8b-dbd1-fc8d97c67476"
      },
      "execution_count": 4,
      "outputs": [
        {
          "output_type": "execute_result",
          "data": {
            "text/plain": [
              "         work_year        salary  salary_in_usd  remote_ratio\n",
              "count  3755.000000  3.755000e+03    3755.000000   3755.000000\n",
              "mean   2022.373635  1.906956e+05  137570.389880     46.271638\n",
              "std       0.691448  6.716765e+05   63055.625278     48.589050\n",
              "min    2020.000000  6.000000e+03    5132.000000      0.000000\n",
              "25%    2022.000000  1.000000e+05   95000.000000      0.000000\n",
              "50%    2022.000000  1.380000e+05  135000.000000      0.000000\n",
              "75%    2023.000000  1.800000e+05  175000.000000    100.000000\n",
              "max    2023.000000  3.040000e+07  450000.000000    100.000000"
            ],
            "text/html": [
              "\n",
              "  <div id=\"df-77739860-759f-43a7-a09f-175c8567bd5f\" class=\"colab-df-container\">\n",
              "    <div>\n",
              "<style scoped>\n",
              "    .dataframe tbody tr th:only-of-type {\n",
              "        vertical-align: middle;\n",
              "    }\n",
              "\n",
              "    .dataframe tbody tr th {\n",
              "        vertical-align: top;\n",
              "    }\n",
              "\n",
              "    .dataframe thead th {\n",
              "        text-align: right;\n",
              "    }\n",
              "</style>\n",
              "<table border=\"1\" class=\"dataframe\">\n",
              "  <thead>\n",
              "    <tr style=\"text-align: right;\">\n",
              "      <th></th>\n",
              "      <th>work_year</th>\n",
              "      <th>salary</th>\n",
              "      <th>salary_in_usd</th>\n",
              "      <th>remote_ratio</th>\n",
              "    </tr>\n",
              "  </thead>\n",
              "  <tbody>\n",
              "    <tr>\n",
              "      <th>count</th>\n",
              "      <td>3755.000000</td>\n",
              "      <td>3.755000e+03</td>\n",
              "      <td>3755.000000</td>\n",
              "      <td>3755.000000</td>\n",
              "    </tr>\n",
              "    <tr>\n",
              "      <th>mean</th>\n",
              "      <td>2022.373635</td>\n",
              "      <td>1.906956e+05</td>\n",
              "      <td>137570.389880</td>\n",
              "      <td>46.271638</td>\n",
              "    </tr>\n",
              "    <tr>\n",
              "      <th>std</th>\n",
              "      <td>0.691448</td>\n",
              "      <td>6.716765e+05</td>\n",
              "      <td>63055.625278</td>\n",
              "      <td>48.589050</td>\n",
              "    </tr>\n",
              "    <tr>\n",
              "      <th>min</th>\n",
              "      <td>2020.000000</td>\n",
              "      <td>6.000000e+03</td>\n",
              "      <td>5132.000000</td>\n",
              "      <td>0.000000</td>\n",
              "    </tr>\n",
              "    <tr>\n",
              "      <th>25%</th>\n",
              "      <td>2022.000000</td>\n",
              "      <td>1.000000e+05</td>\n",
              "      <td>95000.000000</td>\n",
              "      <td>0.000000</td>\n",
              "    </tr>\n",
              "    <tr>\n",
              "      <th>50%</th>\n",
              "      <td>2022.000000</td>\n",
              "      <td>1.380000e+05</td>\n",
              "      <td>135000.000000</td>\n",
              "      <td>0.000000</td>\n",
              "    </tr>\n",
              "    <tr>\n",
              "      <th>75%</th>\n",
              "      <td>2023.000000</td>\n",
              "      <td>1.800000e+05</td>\n",
              "      <td>175000.000000</td>\n",
              "      <td>100.000000</td>\n",
              "    </tr>\n",
              "    <tr>\n",
              "      <th>max</th>\n",
              "      <td>2023.000000</td>\n",
              "      <td>3.040000e+07</td>\n",
              "      <td>450000.000000</td>\n",
              "      <td>100.000000</td>\n",
              "    </tr>\n",
              "  </tbody>\n",
              "</table>\n",
              "</div>\n",
              "    <div class=\"colab-df-buttons\">\n",
              "\n",
              "  <div class=\"colab-df-container\">\n",
              "    <button class=\"colab-df-convert\" onclick=\"convertToInteractive('df-77739860-759f-43a7-a09f-175c8567bd5f')\"\n",
              "            title=\"Convert this dataframe to an interactive table.\"\n",
              "            style=\"display:none;\">\n",
              "\n",
              "  <svg xmlns=\"http://www.w3.org/2000/svg\" height=\"24px\" viewBox=\"0 -960 960 960\">\n",
              "    <path d=\"M120-120v-720h720v720H120Zm60-500h600v-160H180v160Zm220 220h160v-160H400v160Zm0 220h160v-160H400v160ZM180-400h160v-160H180v160Zm440 0h160v-160H620v160ZM180-180h160v-160H180v160Zm440 0h160v-160H620v160Z\"/>\n",
              "  </svg>\n",
              "    </button>\n",
              "\n",
              "  <style>\n",
              "    .colab-df-container {\n",
              "      display:flex;\n",
              "      gap: 12px;\n",
              "    }\n",
              "\n",
              "    .colab-df-convert {\n",
              "      background-color: #E8F0FE;\n",
              "      border: none;\n",
              "      border-radius: 50%;\n",
              "      cursor: pointer;\n",
              "      display: none;\n",
              "      fill: #1967D2;\n",
              "      height: 32px;\n",
              "      padding: 0 0 0 0;\n",
              "      width: 32px;\n",
              "    }\n",
              "\n",
              "    .colab-df-convert:hover {\n",
              "      background-color: #E2EBFA;\n",
              "      box-shadow: 0px 1px 2px rgba(60, 64, 67, 0.3), 0px 1px 3px 1px rgba(60, 64, 67, 0.15);\n",
              "      fill: #174EA6;\n",
              "    }\n",
              "\n",
              "    .colab-df-buttons div {\n",
              "      margin-bottom: 4px;\n",
              "    }\n",
              "\n",
              "    [theme=dark] .colab-df-convert {\n",
              "      background-color: #3B4455;\n",
              "      fill: #D2E3FC;\n",
              "    }\n",
              "\n",
              "    [theme=dark] .colab-df-convert:hover {\n",
              "      background-color: #434B5C;\n",
              "      box-shadow: 0px 1px 3px 1px rgba(0, 0, 0, 0.15);\n",
              "      filter: drop-shadow(0px 1px 2px rgba(0, 0, 0, 0.3));\n",
              "      fill: #FFFFFF;\n",
              "    }\n",
              "  </style>\n",
              "\n",
              "    <script>\n",
              "      const buttonEl =\n",
              "        document.querySelector('#df-77739860-759f-43a7-a09f-175c8567bd5f button.colab-df-convert');\n",
              "      buttonEl.style.display =\n",
              "        google.colab.kernel.accessAllowed ? 'block' : 'none';\n",
              "\n",
              "      async function convertToInteractive(key) {\n",
              "        const element = document.querySelector('#df-77739860-759f-43a7-a09f-175c8567bd5f');\n",
              "        const dataTable =\n",
              "          await google.colab.kernel.invokeFunction('convertToInteractive',\n",
              "                                                    [key], {});\n",
              "        if (!dataTable) return;\n",
              "\n",
              "        const docLinkHtml = 'Like what you see? Visit the ' +\n",
              "          '<a target=\"_blank\" href=https://colab.research.google.com/notebooks/data_table.ipynb>data table notebook</a>'\n",
              "          + ' to learn more about interactive tables.';\n",
              "        element.innerHTML = '';\n",
              "        dataTable['output_type'] = 'display_data';\n",
              "        await google.colab.output.renderOutput(dataTable, element);\n",
              "        const docLink = document.createElement('div');\n",
              "        docLink.innerHTML = docLinkHtml;\n",
              "        element.appendChild(docLink);\n",
              "      }\n",
              "    </script>\n",
              "  </div>\n",
              "\n",
              "\n",
              "<div id=\"df-534dc039-36e7-4515-a0ab-1814926aa7b6\">\n",
              "  <button class=\"colab-df-quickchart\" onclick=\"quickchart('df-534dc039-36e7-4515-a0ab-1814926aa7b6')\"\n",
              "            title=\"Suggest charts\"\n",
              "            style=\"display:none;\">\n",
              "\n",
              "<svg xmlns=\"http://www.w3.org/2000/svg\" height=\"24px\"viewBox=\"0 0 24 24\"\n",
              "     width=\"24px\">\n",
              "    <g>\n",
              "        <path d=\"M19 3H5c-1.1 0-2 .9-2 2v14c0 1.1.9 2 2 2h14c1.1 0 2-.9 2-2V5c0-1.1-.9-2-2-2zM9 17H7v-7h2v7zm4 0h-2V7h2v10zm4 0h-2v-4h2v4z\"/>\n",
              "    </g>\n",
              "</svg>\n",
              "  </button>\n",
              "\n",
              "<style>\n",
              "  .colab-df-quickchart {\n",
              "      --bg-color: #E8F0FE;\n",
              "      --fill-color: #1967D2;\n",
              "      --hover-bg-color: #E2EBFA;\n",
              "      --hover-fill-color: #174EA6;\n",
              "      --disabled-fill-color: #AAA;\n",
              "      --disabled-bg-color: #DDD;\n",
              "  }\n",
              "\n",
              "  [theme=dark] .colab-df-quickchart {\n",
              "      --bg-color: #3B4455;\n",
              "      --fill-color: #D2E3FC;\n",
              "      --hover-bg-color: #434B5C;\n",
              "      --hover-fill-color: #FFFFFF;\n",
              "      --disabled-bg-color: #3B4455;\n",
              "      --disabled-fill-color: #666;\n",
              "  }\n",
              "\n",
              "  .colab-df-quickchart {\n",
              "    background-color: var(--bg-color);\n",
              "    border: none;\n",
              "    border-radius: 50%;\n",
              "    cursor: pointer;\n",
              "    display: none;\n",
              "    fill: var(--fill-color);\n",
              "    height: 32px;\n",
              "    padding: 0;\n",
              "    width: 32px;\n",
              "  }\n",
              "\n",
              "  .colab-df-quickchart:hover {\n",
              "    background-color: var(--hover-bg-color);\n",
              "    box-shadow: 0 1px 2px rgba(60, 64, 67, 0.3), 0 1px 3px 1px rgba(60, 64, 67, 0.15);\n",
              "    fill: var(--button-hover-fill-color);\n",
              "  }\n",
              "\n",
              "  .colab-df-quickchart-complete:disabled,\n",
              "  .colab-df-quickchart-complete:disabled:hover {\n",
              "    background-color: var(--disabled-bg-color);\n",
              "    fill: var(--disabled-fill-color);\n",
              "    box-shadow: none;\n",
              "  }\n",
              "\n",
              "  .colab-df-spinner {\n",
              "    border: 2px solid var(--fill-color);\n",
              "    border-color: transparent;\n",
              "    border-bottom-color: var(--fill-color);\n",
              "    animation:\n",
              "      spin 1s steps(1) infinite;\n",
              "  }\n",
              "\n",
              "  @keyframes spin {\n",
              "    0% {\n",
              "      border-color: transparent;\n",
              "      border-bottom-color: var(--fill-color);\n",
              "      border-left-color: var(--fill-color);\n",
              "    }\n",
              "    20% {\n",
              "      border-color: transparent;\n",
              "      border-left-color: var(--fill-color);\n",
              "      border-top-color: var(--fill-color);\n",
              "    }\n",
              "    30% {\n",
              "      border-color: transparent;\n",
              "      border-left-color: var(--fill-color);\n",
              "      border-top-color: var(--fill-color);\n",
              "      border-right-color: var(--fill-color);\n",
              "    }\n",
              "    40% {\n",
              "      border-color: transparent;\n",
              "      border-right-color: var(--fill-color);\n",
              "      border-top-color: var(--fill-color);\n",
              "    }\n",
              "    60% {\n",
              "      border-color: transparent;\n",
              "      border-right-color: var(--fill-color);\n",
              "    }\n",
              "    80% {\n",
              "      border-color: transparent;\n",
              "      border-right-color: var(--fill-color);\n",
              "      border-bottom-color: var(--fill-color);\n",
              "    }\n",
              "    90% {\n",
              "      border-color: transparent;\n",
              "      border-bottom-color: var(--fill-color);\n",
              "    }\n",
              "  }\n",
              "</style>\n",
              "\n",
              "  <script>\n",
              "    async function quickchart(key) {\n",
              "      const quickchartButtonEl =\n",
              "        document.querySelector('#' + key + ' button');\n",
              "      quickchartButtonEl.disabled = true;  // To prevent multiple clicks.\n",
              "      quickchartButtonEl.classList.add('colab-df-spinner');\n",
              "      try {\n",
              "        const charts = await google.colab.kernel.invokeFunction(\n",
              "            'suggestCharts', [key], {});\n",
              "      } catch (error) {\n",
              "        console.error('Error during call to suggestCharts:', error);\n",
              "      }\n",
              "      quickchartButtonEl.classList.remove('colab-df-spinner');\n",
              "      quickchartButtonEl.classList.add('colab-df-quickchart-complete');\n",
              "    }\n",
              "    (() => {\n",
              "      let quickchartButtonEl =\n",
              "        document.querySelector('#df-534dc039-36e7-4515-a0ab-1814926aa7b6 button');\n",
              "      quickchartButtonEl.style.display =\n",
              "        google.colab.kernel.accessAllowed ? 'block' : 'none';\n",
              "    })();\n",
              "  </script>\n",
              "</div>\n",
              "\n",
              "    </div>\n",
              "  </div>\n"
            ],
            "application/vnd.google.colaboratory.intrinsic+json": {
              "type": "dataframe",
              "summary": "{\n  \"name\": \"df\",\n  \"rows\": 8,\n  \"fields\": [\n    {\n      \"column\": \"work_year\",\n      \"properties\": {\n        \"dtype\": \"number\",\n        \"std\": 1005.6000402402909,\n        \"min\": 0.6914482342671989,\n        \"max\": 3755.0,\n        \"num_unique_values\": 6,\n        \"samples\": [\n          3755.0,\n          2022.3736351531293,\n          2023.0\n        ],\n        \"semantic_type\": \"\",\n        \"description\": \"\"\n      }\n    },\n    {\n      \"column\": \"salary\",\n      \"properties\": {\n        \"dtype\": \"number\",\n        \"std\": 10684942.602896208,\n        \"min\": 3755.0,\n        \"max\": 30400000.0,\n        \"num_unique_values\": 8,\n        \"samples\": [\n          190695.57177097205,\n          138000.0,\n          3755.0\n        ],\n        \"semantic_type\": \"\",\n        \"description\": \"\"\n      }\n    },\n    {\n      \"column\": \"salary_in_usd\",\n      \"properties\": {\n        \"dtype\": \"number\",\n        \"std\": 142261.61341988808,\n        \"min\": 3755.0,\n        \"max\": 450000.0,\n        \"num_unique_values\": 8,\n        \"samples\": [\n          137570.38988015978,\n          135000.0,\n          3755.0\n        ],\n        \"semantic_type\": \"\",\n        \"description\": \"\"\n      }\n    },\n    {\n      \"column\": \"remote_ratio\",\n      \"properties\": {\n        \"dtype\": \"number\",\n        \"std\": 1313.3575027917377,\n        \"min\": 0.0,\n        \"max\": 3755.0,\n        \"num_unique_values\": 5,\n        \"samples\": [\n          46.271637816245004,\n          100.0,\n          48.589050470587566\n        ],\n        \"semantic_type\": \"\",\n        \"description\": \"\"\n      }\n    }\n  ]\n}"
            }
          },
          "metadata": {},
          "execution_count": 4
        }
      ]
    },
    {
      "cell_type": "code",
      "source": [
        "df.info() # Check for null values"
      ],
      "metadata": {
        "colab": {
          "base_uri": "https://localhost:8080/"
        },
        "id": "YHhy7NXgZwGK",
        "outputId": "02c89ef6-16ab-454e-ee64-d623113539d2"
      },
      "execution_count": 5,
      "outputs": [
        {
          "output_type": "stream",
          "name": "stdout",
          "text": [
            "<class 'pandas.core.frame.DataFrame'>\n",
            "RangeIndex: 3755 entries, 0 to 3754\n",
            "Data columns (total 11 columns):\n",
            " #   Column              Non-Null Count  Dtype \n",
            "---  ------              --------------  ----- \n",
            " 0   work_year           3755 non-null   int64 \n",
            " 1   experience_level    3755 non-null   object\n",
            " 2   employment_type     3755 non-null   object\n",
            " 3   job_title           3755 non-null   object\n",
            " 4   salary              3755 non-null   int64 \n",
            " 5   salary_currency     3755 non-null   object\n",
            " 6   salary_in_usd       3755 non-null   int64 \n",
            " 7   employee_residence  3755 non-null   object\n",
            " 8   remote_ratio        3755 non-null   int64 \n",
            " 9   company_location    3755 non-null   object\n",
            " 10  company_size        3755 non-null   object\n",
            "dtypes: int64(4), object(7)\n",
            "memory usage: 322.8+ KB\n"
          ]
        }
      ]
    },
    {
      "cell_type": "code",
      "source": [
        "df.shape"
      ],
      "metadata": {
        "colab": {
          "base_uri": "https://localhost:8080/"
        },
        "id": "N8yvhHxyZzgq",
        "outputId": "47e47c63-4b79-48aa-a5bc-edbfb832c3d6"
      },
      "execution_count": 6,
      "outputs": [
        {
          "output_type": "execute_result",
          "data": {
            "text/plain": [
              "(3755, 11)"
            ]
          },
          "metadata": {},
          "execution_count": 6
        }
      ]
    },
    {
      "cell_type": "code",
      "source": [
        "df.duplicated().value_counts() # Check for duplicate rows"
      ],
      "metadata": {
        "colab": {
          "base_uri": "https://localhost:8080/"
        },
        "id": "yAPmR6lsZ2uZ",
        "outputId": "a6bf696a-d437-4778-910e-41bc01d2f2bb"
      },
      "execution_count": 7,
      "outputs": [
        {
          "output_type": "execute_result",
          "data": {
            "text/plain": [
              "False    2584\n",
              "True     1171\n",
              "Name: count, dtype: int64"
            ]
          },
          "metadata": {},
          "execution_count": 7
        }
      ]
    },
    {
      "cell_type": "code",
      "source": [
        "duplicate_rows = df[df.duplicated()]\n",
        "duplicate_rows.head()"
      ],
      "metadata": {
        "colab": {
          "base_uri": "https://localhost:8080/",
          "height": 313
        },
        "id": "ofpOQuYtZ58w",
        "outputId": "a726ee8b-2b11-497b-b6b2-abdf41eb67b7"
      },
      "execution_count": 8,
      "outputs": [
        {
          "output_type": "execute_result",
          "data": {
            "text/plain": [
              "     work_year experience_level employment_type           job_title  salary  \\\n",
              "115       2023               SE              FT      Data Scientist  150000   \n",
              "123       2023               SE              FT  Analytics Engineer  289800   \n",
              "153       2023               MI              FT       Data Engineer  100000   \n",
              "154       2023               MI              FT       Data Engineer   70000   \n",
              "160       2023               SE              FT       Data Engineer  115000   \n",
              "\n",
              "    salary_currency  salary_in_usd employee_residence  remote_ratio  \\\n",
              "115             USD         150000                 US             0   \n",
              "123             USD         289800                 US             0   \n",
              "153             USD         100000                 US           100   \n",
              "154             USD          70000                 US           100   \n",
              "160             USD         115000                 US             0   \n",
              "\n",
              "    company_location company_size  \n",
              "115               US            M  \n",
              "123               US            M  \n",
              "153               US            M  \n",
              "154               US            M  \n",
              "160               US            M  "
            ],
            "text/html": [
              "\n",
              "  <div id=\"df-ca83f635-b152-4085-af11-c8ed83082dc0\" class=\"colab-df-container\">\n",
              "    <div>\n",
              "<style scoped>\n",
              "    .dataframe tbody tr th:only-of-type {\n",
              "        vertical-align: middle;\n",
              "    }\n",
              "\n",
              "    .dataframe tbody tr th {\n",
              "        vertical-align: top;\n",
              "    }\n",
              "\n",
              "    .dataframe thead th {\n",
              "        text-align: right;\n",
              "    }\n",
              "</style>\n",
              "<table border=\"1\" class=\"dataframe\">\n",
              "  <thead>\n",
              "    <tr style=\"text-align: right;\">\n",
              "      <th></th>\n",
              "      <th>work_year</th>\n",
              "      <th>experience_level</th>\n",
              "      <th>employment_type</th>\n",
              "      <th>job_title</th>\n",
              "      <th>salary</th>\n",
              "      <th>salary_currency</th>\n",
              "      <th>salary_in_usd</th>\n",
              "      <th>employee_residence</th>\n",
              "      <th>remote_ratio</th>\n",
              "      <th>company_location</th>\n",
              "      <th>company_size</th>\n",
              "    </tr>\n",
              "  </thead>\n",
              "  <tbody>\n",
              "    <tr>\n",
              "      <th>115</th>\n",
              "      <td>2023</td>\n",
              "      <td>SE</td>\n",
              "      <td>FT</td>\n",
              "      <td>Data Scientist</td>\n",
              "      <td>150000</td>\n",
              "      <td>USD</td>\n",
              "      <td>150000</td>\n",
              "      <td>US</td>\n",
              "      <td>0</td>\n",
              "      <td>US</td>\n",
              "      <td>M</td>\n",
              "    </tr>\n",
              "    <tr>\n",
              "      <th>123</th>\n",
              "      <td>2023</td>\n",
              "      <td>SE</td>\n",
              "      <td>FT</td>\n",
              "      <td>Analytics Engineer</td>\n",
              "      <td>289800</td>\n",
              "      <td>USD</td>\n",
              "      <td>289800</td>\n",
              "      <td>US</td>\n",
              "      <td>0</td>\n",
              "      <td>US</td>\n",
              "      <td>M</td>\n",
              "    </tr>\n",
              "    <tr>\n",
              "      <th>153</th>\n",
              "      <td>2023</td>\n",
              "      <td>MI</td>\n",
              "      <td>FT</td>\n",
              "      <td>Data Engineer</td>\n",
              "      <td>100000</td>\n",
              "      <td>USD</td>\n",
              "      <td>100000</td>\n",
              "      <td>US</td>\n",
              "      <td>100</td>\n",
              "      <td>US</td>\n",
              "      <td>M</td>\n",
              "    </tr>\n",
              "    <tr>\n",
              "      <th>154</th>\n",
              "      <td>2023</td>\n",
              "      <td>MI</td>\n",
              "      <td>FT</td>\n",
              "      <td>Data Engineer</td>\n",
              "      <td>70000</td>\n",
              "      <td>USD</td>\n",
              "      <td>70000</td>\n",
              "      <td>US</td>\n",
              "      <td>100</td>\n",
              "      <td>US</td>\n",
              "      <td>M</td>\n",
              "    </tr>\n",
              "    <tr>\n",
              "      <th>160</th>\n",
              "      <td>2023</td>\n",
              "      <td>SE</td>\n",
              "      <td>FT</td>\n",
              "      <td>Data Engineer</td>\n",
              "      <td>115000</td>\n",
              "      <td>USD</td>\n",
              "      <td>115000</td>\n",
              "      <td>US</td>\n",
              "      <td>0</td>\n",
              "      <td>US</td>\n",
              "      <td>M</td>\n",
              "    </tr>\n",
              "  </tbody>\n",
              "</table>\n",
              "</div>\n",
              "    <div class=\"colab-df-buttons\">\n",
              "\n",
              "  <div class=\"colab-df-container\">\n",
              "    <button class=\"colab-df-convert\" onclick=\"convertToInteractive('df-ca83f635-b152-4085-af11-c8ed83082dc0')\"\n",
              "            title=\"Convert this dataframe to an interactive table.\"\n",
              "            style=\"display:none;\">\n",
              "\n",
              "  <svg xmlns=\"http://www.w3.org/2000/svg\" height=\"24px\" viewBox=\"0 -960 960 960\">\n",
              "    <path d=\"M120-120v-720h720v720H120Zm60-500h600v-160H180v160Zm220 220h160v-160H400v160Zm0 220h160v-160H400v160ZM180-400h160v-160H180v160Zm440 0h160v-160H620v160ZM180-180h160v-160H180v160Zm440 0h160v-160H620v160Z\"/>\n",
              "  </svg>\n",
              "    </button>\n",
              "\n",
              "  <style>\n",
              "    .colab-df-container {\n",
              "      display:flex;\n",
              "      gap: 12px;\n",
              "    }\n",
              "\n",
              "    .colab-df-convert {\n",
              "      background-color: #E8F0FE;\n",
              "      border: none;\n",
              "      border-radius: 50%;\n",
              "      cursor: pointer;\n",
              "      display: none;\n",
              "      fill: #1967D2;\n",
              "      height: 32px;\n",
              "      padding: 0 0 0 0;\n",
              "      width: 32px;\n",
              "    }\n",
              "\n",
              "    .colab-df-convert:hover {\n",
              "      background-color: #E2EBFA;\n",
              "      box-shadow: 0px 1px 2px rgba(60, 64, 67, 0.3), 0px 1px 3px 1px rgba(60, 64, 67, 0.15);\n",
              "      fill: #174EA6;\n",
              "    }\n",
              "\n",
              "    .colab-df-buttons div {\n",
              "      margin-bottom: 4px;\n",
              "    }\n",
              "\n",
              "    [theme=dark] .colab-df-convert {\n",
              "      background-color: #3B4455;\n",
              "      fill: #D2E3FC;\n",
              "    }\n",
              "\n",
              "    [theme=dark] .colab-df-convert:hover {\n",
              "      background-color: #434B5C;\n",
              "      box-shadow: 0px 1px 3px 1px rgba(0, 0, 0, 0.15);\n",
              "      filter: drop-shadow(0px 1px 2px rgba(0, 0, 0, 0.3));\n",
              "      fill: #FFFFFF;\n",
              "    }\n",
              "  </style>\n",
              "\n",
              "    <script>\n",
              "      const buttonEl =\n",
              "        document.querySelector('#df-ca83f635-b152-4085-af11-c8ed83082dc0 button.colab-df-convert');\n",
              "      buttonEl.style.display =\n",
              "        google.colab.kernel.accessAllowed ? 'block' : 'none';\n",
              "\n",
              "      async function convertToInteractive(key) {\n",
              "        const element = document.querySelector('#df-ca83f635-b152-4085-af11-c8ed83082dc0');\n",
              "        const dataTable =\n",
              "          await google.colab.kernel.invokeFunction('convertToInteractive',\n",
              "                                                    [key], {});\n",
              "        if (!dataTable) return;\n",
              "\n",
              "        const docLinkHtml = 'Like what you see? Visit the ' +\n",
              "          '<a target=\"_blank\" href=https://colab.research.google.com/notebooks/data_table.ipynb>data table notebook</a>'\n",
              "          + ' to learn more about interactive tables.';\n",
              "        element.innerHTML = '';\n",
              "        dataTable['output_type'] = 'display_data';\n",
              "        await google.colab.output.renderOutput(dataTable, element);\n",
              "        const docLink = document.createElement('div');\n",
              "        docLink.innerHTML = docLinkHtml;\n",
              "        element.appendChild(docLink);\n",
              "      }\n",
              "    </script>\n",
              "  </div>\n",
              "\n",
              "\n",
              "<div id=\"df-e58cd8b5-d954-467a-a14c-be5952265b08\">\n",
              "  <button class=\"colab-df-quickchart\" onclick=\"quickchart('df-e58cd8b5-d954-467a-a14c-be5952265b08')\"\n",
              "            title=\"Suggest charts\"\n",
              "            style=\"display:none;\">\n",
              "\n",
              "<svg xmlns=\"http://www.w3.org/2000/svg\" height=\"24px\"viewBox=\"0 0 24 24\"\n",
              "     width=\"24px\">\n",
              "    <g>\n",
              "        <path d=\"M19 3H5c-1.1 0-2 .9-2 2v14c0 1.1.9 2 2 2h14c1.1 0 2-.9 2-2V5c0-1.1-.9-2-2-2zM9 17H7v-7h2v7zm4 0h-2V7h2v10zm4 0h-2v-4h2v4z\"/>\n",
              "    </g>\n",
              "</svg>\n",
              "  </button>\n",
              "\n",
              "<style>\n",
              "  .colab-df-quickchart {\n",
              "      --bg-color: #E8F0FE;\n",
              "      --fill-color: #1967D2;\n",
              "      --hover-bg-color: #E2EBFA;\n",
              "      --hover-fill-color: #174EA6;\n",
              "      --disabled-fill-color: #AAA;\n",
              "      --disabled-bg-color: #DDD;\n",
              "  }\n",
              "\n",
              "  [theme=dark] .colab-df-quickchart {\n",
              "      --bg-color: #3B4455;\n",
              "      --fill-color: #D2E3FC;\n",
              "      --hover-bg-color: #434B5C;\n",
              "      --hover-fill-color: #FFFFFF;\n",
              "      --disabled-bg-color: #3B4455;\n",
              "      --disabled-fill-color: #666;\n",
              "  }\n",
              "\n",
              "  .colab-df-quickchart {\n",
              "    background-color: var(--bg-color);\n",
              "    border: none;\n",
              "    border-radius: 50%;\n",
              "    cursor: pointer;\n",
              "    display: none;\n",
              "    fill: var(--fill-color);\n",
              "    height: 32px;\n",
              "    padding: 0;\n",
              "    width: 32px;\n",
              "  }\n",
              "\n",
              "  .colab-df-quickchart:hover {\n",
              "    background-color: var(--hover-bg-color);\n",
              "    box-shadow: 0 1px 2px rgba(60, 64, 67, 0.3), 0 1px 3px 1px rgba(60, 64, 67, 0.15);\n",
              "    fill: var(--button-hover-fill-color);\n",
              "  }\n",
              "\n",
              "  .colab-df-quickchart-complete:disabled,\n",
              "  .colab-df-quickchart-complete:disabled:hover {\n",
              "    background-color: var(--disabled-bg-color);\n",
              "    fill: var(--disabled-fill-color);\n",
              "    box-shadow: none;\n",
              "  }\n",
              "\n",
              "  .colab-df-spinner {\n",
              "    border: 2px solid var(--fill-color);\n",
              "    border-color: transparent;\n",
              "    border-bottom-color: var(--fill-color);\n",
              "    animation:\n",
              "      spin 1s steps(1) infinite;\n",
              "  }\n",
              "\n",
              "  @keyframes spin {\n",
              "    0% {\n",
              "      border-color: transparent;\n",
              "      border-bottom-color: var(--fill-color);\n",
              "      border-left-color: var(--fill-color);\n",
              "    }\n",
              "    20% {\n",
              "      border-color: transparent;\n",
              "      border-left-color: var(--fill-color);\n",
              "      border-top-color: var(--fill-color);\n",
              "    }\n",
              "    30% {\n",
              "      border-color: transparent;\n",
              "      border-left-color: var(--fill-color);\n",
              "      border-top-color: var(--fill-color);\n",
              "      border-right-color: var(--fill-color);\n",
              "    }\n",
              "    40% {\n",
              "      border-color: transparent;\n",
              "      border-right-color: var(--fill-color);\n",
              "      border-top-color: var(--fill-color);\n",
              "    }\n",
              "    60% {\n",
              "      border-color: transparent;\n",
              "      border-right-color: var(--fill-color);\n",
              "    }\n",
              "    80% {\n",
              "      border-color: transparent;\n",
              "      border-right-color: var(--fill-color);\n",
              "      border-bottom-color: var(--fill-color);\n",
              "    }\n",
              "    90% {\n",
              "      border-color: transparent;\n",
              "      border-bottom-color: var(--fill-color);\n",
              "    }\n",
              "  }\n",
              "</style>\n",
              "\n",
              "  <script>\n",
              "    async function quickchart(key) {\n",
              "      const quickchartButtonEl =\n",
              "        document.querySelector('#' + key + ' button');\n",
              "      quickchartButtonEl.disabled = true;  // To prevent multiple clicks.\n",
              "      quickchartButtonEl.classList.add('colab-df-spinner');\n",
              "      try {\n",
              "        const charts = await google.colab.kernel.invokeFunction(\n",
              "            'suggestCharts', [key], {});\n",
              "      } catch (error) {\n",
              "        console.error('Error during call to suggestCharts:', error);\n",
              "      }\n",
              "      quickchartButtonEl.classList.remove('colab-df-spinner');\n",
              "      quickchartButtonEl.classList.add('colab-df-quickchart-complete');\n",
              "    }\n",
              "    (() => {\n",
              "      let quickchartButtonEl =\n",
              "        document.querySelector('#df-e58cd8b5-d954-467a-a14c-be5952265b08 button');\n",
              "      quickchartButtonEl.style.display =\n",
              "        google.colab.kernel.accessAllowed ? 'block' : 'none';\n",
              "    })();\n",
              "  </script>\n",
              "</div>\n",
              "\n",
              "    </div>\n",
              "  </div>\n"
            ],
            "application/vnd.google.colaboratory.intrinsic+json": {
              "type": "dataframe",
              "variable_name": "duplicate_rows",
              "summary": "{\n  \"name\": \"duplicate_rows\",\n  \"rows\": 1171,\n  \"fields\": [\n    {\n      \"column\": \"work_year\",\n      \"properties\": {\n        \"dtype\": \"number\",\n        \"std\": 0,\n        \"min\": 2020,\n        \"max\": 2023,\n        \"num_unique_values\": 4,\n        \"samples\": [\n          2022,\n          2021,\n          2023\n        ],\n        \"semantic_type\": \"\",\n        \"description\": \"\"\n      }\n    },\n    {\n      \"column\": \"experience_level\",\n      \"properties\": {\n        \"dtype\": \"category\",\n        \"num_unique_values\": 4,\n        \"samples\": [\n          \"MI\",\n          \"EX\",\n          \"SE\"\n        ],\n        \"semantic_type\": \"\",\n        \"description\": \"\"\n      }\n    },\n    {\n      \"column\": \"employment_type\",\n      \"properties\": {\n        \"dtype\": \"category\",\n        \"num_unique_values\": 1,\n        \"samples\": [\n          \"FT\"\n        ],\n        \"semantic_type\": \"\",\n        \"description\": \"\"\n      }\n    },\n    {\n      \"column\": \"job_title\",\n      \"properties\": {\n        \"dtype\": \"category\",\n        \"num_unique_values\": 19,\n        \"samples\": [\n          \"Data Scientist\"\n        ],\n        \"semantic_type\": \"\",\n        \"description\": \"\"\n      }\n    },\n    {\n      \"column\": \"salary\",\n      \"properties\": {\n        \"dtype\": \"number\",\n        \"std\": 57766,\n        \"min\": 24000,\n        \"max\": 1000000,\n        \"num_unique_values\": 228,\n        \"samples\": [\n          112900\n        ],\n        \"semantic_type\": \"\",\n        \"description\": \"\"\n      }\n    },\n    {\n      \"column\": \"salary_currency\",\n      \"properties\": {\n        \"dtype\": \"category\",\n        \"num_unique_values\": 4,\n        \"samples\": [\n          \"EUR\"\n        ],\n        \"semantic_type\": \"\",\n        \"description\": \"\"\n      }\n    },\n    {\n      \"column\": \"salary_in_usd\",\n      \"properties\": {\n        \"dtype\": \"number\",\n        \"std\": 51804,\n        \"min\": 13493,\n        \"max\": 318300,\n        \"num_unique_values\": 246,\n        \"samples\": [\n          135000\n        ],\n        \"semantic_type\": \"\",\n        \"description\": \"\"\n      }\n    },\n    {\n      \"column\": \"employee_residence\",\n      \"properties\": {\n        \"dtype\": \"category\",\n        \"num_unique_values\": 8,\n        \"samples\": [\n          \"ES\"\n        ],\n        \"semantic_type\": \"\",\n        \"description\": \"\"\n      }\n    },\n    {\n      \"column\": \"remote_ratio\",\n      \"properties\": {\n        \"dtype\": \"number\",\n        \"std\": 48,\n        \"min\": 0,\n        \"max\": 100,\n        \"num_unique_values\": 3,\n        \"samples\": [\n          0\n        ],\n        \"semantic_type\": \"\",\n        \"description\": \"\"\n      }\n    },\n    {\n      \"column\": \"company_location\",\n      \"properties\": {\n        \"dtype\": \"category\",\n        \"num_unique_values\": 8,\n        \"samples\": [\n          \"ES\"\n        ],\n        \"semantic_type\": \"\",\n        \"description\": \"\"\n      }\n    },\n    {\n      \"column\": \"company_size\",\n      \"properties\": {\n        \"dtype\": \"category\",\n        \"num_unique_values\": 3,\n        \"samples\": [\n          \"M\"\n        ],\n        \"semantic_type\": \"\",\n        \"description\": \"\"\n      }\n    }\n  ]\n}"
            }
          },
          "metadata": {},
          "execution_count": 8
        }
      ]
    },
    {
      "cell_type": "markdown",
      "source": [
        "## **Univariate Analysis**"
      ],
      "metadata": {
        "id": "ksW3XV3BaHkW"
      }
    },
    {
      "cell_type": "markdown",
      "source": [
        "This type of analysis focuses on examining one variable at a time. It involves exploring the distribution, central tendency, and dispersion of a single variable. Univariate analysis techniques include histograms, box plots, summary statistics, and frequency tables."
      ],
      "metadata": {
        "id": "uUw4ICAE5oTb"
      }
    },
    {
      "cell_type": "markdown",
      "source": [
        "### Salary distribution"
      ],
      "metadata": {
        "id": "E5xDa2U7aOy2"
      }
    },
    {
      "cell_type": "code",
      "source": [
        "df.salary_in_usd.plot(kind=\"hist\")"
      ],
      "metadata": {
        "colab": {
          "base_uri": "https://localhost:8080/",
          "height": 448
        },
        "id": "qrsd3OLaaMYc",
        "outputId": "401a15a7-4e76-4f44-8720-e4cac9c3f7fb"
      },
      "execution_count": 9,
      "outputs": [
        {
          "output_type": "execute_result",
          "data": {
            "text/plain": [
              "<Axes: ylabel='Frequency'>"
            ]
          },
          "metadata": {},
          "execution_count": 9
        },
        {
          "output_type": "display_data",
          "data": {
            "text/plain": [
              "<Figure size 640x480 with 1 Axes>"
            ],
            "image/png": "[encoded data removed]"
          },
          "metadata": {}
        }
      ]
    },
    {
      "cell_type": "markdown",
      "source": [
        "### Work year frequency distribution"
      ],
      "metadata": {
        "id": "9mU9lLZPaYfW"
      }
    },
    {
      "cell_type": "code",
      "source": [
        "print(df.work_year.value_counts()) # Ordinal encoding\n",
        "df.work_year.value_counts().plot(kind=\"bar\");"
      ],
      "metadata": {
        "colab": {
          "base_uri": "https://localhost:8080/",
          "height": 0
        },
        "id": "wLNBnj-zaXTj",
        "outputId": "cf30765c-a3f8-40fa-b2e1-014401bbccaa"
      },
      "execution_count": 10,
      "outputs": [
        {
          "output_type": "stream",
          "name": "stdout",
          "text": [
            "work_year\n",
            "2023    1785\n",
            "2022    1664\n",
            "2021     230\n",
            "2020      76\n",
            "Name: count, dtype: int64\n"
          ]
        },
        {
          "output_type": "display_data",
          "data": {
            "text/plain": [
              "<Figure size 640x480 with 1 Axes>"
            ],
            "image/png": "[encoded data removed]"
          },
          "metadata": {}
        }
      ]
    },
    {
      "cell_type": "markdown",
      "source": [
        "This output shows the count of data entries (presumably job postings or records) for each year in the dataset:\n",
        "\n",
        "2023: 1785 entries\n",
        "\n",
        "2022: 1664 entries\n",
        "\n",
        "2021: 230 entries\n",
        "\n",
        "2020: 76 entries\n",
        "\n",
        "This distribution gives an idea of the data's temporal coverage, indicating that the dataset is primarily focused on the years 2022 and 2023, with fewer entries from 2021 and 2020."
      ],
      "metadata": {
        "id": "lfa6jNoJ8nhc"
      }
    },
    {
      "cell_type": "code",
      "source": [
        "(df.work_year.value_counts()*100/len(df))"
      ],
      "metadata": {
        "colab": {
          "base_uri": "https://localhost:8080/"
        },
        "id": "rI8W3Eatah_h",
        "outputId": "dc1fe233-e9f3-45b4-9069-f11df2685214"
      },
      "execution_count": 11,
      "outputs": [
        {
          "output_type": "execute_result",
          "data": {
            "text/plain": [
              "work_year\n",
              "2023    47.536618\n",
              "2022    44.314248\n",
              "2021     6.125166\n",
              "2020     2.023968\n",
              "Name: count, dtype: float64"
            ]
          },
          "metadata": {},
          "execution_count": 11
        }
      ]
    },
    {
      "cell_type": "markdown",
      "source": [
        "The code calculates the percentage distribution of job postings by year in the dataset. It shows that approximately 47.54% of the job postings are from 2023, 44.31% from 2022, 6.13% from 2021, and 2.02% from 2020."
      ],
      "metadata": {
        "id": "xzVND-EH89Bs"
      }
    },
    {
      "cell_type": "markdown",
      "source": [
        "### Experience level frequency distribution"
      ],
      "metadata": {
        "id": "kC17LxN9alVN"
      }
    },
    {
      "cell_type": "code",
      "source": [
        "print(df.experience_level.value_counts()) # Ordinal Encoding\n",
        "df.experience_level.value_counts().plot(kind=\"bar\");"
      ],
      "metadata": {
        "colab": {
          "base_uri": "https://localhost:8080/",
          "height": 0
        },
        "id": "wazWvVT9akg2",
        "outputId": "68db4a70-5bd4-404e-b619-c9d3bd41ead0"
      },
      "execution_count": 12,
      "outputs": [
        {
          "output_type": "stream",
          "name": "stdout",
          "text": [
            "experience_level\n",
            "SE    2516\n",
            "MI     805\n",
            "EN     320\n",
            "EX     114\n",
            "Name: count, dtype: int64\n"
          ]
        },
        {
          "output_type": "display_data",
          "data": {
            "text/plain": [
              "<Figure size 640x480 with 1 Axes>"
            ],
            "image/png": "[encoded data removed]"
          },
          "metadata": {}
        }
      ]
    },
    {
      "cell_type": "markdown",
      "source": [
        "The analysis reveals that the dataset contains 2516 job postings for Senior-level roles (SE), 805 for Mid-level roles (MI), 320 for Entry-level roles (EN), and 114 for Experienced-level roles (EX)."
      ],
      "metadata": {
        "id": "6LIIG-kO9Ga1"
      }
    },
    {
      "cell_type": "code",
      "source": [
        "(df.experience_level.value_counts()*100/len(df))"
      ],
      "metadata": {
        "colab": {
          "base_uri": "https://localhost:8080/"
        },
        "id": "kv8FrTwxaph9",
        "outputId": "ea14498e-debd-48ec-88c6-4644d9acc50c"
      },
      "execution_count": 13,
      "outputs": [
        {
          "output_type": "execute_result",
          "data": {
            "text/plain": [
              "experience_level\n",
              "SE    67.003995\n",
              "MI    21.438083\n",
              "EN     8.521971\n",
              "EX     3.035952\n",
              "Name: count, dtype: float64"
            ]
          },
          "metadata": {},
          "execution_count": 13
        }
      ]
    },
    {
      "cell_type": "markdown",
      "source": [
        "The dataset is predominantly composed of Senior-level (SE) professionals, accounting for 67.01% of the entries. Mid-level (MI) employees make up 21.43%, while Entry-level (EN) and Experienced (EX) individuals represent 8.52% and 3.03%, respectively."
      ],
      "metadata": {
        "id": "F5HMfDkP9cJ3"
      }
    },
    {
      "cell_type": "markdown",
      "source": [
        "### Employment type frequency distribution"
      ],
      "metadata": {
        "id": "75WYoQAzasRO"
      }
    },
    {
      "cell_type": "code",
      "source": [
        "print(df.employment_type.value_counts()) # One-hot encoding\n",
        "df.employment_type.value_counts().plot(kind=\"bar\");"
      ],
      "metadata": {
        "colab": {
          "base_uri": "https://localhost:8080/",
          "height": 0
        },
        "id": "TOVIzpZfau4r",
        "outputId": "d725fede-edf0-46b6-bc3f-4799aff6798a"
      },
      "execution_count": 14,
      "outputs": [
        {
          "output_type": "stream",
          "name": "stdout",
          "text": [
            "employment_type\n",
            "FT    3718\n",
            "PT      17\n",
            "CT      10\n",
            "FL      10\n",
            "Name: count, dtype: int64\n"
          ]
        },
        {
          "output_type": "display_data",
          "data": {
            "text/plain": [
              "<Figure size 640x480 with 1 Axes>"
            ],
            "image/png": "[encoded data removed]"
          },
          "metadata": {}
        }
      ]
    },
    {
      "cell_type": "markdown",
      "source": [
        "The dataset is primarily comprised of Full-Time (FT) employees, constituting 98.97% of the entries. Part-Time (PT), Contract (CT), and Freelance (FL) employees each make up a very small percentage of the dataset, at 0.45%, 0.26%, and 0.26%, respectively."
      ],
      "metadata": {
        "id": "2h0wKAbC9lii"
      }
    },
    {
      "cell_type": "code",
      "source": [
        "(df.employment_type.value_counts()*100/len(df))"
      ],
      "metadata": {
        "colab": {
          "base_uri": "https://localhost:8080/"
        },
        "id": "TdzHdCIwaxGc",
        "outputId": "45d0c88d-37d8-49e1-a37b-b6d99aacf55a"
      },
      "execution_count": 15,
      "outputs": [
        {
          "output_type": "execute_result",
          "data": {
            "text/plain": [
              "employment_type\n",
              "FT    99.014647\n",
              "PT     0.452730\n",
              "CT     0.266312\n",
              "FL     0.266312\n",
              "Name: count, dtype: float64"
            ]
          },
          "metadata": {},
          "execution_count": 15
        }
      ]
    },
    {
      "cell_type": "markdown",
      "source": [
        "The dataset is predominantly composed of Full-Time (FT) employees, accounting for 99.01% of the entries. Part-Time (PT), Contract (CT), and Freelance (FL) employees each represent a very small portion of the dataset, at 0.45%, 0.27%, and 0.27%, respectively."
      ],
      "metadata": {
        "id": "2zjPIjtc9yk1"
      }
    },
    {
      "cell_type": "markdown",
      "source": [
        "### Job categories frequency distribution"
      ],
      "metadata": {
        "id": "6OKfYkQVa0Zi"
      }
    },
    {
      "cell_type": "code",
      "source": [
        "job_categories = {\n",
        "    \"Principal Data Scientist\": \"Data Science & Machine Learning\",\n",
        "    \"ML Engineer\": \"Data Science & Machine Learning\",\n",
        "    \"Data Scientist\": \"Data Science & Machine Learning\",\n",
        "    \"Applied Scientist\": \"Data Science & Machine Learning\",\n",
        "    \"Research Scientist\": \"Data Science & Machine Learning\",\n",
        "    \"Applied Machine Learning Engineer\": \"Data Science & Machine Learning\",\n",
        "    \"Machine Learning Researcher\": \"Data Science & Machine Learning\",\n",
        "    \"Machine Learning Scientist\": \"Data Science & Machine Learning\",\n",
        "    \"Applied Machine Learning Scientist\": \"Data Science & Machine Learning\",\n",
        "    \"Deep Learning Researcher\": \"Data Science & Machine Learning\",\n",
        "    \"Machine Learning Infrastructure Engineer\": \"Data Science & Machine Learning\",\n",
        "    \"NLP Engineer\": \"Data Science & Machine Learning\",\n",
        "    \"Machine Learning Research Engineer\": \"Data Science & Machine Learning\",\n",
        "    \"Principal Machine Learning Engineer\": \"Data Science & Machine Learning\",\n",
        "    \"Machine Learning Manager\": \"Data Science & Machine Learning\",\n",
        "    \"Lead Machine Learning Engineer\": \"Data Science & Machine Learning\",\n",
        "    \"Machine Learning Developer\": \"Data Science & Machine Learning\",\n",
        "    \"Data Analyst\": \"Data Analysis & Analytics\",\n",
        "    \"Analytics Engineer\": \"Data Analysis & Analytics\",\n",
        "    \"Data Analytics Manager\": \"Data Analysis & Analytics\",\n",
        "    \"Business Data Analyst\": \"Data Analysis & Analytics\",\n",
        "    \"Staff Data Analyst\": \"Data Analysis & Analytics\",\n",
        "    \"Lead Data Analyst\": \"Data Analysis & Analytics\",\n",
        "    \"BI Data Analyst\": \"Data Analysis & Analytics\",\n",
        "    \"Insight Analyst\": \"Data Analysis & Analytics\",\n",
        "    \"BI Analyst\": \"Data Analysis & Analytics\",\n",
        "    \"Data Analytics Specialist\": \"Data Analysis & Analytics\",\n",
        "    \"Data Analytics Lead\": \"Data Analysis & Analytics\",\n",
        "    \"Product Data Analyst\": \"Data Analysis & Analytics\",\n",
        "    \"Marketing Data Analyst\": \"Data Analysis & Analytics\",\n",
        "    \"Finance Data Analyst\": \"Data Analysis & Analytics\",\n",
        "    \"Data Modeler\": \"Data Engineering & Infrastructure\",\n",
        "    \"Data Engineer\": \"Data Engineering & Infrastructure\",\n",
        "    \"ETL Engineer\": \"Data Engineering & Infrastructure\",\n",
        "    \"Data DevOps Engineer\": \"Data Engineering & Infrastructure\",\n",
        "    \"Big Data Engineer\": \"Data Engineering & Infrastructure\",\n",
        "    \"Cloud Database Engineer\": \"Data Engineering & Infrastructure\",\n",
        "    \"Data Infrastructure Engineer\": \"Data Engineering & Infrastructure\",\n",
        "    \"Software Data Engineer\": \"Data Engineering & Infrastructure\",\n",
        "    \"Data Operations Engineer\": \"Data Engineering & Infrastructure\",\n",
        "    \"Cloud Data Engineer\": \"Data Engineering & Infrastructure\",\n",
        "    \"ETL Developer\": \"Data Engineering & Infrastructure\",\n",
        "    \"Cloud Data Architect\": \"Data Engineering & Infrastructure\",\n",
        "    \"Lead Data Engineer\": \"Data Engineering & Infrastructure\",\n",
        "    \"Principal Data Engineer\": \"Data Engineering & Infrastructure\",\n",
        "    \"Staff Data Scientist\": \"Data Engineering & Infrastructure\",\n",
        "    \"Business Intelligence Engineer\": \"Business Intelligence (BI)\",\n",
        "    \"BI Data Engineer\": \"Business Intelligence (BI)\",\n",
        "    \"BI Developer\": \"Business Intelligence (BI)\",\n",
        "    \"Head of Data Science\": \"Business Intelligence (BI)\",\n",
        "    \"BI Data Analyst\": \"Business Intelligence (BI)\",\n",
        "    \"Power BI Developer\": \"Business Intelligence (BI)\",\n",
        "    \"Data Strategist\": \"Data Management\",\n",
        "    \"Director of Data Science\": \"Data Management\",\n",
        "    \"Head of Data\": \"Data Management\",\n",
        "    \"Data Science Manager\": \"Data Management\",\n",
        "    \"Data Manager\": \"Data Management\",\n",
        "    \"Manager Data Management\": \"Data Management\",\n",
        "    \"Data Management Specialist\": \"Data Management\",\n",
        "    \"MLOps Engineer\": \"AI & Machine Learning Operations (MLOps)\",\n",
        "    \"Computer Vision Engineer\": \"Computer Vision\",\n",
        "    \"Computer Vision Software Engineer\": \"Computer Vision\",\n",
        "    \"3D Computer Vision Researcher\": \"Computer Vision\",\n",
        "    \"AI Developer\": \"Artificial Intelligence (AI)\",\n",
        "    \"AI Scientist\": \"Artificial Intelligence (AI)\",\n",
        "    \"Head of Machine Learning\": \"Artificial Intelligence (AI)\",\n",
        "    \"AI Programmer\": \"Artificial Intelligence (AI)\",\n",
        "    \"Data Quality Analyst\": \"Compliance & Quality Assurance\",\n",
        "    \"Compliance Data Analyst\": \"Compliance & Quality Assurance\",\n",
        "    \"Autonomous Vehicle Technician\": \"Compliance & Quality Assurance\",  # Assumed mapping due to similarity\n",
        "    \"Applied Machine Learning Scientist\": \"Data Science & Machine Learning\",  # Assumed mapping\n",
        "    \"Lead Data Scientist\": \"Data Science & Machine Learning\",  # Assumed mapping\n",
        "    \"Data Architect\": \"Data Engineering & Infrastructure\",  # Assumed mapping\n",
        "    \"Finance Data Analyst\": \"Data Analysis & Analytics\",  # Duplicate mapping\n",
        "    \"Data Lead\": \"Data Management\",  # Assumed mapping\n",
        "    \"Data Science Engineer\": \"Data Engineering & Infrastructure\",  # Assumed mapping\n",
        "    \"Data Science Lead\": \"Data Science & Machine Learning\",  # Assumed mapping\n",
        "    \"Deep Learning Engineer\": \"Data Science & Machine Learning\",  # Assumed mapping\n",
        "    \"Machine Learning Software Engineer\": \"Data Science & Machine Learning\",  # Assumed mapping\n",
        "    \"Big Data Architect\": \"Data Engineering & Infrastructure\",  # Assumed mapping\n",
        "    \"Cloud Database Engineer\": \"Data Engineering & Infrastructure\",  # Duplicate mapping\n",
        "    \"Data Analytics Engineer\": \"Data Analysis & Analytics\",  # Assumed mapping\n",
        "    \"Data Management Specialist\": \"Data Management\",  # Duplicate mapping\n",
        "    \"Data Scientist Lead\": \"Data Science & Machine Learning\",  # Assumed mapping\n",
        "    \"Cloud Data Engineer\": \"Data Engineering & Infrastructure\",  # Duplicate mapping\n",
        "    \"Data Operations Analyst\": \"Data Engineering & Infrastructure\",  # Assumed mapping\n",
        "    \"Marketing Data Analyst\": \"Data Analysis & Analytics\",  # Duplicate mapping\n",
        "    \"Power BI Developer\": \"Business Intelligence (BI)\",  # Duplicate mapping\n",
        "    \"Product Data Scientist\": \"Product & Marketing Data\",  # Duplicate mapping\n",
        "    \"Financial Data Analyst\": \"Data Analysis & Analytics\",  # Assumed mapping\n",
        "    \"Data Science Consultant\": \"Data Management\",  # Assumed mapping\n",
        "    \"AI Developer\": \"Artificial Intelligence (AI)\",  # Duplicate mapping\n",
        "    \"Data Analytics Specialist\": \"Data Analysis & Analytics\",  # Duplicate mapping\n",
        "    \"Business Data Analyst\": \"Data Analysis & Analytics\",  # Duplicate mapping\n",
        "    \"Lead Data Engineer\": \"Data Engineering & Infrastructure\",  # Duplicate mapping\n",
        "    \"BI Data Engineer\": \"Business Intelligence (BI)\",  # Duplicate mapping\n",
        "    \"Data Engineer\": \"Data Engineering & Infrastructure\",  # Duplicate mapping\n",
        "    \"BI Developer\": \"Business Intelligence (BI)\",  # Duplicate mapping\n",
        "    \"Data Science Tech Lead\": \"Data Science & Machine Learning\",  # Assumed mapping\n",
        "    \"Data Operations Engineer\": \"Data Engineering & Infrastructure\",  # Duplicate mapping\n",
        "    \"BI Analyst\": \"Data Analysis & Analytics\",  # Duplicate mapping\n",
        "    \"Data Science Consultant\": \"Data Science & Machine Learning\",  # Assumed mapping\n",
        "    \"Data Science Lead\": \"Data Science & Machine Learning\",  # Duplicate mapping\n",
        "    \"Lead Data Scientist\": \"Data Science & Machine Learning\",  # Duplicate mapping\n",
        "    \"Data Scientist Lead\": \"Data Science & Machine Learning\",  # Duplicate mapping\n",
        "    \"Data Operations Analyst\": \"Data Engineering & Infrastructure\",  # Duplicate mapping\n",
        "    \"Marketing Data Engineer\": \"Product & Marketing Data\",  # Duplicate mapping\n",
        "    \"AI Programmer\": \"Artificial Intelligence (AI)\",  # Duplicate mapping\n",
        "    \"Computer Vision Software Engineer\": \"Computer Vision\",  # Duplicate mapping\n",
        "    \"Azure Data Engineer\": \"Data Engineering & Infrastructure\",  # Assumed mapping\n",
        "    \"Principal Data Architect\": \"Data Engineering & Infrastructure\",  # Assumed mapping\n",
        "    \"Data Analytics Consultant\": \"Data Analysis & Analytics\",  # Assumed mapping\n",
        "    \"Data Management Specialist\": \"Data Management\",  # Duplicate mapping\n",
        "    \"Data Scientist\": \"Data Science & Machine Learning\",  # Duplicate mapping\n",
        "    \"Data Manager\": \"Data Management\",  # Assumed mapping\n",
        "    \"Software Data Engineer\": \"Data Engineering & Infrastructure\",  # Duplicate mapping\n",
        "    \"Research Engineer\": \"Data Science & Machine Learning\",\n",
        "    \"Machine Learning Engineer\": \"Data Science & Machine Learning\",\n",
        "    \"Applied Data Scientist\": \"Data Science & Machine Learning\",\n",
        "    \"Data Specialist\": \"Data Engineering & Infrastructure\",\n",
        "    \"Principal Data Analyst\": \"Data Analysis & Analytics\"\n",
        "}\n",
        "\n",
        "# Job titles were organized into 10 categories due to redundancies\n",
        "mapped_job_titles = df.job_title.map(lambda x: job_categories[x])\n",
        "print(mapped_job_titles.value_counts()) # One-hot encoding\n",
        "mapped_job_titles.value_counts().plot(kind=\"bar\");"
      ],
      "metadata": {
        "colab": {
          "base_uri": "https://localhost:8080/",
          "height": 0
        },
        "id": "Rgl_omZGa1Wc",
        "outputId": "b171e6bd-ae4f-49d5-fb84-622ecb8a24f1"
      },
      "execution_count": 16,
      "outputs": [
        {
          "output_type": "stream",
          "name": "stdout",
          "text": [
            "job_title\n",
            "Data Science & Machine Learning             1501\n",
            "Data Engineering & Infrastructure           1230\n",
            "Data Analysis & Analytics                    794\n",
            "Data Management                              114\n",
            "Business Intelligence (BI)                    43\n",
            "Artificial Intelligence (AI)                  30\n",
            "Computer Vision                               27\n",
            "Compliance & Quality Assurance                10\n",
            "AI & Machine Learning Operations (MLOps)       4\n",
            "Product & Marketing Data                       2\n",
            "Name: count, dtype: int64\n"
          ]
        },
        {
          "output_type": "display_data",
          "data": {
            "text/plain": [
              "<Figure size 640x480 with 1 Axes>"
            ],
            "image/png": "[encoded data removed]"
          },
          "metadata": {}
        }
      ]
    },
    {
      "cell_type": "markdown",
      "source": [
        " The most common job titles are \"Data Science & Machine Learning\" with 1501 occurrences, followed by \"Data Engineering & Infrastructure\" with 1230 occurrences, and \"Data Analysis & Analytics\" with 794 occurrences. Other job titles such as \"Data Management,\" \"Business Intelligence (BI),\" \"Artificial Intelligence (AI),\" and \"Computer Vision\" are also represented, though less frequently.\n",
        "\n",
        "The analysis of the dataset revealed the following insights:\n",
        "\n",
        "**Work Year Distribution**: The dataset spans work years from 2020 to 2023, with the majority of entries falling in the years 2022 and 2023. This indicates a recent and ongoing focus on data science roles.\n",
        "\n",
        "**Experience Level**: The dataset contains primarily Senior (SE) and Mid-Level (MI) positions, with Senior roles comprising the majority. This suggests a higher demand for experienced professionals in the field.\n",
        "\n",
        "**Employment Type**: Full-Time (FT) employment is predominant in the dataset, comprising 99.01% of entries. Part-Time (PT), Contract (CT), and Freelance (FL) positions are less common.\n",
        "\n",
        "**Job Titles**: The most common job titles are related to \"Data Science & Machine Learning,\" \"Data Engineering & Infrastructure,\" and \"Data Analysis & Analytics,\" indicating a focus on these areas within the field of data science.\n",
        "\n",
        "These findings provide a snapshot of the roles, experience levels, and employment types prevalent in the data science field based on the provided dataset."
      ],
      "metadata": {
        "id": "IA1U84CZ-VYm"
      }
    },
    {
      "cell_type": "code",
      "source": [
        "(mapped_job_titles.value_counts()*100/len(df))[:4]"
      ],
      "metadata": {
        "colab": {
          "base_uri": "https://localhost:8080/"
        },
        "id": "ECScPK4KbS6q",
        "outputId": "df2894ef-4529-4776-e23e-b0ff5fbc51d8"
      },
      "execution_count": 17,
      "outputs": [
        {
          "output_type": "execute_result",
          "data": {
            "text/plain": [
              "job_title\n",
              "Data Science & Machine Learning      39.973369\n",
              "Data Engineering & Infrastructure    32.756325\n",
              "Data Analysis & Analytics            21.145140\n",
              "Data Management                       3.035952\n",
              "Name: count, dtype: float64"
            ]
          },
          "metadata": {},
          "execution_count": 17
        }
      ]
    },
    {
      "cell_type": "markdown",
      "source": [
        "The percentage distribution of the mapped job titles in the dataset shows that the majority of roles are in Data Science & Machine Learning (39.97%), followed by Data Engineering & Infrastructure (32.76%), Data Analysis & Analytics (21.15%), and Data Management (3.04%)."
      ],
      "metadata": {
        "id": "WQ5N3hFM_BO8"
      }
    },
    {
      "cell_type": "code",
      "source": [
        "len(job_categories), len(df.job_title.unique())"
      ],
      "metadata": {
        "colab": {
          "base_uri": "https://localhost:8080/"
        },
        "id": "aZDK1MvWbU9Z",
        "outputId": "82ccf829-9481-4ece-efac-6cb8fb4df7fe"
      },
      "execution_count": 18,
      "outputs": [
        {
          "output_type": "execute_result",
          "data": {
            "text/plain": [
              "(93, 93)"
            ]
          },
          "metadata": {},
          "execution_count": 18
        }
      ]
    },
    {
      "cell_type": "markdown",
      "source": [
        "The number of job categories is 93, and the number of unique job titles in the dataset is also 93."
      ],
      "metadata": {
        "id": "eCeVg4O2_LiC"
      }
    },
    {
      "cell_type": "markdown",
      "source": [
        "### Currency frequency distribution"
      ],
      "metadata": {
        "id": "-oA914RxbdS8"
      }
    },
    {
      "cell_type": "code",
      "source": [
        "print(df.salary_currency.value_counts()) # Keep top 5, rest should be others, One-hot encoding\n",
        "df.salary_currency.value_counts().plot(kind=\"bar\");"
      ],
      "metadata": {
        "colab": {
          "base_uri": "https://localhost:8080/",
          "height": 0
        },
        "id": "qAtd8S_VcZOa",
        "outputId": "db49d4dc-c2c6-4b85-ec9c-482019c652d9"
      },
      "execution_count": 19,
      "outputs": [
        {
          "output_type": "stream",
          "name": "stdout",
          "text": [
            "salary_currency\n",
            "USD    3224\n",
            "EUR     236\n",
            "GBP     161\n",
            "INR      60\n",
            "CAD      25\n",
            "AUD       9\n",
            "SGD       6\n",
            "BRL       6\n",
            "PLN       5\n",
            "CHF       4\n",
            "HUF       3\n",
            "DKK       3\n",
            "JPY       3\n",
            "TRY       3\n",
            "THB       2\n",
            "ILS       1\n",
            "HKD       1\n",
            "CZK       1\n",
            "MXN       1\n",
            "CLP       1\n",
            "Name: count, dtype: int64\n"
          ]
        },
        {
          "output_type": "display_data",
          "data": {
            "text/plain": [
              "<Figure size 640x480 with 1 Axes>"
            ],
            "image/png": "[encoded data removed]"
          },
          "metadata": {}
        }
      ]
    },
    {
      "cell_type": "markdown",
      "source": [
        "The dataset contains salaries denoted in various currencies. The majority of salaries are in USD, followed by EUR, GBP, and INR. Other currencies like CAD, AUD, SGD, and others have fewer occurrences in the dataset."
      ],
      "metadata": {
        "id": "iM_WwsOx_gFl"
      }
    },
    {
      "cell_type": "code",
      "source": [
        "(df.salary_currency.value_counts()*100/len(df))[:5]"
      ],
      "metadata": {
        "colab": {
          "base_uri": "https://localhost:8080/"
        },
        "id": "XZg-9cFIcgBD",
        "outputId": "cd942d78-3134-45e1-a1d7-ac491bd3e78c"
      },
      "execution_count": 20,
      "outputs": [
        {
          "output_type": "execute_result",
          "data": {
            "text/plain": [
              "salary_currency\n",
              "USD    85.858855\n",
              "EUR     6.284953\n",
              "GBP     4.287617\n",
              "INR     1.597870\n",
              "CAD     0.665779\n",
              "Name: count, dtype: float64"
            ]
          },
          "metadata": {},
          "execution_count": 20
        }
      ]
    },
    {
      "cell_type": "markdown",
      "source": [
        "The majority of salaries in the dataset are denoted in USD, accounting for approximately 85.86% of the total. Salaries in EUR, GBP, INR, and CAD make up smaller proportions of the dataset, with 6.28%, 4.29%, 1.60%, and 0.67% respectively."
      ],
      "metadata": {
        "id": "Va9DpFe6_mJZ"
      }
    },
    {
      "cell_type": "markdown",
      "source": [
        "### Employee residence and Company location frequency distributions (Too many values to plot)\n"
      ],
      "metadata": {
        "id": "NUXOd7-Ic2mH"
      }
    },
    {
      "cell_type": "code",
      "source": [
        "df.employee_residence.value_counts() # Drop"
      ],
      "metadata": {
        "colab": {
          "base_uri": "https://localhost:8080/"
        },
        "id": "W0yRLspNc6M8",
        "outputId": "1a7d9b88-2614-4d3f-b13d-c118fefa2818"
      },
      "execution_count": 21,
      "outputs": [
        {
          "output_type": "execute_result",
          "data": {
            "text/plain": [
              "employee_residence\n",
              "US    3004\n",
              "GB     167\n",
              "CA      85\n",
              "ES      80\n",
              "IN      71\n",
              "      ... \n",
              "BA       1\n",
              "AM       1\n",
              "CY       1\n",
              "KW       1\n",
              "MT       1\n",
              "Name: count, Length: 78, dtype: int64"
            ]
          },
          "metadata": {},
          "execution_count": 21
        }
      ]
    },
    {
      "cell_type": "markdown",
      "source": [
        "The dataset includes information about the country of residence for employees. However, there are many unique countries listed, which could complicate analysis. Dropping this column could simplify the dataset."
      ],
      "metadata": {
        "id": "66bwXyyA_6zl"
      }
    },
    {
      "cell_type": "code",
      "source": [
        "df.company_location.value_counts() # Drop"
      ],
      "metadata": {
        "colab": {
          "base_uri": "https://localhost:8080/"
        },
        "id": "ydcErDBGc8VC",
        "outputId": "472a74f8-2e1a-43b8-a90f-b0cda4ce2d34"
      },
      "execution_count": 22,
      "outputs": [
        {
          "output_type": "execute_result",
          "data": {
            "text/plain": [
              "company_location\n",
              "US    3040\n",
              "GB     172\n",
              "CA      87\n",
              "ES      77\n",
              "IN      58\n",
              "      ... \n",
              "MK       1\n",
              "BS       1\n",
              "IR       1\n",
              "CR       1\n",
              "MT       1\n",
              "Name: count, Length: 72, dtype: int64"
            ]
          },
          "metadata": {},
          "execution_count": 22
        }
      ]
    },
    {
      "cell_type": "markdown",
      "source": [
        "The dataset includes information about the location of the company. Similar to the country of residence column, there are many unique locations listed, which could complicate analysis. Dropping this column could simplify the dataset."
      ],
      "metadata": {
        "id": "29jiHuldACqV"
      }
    },
    {
      "cell_type": "code",
      "source": [
        "(df.company_location==df.employee_residence).value_counts()"
      ],
      "metadata": {
        "colab": {
          "base_uri": "https://localhost:8080/"
        },
        "id": "tSy1zgxHdAQW",
        "outputId": "ac5113ec-0eca-464a-85b3-39b7a3897041"
      },
      "execution_count": 23,
      "outputs": [
        {
          "output_type": "execute_result",
          "data": {
            "text/plain": [
              "True     3659\n",
              "False      96\n",
              "Name: count, dtype: int64"
            ]
          },
          "metadata": {},
          "execution_count": 23
        }
      ]
    },
    {
      "cell_type": "markdown",
      "source": [
        "The majority of employees reside in the same country as their employer, with 3659 out of 3755 instances where the company location matches the employee residence."
      ],
      "metadata": {
        "id": "TovzlD7DAKNS"
      }
    },
    {
      "cell_type": "code",
      "source": [
        "(df.company_location==df.employee_residence).value_counts()*100/len(df)"
      ],
      "metadata": {
        "colab": {
          "base_uri": "https://localhost:8080/"
        },
        "id": "caEgBmaAdEjq",
        "outputId": "b4f5006a-5bcc-43ac-c13f-7f3f98648490"
      },
      "execution_count": 24,
      "outputs": [
        {
          "output_type": "execute_result",
          "data": {
            "text/plain": [
              "True     97.443409\n",
              "False     2.556591\n",
              "Name: count, dtype: float64"
            ]
          },
          "metadata": {},
          "execution_count": 24
        }
      ]
    },
    {
      "cell_type": "markdown",
      "source": [
        "Approximately 97.44% of employees reside in the same country as their employer, while about 2.56% reside in a different country."
      ],
      "metadata": {
        "id": "RgVhtAWAAQhl"
      }
    },
    {
      "cell_type": "markdown",
      "source": [
        "### Remote ratio frequency distribution"
      ],
      "metadata": {
        "id": "E8_UKs14dGvu"
      }
    },
    {
      "cell_type": "code",
      "source": [
        "print(df.remote_ratio.value_counts()) # Ordinal encoding\n",
        "df.remote_ratio.value_counts().plot(kind=\"bar\");"
      ],
      "metadata": {
        "colab": {
          "base_uri": "https://localhost:8080/",
          "height": 0
        },
        "id": "4Sl9sbgSdFhE",
        "outputId": "d77d1fdd-807a-42fd-c3a7-cad05df130d3"
      },
      "execution_count": 25,
      "outputs": [
        {
          "output_type": "stream",
          "name": "stdout",
          "text": [
            "remote_ratio\n",
            "0      1923\n",
            "100    1643\n",
            "50      189\n",
            "Name: count, dtype: int64\n"
          ]
        },
        {
          "output_type": "display_data",
          "data": {
            "text/plain": [
              "<Figure size 640x480 with 1 Axes>"
            ],
            "image/png": "[encoded data removed]"
          },
          "metadata": {}
        }
      ]
    },
    {
      "cell_type": "markdown",
      "source": [
        "The dataset contains information about the remote work ratio of employees, with 1923 employees working entirely on-site (0% remote), 1643 employees working fully remotely (100% remote), and 189 employees working in a hybrid setup (50% remote)."
      ],
      "metadata": {
        "id": "t9bGRrL3AY-3"
      }
    },
    {
      "cell_type": "code",
      "source": [
        "(df.remote_ratio.value_counts()*100/len(df))"
      ],
      "metadata": {
        "colab": {
          "base_uri": "https://localhost:8080/"
        },
        "id": "-0jmDEHAdNQH",
        "outputId": "670ec7d5-f395-4498-d8ca-0a53d4f5cc08"
      },
      "execution_count": 26,
      "outputs": [
        {
          "output_type": "execute_result",
          "data": {
            "text/plain": [
              "remote_ratio\n",
              "0      51.211718\n",
              "100    43.754993\n",
              "50      5.033289\n",
              "Name: count, dtype: float64"
            ]
          },
          "metadata": {},
          "execution_count": 26
        }
      ]
    },
    {
      "cell_type": "markdown",
      "source": [
        "The data indicates that approximately 51.21% of employees work entirely on-site (0% remote), around 43.75% work fully remotely (100% remote), and about 5.03% work in a hybrid setup (50% remote)."
      ],
      "metadata": {
        "id": "0T7Rd2GHAaxY"
      }
    },
    {
      "cell_type": "markdown",
      "source": [
        "### Company size frequency distribution"
      ],
      "metadata": {
        "id": "-KzX-ctOdSkq"
      }
    },
    {
      "cell_type": "code",
      "source": [
        "print(df.company_size.value_counts()) # Ordinal encoding\n",
        "df.company_size.value_counts().plot(kind=\"bar\");"
      ],
      "metadata": {
        "colab": {
          "base_uri": "https://localhost:8080/",
          "height": 0
        },
        "id": "mntwUYMUdPkz",
        "outputId": "101ffe57-e8d5-48af-eee1-d81bbcf5dc18"
      },
      "execution_count": 27,
      "outputs": [
        {
          "output_type": "stream",
          "name": "stdout",
          "text": [
            "company_size\n",
            "M    3153\n",
            "L     454\n",
            "S     148\n",
            "Name: count, dtype: int64\n"
          ]
        },
        {
          "output_type": "display_data",
          "data": {
            "text/plain": [
              "<Figure size 640x480 with 1 Axes>"
            ],
            "image/png": "[encoded data removed]"
          },
          "metadata": {}
        }
      ]
    },
    {
      "cell_type": "markdown",
      "source": [
        "The company size distribution in the dataset shows that the majority of companies are of medium size, with 3153 instances, followed by large companies with 454 instances, and small companies with 148 instances."
      ],
      "metadata": {
        "id": "q-v0bLgmAp0C"
      }
    },
    {
      "cell_type": "code",
      "source": [
        "(df.company_size.value_counts()*100/len(df))"
      ],
      "metadata": {
        "colab": {
          "base_uri": "https://localhost:8080/"
        },
        "id": "6L7jVnzKdWSw",
        "outputId": "8b0e9ec9-b694-42a8-8e0f-10ece584bc18"
      },
      "execution_count": 28,
      "outputs": [
        {
          "output_type": "execute_result",
          "data": {
            "text/plain": [
              "company_size\n",
              "M    83.968043\n",
              "L    12.090546\n",
              "S     3.941411\n",
              "Name: count, dtype: float64"
            ]
          },
          "metadata": {},
          "execution_count": 28
        }
      ]
    },
    {
      "cell_type": "markdown",
      "source": [
        "The dataset's company size distribution indicates that the majority of companies are of medium size, accounting for approximately 84% of the data. Large companies make up about 12% of the dataset, while small companies represent about 4%."
      ],
      "metadata": {
        "id": "iFmDyZtdAxBK"
      }
    },
    {
      "cell_type": "markdown",
      "source": [
        "## **Bivariate Analysis**"
      ],
      "metadata": {
        "id": "VtSeTQDoelzD"
      }
    },
    {
      "cell_type": "markdown",
      "source": [
        "Bivariate analysis involves the simultaneous analysis of two variables to determine if there is a relationship between them. It helps to understand how one variable affects the other. Common techniques used in bivariate analysis include scatter plots, correlation analysis, and chi-square tests."
      ],
      "metadata": {
        "id": "FDRtuR5Q5tFo"
      }
    },
    {
      "cell_type": "markdown",
      "source": [
        "### Average salary by Work year"
      ],
      "metadata": {
        "id": "aKwsU9wven_J"
      }
    },
    {
      "cell_type": "code",
      "source": [
        "col = \"work_year\"\n",
        "col_vs_salary = pd.Series({val : df.salary_in_usd[df[col]==val].mean() for val in df[col].unique()}).sort_values()\n",
        "print(\"Average salary by Work Year\")\n",
        "print(col_vs_salary)\n",
        "ordered_keys = list(col_vs_salary.to_dict().keys())\n",
        "plot_x = [df[\"salary_in_usd\"][df[col]==val] for val in ordered_keys]\n",
        "plt.boxplot(plot_x, labels=ordered_keys);"
      ],
      "metadata": {
        "colab": {
          "base_uri": "https://localhost:8080/",
          "height": 0
        },
        "id": "r6pAIBzoes6E",
        "outputId": "744ffe4a-a343-4682-ba87-aa7f8f87ddf9"
      },
      "execution_count": 29,
      "outputs": [
        {
          "output_type": "stream",
          "name": "stdout",
          "text": [
            "Average salary by Work Year\n",
            "2020     92302.631579\n",
            "2021     94087.208696\n",
            "2022    133338.620793\n",
            "2023    149045.541176\n",
            "dtype: float64\n"
          ]
        },
        {
          "output_type": "display_data",
          "data": {
            "text/plain": [
              "<Figure size 640x480 with 1 Axes>"
            ],
            "image/png": "[encoded data removed]"
          },
          "metadata": {}
        }
      ]
    },
    {
      "cell_type": "markdown",
      "source": [
        "The average salary by work year shows an increasing trend over the years. In 2020, the average salary was approximately 92,303 dollars, which increased to around 94,087 dollars in 2021. The average salary saw a significant jump in 2022, reaching approximately 133,339 dollars. In 2023, the average salary further increased to around 149,046 dollars. This trend suggests a positive growth in salaries over the years, with the highest increase observed between 2021 and 2022."
      ],
      "metadata": {
        "id": "h6lAeFWkBI6-"
      }
    },
    {
      "cell_type": "markdown",
      "source": [
        "### Average salary by Experience level"
      ],
      "metadata": {
        "id": "5rBRFiH6ev6t"
      }
    },
    {
      "cell_type": "code",
      "source": [
        "col = \"experience_level\"\n",
        "col_vs_salary = pd.Series({val : df.salary_in_usd[df[col]==val].mean() for val in df[col].unique()}).sort_values()\n",
        "print(\"Average salary by Experience Level\")\n",
        "print(col_vs_salary)\n",
        "ordered_keys = list(col_vs_salary.to_dict().keys())\n",
        "plot_x = [df[\"salary_in_usd\"][df[col]==val] for val in ordered_keys]\n",
        "plt.boxplot(plot_x, labels=ordered_keys);"
      ],
      "metadata": {
        "colab": {
          "base_uri": "https://localhost:8080/",
          "height": 0
        },
        "id": "6PMK6-xgexlN",
        "outputId": "9a4a1686-2e67-44c3-e5bb-99b1a6338162"
      },
      "execution_count": 30,
      "outputs": [
        {
          "output_type": "stream",
          "name": "stdout",
          "text": [
            "Average salary by Experience Level\n",
            "EN     78546.284375\n",
            "MI    104525.939130\n",
            "SE    153051.071542\n",
            "EX    194930.929825\n",
            "dtype: float64\n"
          ]
        },
        {
          "output_type": "display_data",
          "data": {
            "text/plain": [
              "<Figure size 640x480 with 1 Axes>"
            ],
            "image/png": "[encoded data removed]"
          },
          "metadata": {}
        }
      ]
    },
    {
      "cell_type": "markdown",
      "source": [
        "The average salary by experience level indicates variations in salary across different levels. Entry-level positions (EN) have an average salary of approximately 78,546 dollars, while mid-level positions (MI) see an average salary of around 104,526 dollars. Senior-level positions (SE) have a significantly higher average salary of approximately 153,051 dollars. The average salary for executive-level positions (EX) is the highest among all experience levels, at around 194,931 dollars. This demonstrates a clear progression in salary with increasing experience level, with executive-level positions commanding the highest salaries on average."
      ],
      "metadata": {
        "id": "hhbB-CmnBi94"
      }
    },
    {
      "cell_type": "markdown",
      "source": [
        "### Average salary by Employment type"
      ],
      "metadata": {
        "id": "rW7zZ2U_fhEv"
      }
    },
    {
      "cell_type": "code",
      "source": [
        "col = \"employment_type\"\n",
        "col_vs_salary = pd.Series({val : df.salary_in_usd[df[col]==val].mean() for val in df[col].unique()}).sort_values()\n",
        "print(\"Average salary by Employment Type\")\n",
        "print(col_vs_salary)\n",
        "ordered_keys = list(col_vs_salary.to_dict().keys())\n",
        "plot_x = [df[\"salary_in_usd\"][df[col]==val] for val in ordered_keys]\n",
        "plt.boxplot(plot_x, labels=ordered_keys);"
      ],
      "metadata": {
        "colab": {
          "base_uri": "https://localhost:8080/",
          "height": 0
        },
        "id": "5tIGNsKKfiTo",
        "outputId": "119a6674-b92a-45f0-9c81-24f482b51db6"
      },
      "execution_count": 31,
      "outputs": [
        {
          "output_type": "stream",
          "name": "stdout",
          "text": [
            "Average salary by Employment Type\n",
            "PT     39533.705882\n",
            "FL     51807.800000\n",
            "CT    113446.900000\n",
            "FT    138314.199570\n",
            "dtype: float64\n"
          ]
        },
        {
          "output_type": "display_data",
          "data": {
            "text/plain": [
              "<Figure size 640x480 with 1 Axes>"
            ],
            "image/png": "[encoded data removed]"
          },
          "metadata": {}
        }
      ]
    },
    {
      "cell_type": "markdown",
      "source": [
        "The average salary varies considerably across different employment types. Part-time positions (PT) have the lowest average salary, at approximately 39,534 dollars. Freelance positions (FL) offer a slightly higher average salary of around 51,808 dollars. Contract positions (CT) have a significantly higher average salary of about 113,447 dollars. Full-time positions (FT) offer the highest average salary among all employment types, at approximately 138,314 dollars. This indicates that full-time roles tend to offer the highest salaries on average, followed by contract positions, freelance roles, and finally, part-time positions."
      ],
      "metadata": {
        "id": "4RHLtrquBvgV"
      }
    },
    {
      "cell_type": "markdown",
      "source": [
        "### Average salary by Job category"
      ],
      "metadata": {
        "id": "BgTsd3hnfn5I"
      }
    },
    {
      "cell_type": "code",
      "source": [
        "col_vs_salary = pd.Series({val : df.salary_in_usd[mapped_job_titles==val].mean() for val in mapped_job_titles.unique()}).sort_values()\n",
        "print(\"Average salary by Job Category\")\n",
        "print(col_vs_salary)\n",
        "ordered_keys = list(col_vs_salary.to_dict().keys())\n",
        "plot_x = [df[\"salary_in_usd\"][mapped_job_titles==val] for val in ordered_keys]\n",
        "plt.figure(figsize=(16,8))\n",
        "plt.boxplot(plot_x, labels=ordered_keys);\n",
        "plt.xticks(rotation=45)"
      ],
      "metadata": {
        "colab": {
          "base_uri": "https://localhost:8080/",
          "height": 0
        },
        "id": "T7RRRnxFfpNC",
        "outputId": "13654d92-242e-4034-eb6e-89805b36f73b"
      },
      "execution_count": 32,
      "outputs": [
        {
          "output_type": "stream",
          "name": "stdout",
          "text": [
            "Average salary by Job Category\n",
            "Product & Marketing Data                     37485.000000\n",
            "Compliance & Quality Assurance               67973.500000\n",
            "Business Intelligence (BI)                  111672.930233\n",
            "Computer Vision                             113241.925926\n",
            "Data Analysis & Analytics                   113503.503778\n",
            "Artificial Intelligence (AI)                115052.333333\n",
            "AI & Machine Learning Operations (MLOps)    129000.000000\n",
            "Data Engineering & Infrastructure           142277.486992\n",
            "Data Science & Machine Learning             146322.856762\n",
            "Data Management                             168783.964912\n",
            "dtype: float64\n"
          ]
        },
        {
          "output_type": "execute_result",
          "data": {
            "text/plain": [
              "(array([ 1,  2,  3,  4,  5,  6,  7,  8,  9, 10]),\n",
              " [Text(1, 0, 'Product & Marketing Data'),\n",
              "  Text(2, 0, 'Compliance & Quality Assurance'),\n",
              "  Text(3, 0, 'Business Intelligence (BI)'),\n",
              "  Text(4, 0, 'Computer Vision'),\n",
              "  Text(5, 0, 'Data Analysis & Analytics'),\n",
              "  Text(6, 0, 'Artificial Intelligence (AI)'),\n",
              "  Text(7, 0, 'AI & Machine Learning Operations (MLOps)'),\n",
              "  Text(8, 0, 'Data Engineering & Infrastructure'),\n",
              "  Text(9, 0, 'Data Science & Machine Learning'),\n",
              "  Text(10, 0, 'Data Management')])"
            ]
          },
          "metadata": {},
          "execution_count": 32
        },
        {
          "output_type": "display_data",
          "data": {
            "text/plain": [
              "<Figure size 1600x800 with 1 Axes>"
            ],
            "image/png": "[encoded data removed]"
          },
          "metadata": {}
        }
      ]
    },
    {
      "cell_type": "markdown",
      "source": [
        "This indicates that Data Management roles tend to offer the highest average salaries, followed by Data Science & Machine Learning, Data Engineering & Infrastructure, and AI & Machine Learning Operations. On the other hand, Product & Marketing Data roles have the lowest average salaries among the job categories analyzed."
      ],
      "metadata": {
        "id": "oYordO8-CAx7"
      }
    },
    {
      "cell_type": "markdown",
      "source": [
        "### Average salary by Currency"
      ],
      "metadata": {
        "id": "RHnAl-lgft5x"
      }
    },
    {
      "cell_type": "code",
      "source": [
        "col = \"salary_currency\"\n",
        "col_vs_salary = pd.Series({val : df.salary_in_usd[df[col]==val].mean() for val in df[col].unique()}).sort_values()\n",
        "print(\"Average salary by Currency\")\n",
        "print(col_vs_salary)\n",
        "ordered_keys = list(col_vs_salary.to_dict().keys())\n",
        "plot_x = [df[\"salary_in_usd\"][df[col]==val] for val in ordered_keys]\n",
        "plt.figure(figsize=(12,6))\n",
        "plt.boxplot(plot_x, labels=ordered_keys);"
      ],
      "metadata": {
        "colab": {
          "base_uri": "https://localhost:8080/",
          "height": 0
        },
        "id": "wi3yhx2BfvFe",
        "outputId": "c3ddee87-64b7-4f1f-cb30-a66dc57317a2"
      },
      "execution_count": 33,
      "outputs": [
        {
          "output_type": "stream",
          "name": "stdout",
          "text": [
            "Average salary by Currency\n",
            "CZK      5132.000000\n",
            "BRL     12448.000000\n",
            "TRY     20096.666667\n",
            "INR     25785.300000\n",
            "THB     27096.500000\n",
            "HUF     29892.666667\n",
            "DKK     31192.666667\n",
            "MXN     33511.000000\n",
            "PLN     34165.200000\n",
            "CLP     40038.000000\n",
            "JPY     60921.333333\n",
            "EUR     62281.733051\n",
            "HKD     65062.000000\n",
            "AUD     74198.444444\n",
            "SGD     81770.000000\n",
            "GBP     83850.229814\n",
            "CAD     96707.400000\n",
            "CHF    100682.000000\n",
            "USD    149366.906638\n",
            "ILS    423834.000000\n",
            "dtype: float64\n"
          ]
        },
        {
          "output_type": "display_data",
          "data": {
            "text/plain": [
              "<Figure size 1200x600 with 1 Axes>"
            ],
            "image/png": "[encoded data removed]"
          },
          "metadata": {}
        }
      ]
    },
    {
      "cell_type": "markdown",
      "source": [
        "The average salary is highest for employees paid in Israeli Shekels (ILS), followed by Swiss Francs (CHF) and US Dollars (USD). The lowest average salary is in Czech Koruna (CZK). The variation in average salaries across different currencies reflects differences in cost of living, economic conditions, and currency exchange rates."
      ],
      "metadata": {
        "id": "j195ntgtCTey"
      }
    },
    {
      "cell_type": "markdown",
      "source": [
        "### Average salary by Remote ratio"
      ],
      "metadata": {
        "id": "mu7l_Bx0fzf0"
      }
    },
    {
      "cell_type": "code",
      "source": [
        "col = \"remote_ratio\"\n",
        "col_vs_salary = pd.Series({val : df.salary_in_usd[df[col]==val].mean() for val in df[col].unique()}).sort_values()\n",
        "print(\"Average salary by Remote Ratio\")\n",
        "print(col_vs_salary)\n",
        "ordered_keys = list(col_vs_salary.to_dict().keys())\n",
        "plot_x = [df[\"salary_in_usd\"][df[col]==val] for val in ordered_keys]\n",
        "plt.boxplot(plot_x, labels=ordered_keys);"
      ],
      "metadata": {
        "colab": {
          "base_uri": "https://localhost:8080/",
          "height": 0
        },
        "id": "5aCYMQ40f1ej",
        "outputId": "cd5531f7-ba1a-4113-b51d-953e432aa4a9"
      },
      "execution_count": 34,
      "outputs": [
        {
          "output_type": "stream",
          "name": "stdout",
          "text": [
            "Average salary by Remote Ratio\n",
            "50      78400.687831\n",
            "100    136481.452830\n",
            "0      144316.202288\n",
            "dtype: float64\n"
          ]
        },
        {
          "output_type": "display_data",
          "data": {
            "text/plain": [
              "<Figure size 640x480 with 1 Axes>"
            ],
            "image/png": "[encoded data removed]"
          },
          "metadata": {}
        }
      ]
    },
    {
      "cell_type": "markdown",
      "source": [
        "The average salary is highest for employees with a remote work ratio of 100%, followed by those with a remote work ratio of 0%. Employees with a remote work ratio of 50% have the lowest average salary. This suggests that there may be a correlation between the extent of remote work and salary level, with fully remote positions generally offering higher salaries."
      ],
      "metadata": {
        "id": "IFfydHheCZpM"
      }
    },
    {
      "cell_type": "markdown",
      "source": [
        "### Average salary by Company size"
      ],
      "metadata": {
        "id": "w7eoeHptf7KM"
      }
    },
    {
      "cell_type": "code",
      "source": [
        "col = \"company_size\"\n",
        "col_vs_salary = pd.Series({val : df.salary_in_usd[df[col]==val].mean() for val in df[col].unique()}).sort_values()\n",
        "print(\"Average salary by Company Size\")\n",
        "print(col_vs_salary)\n",
        "ordered_keys = list(col_vs_salary.to_dict().keys())\n",
        "plot_x = [df[\"salary_in_usd\"][df[col]==val] for val in ordered_keys]\n",
        "plt.boxplot(plot_x, labels=ordered_keys);"
      ],
      "metadata": {
        "colab": {
          "base_uri": "https://localhost:8080/",
          "height": 0
        },
        "id": "SNF30Ln8f81f",
        "outputId": "c513efff-8567-402e-84dd-0185cf982902"
      },
      "execution_count": 35,
      "outputs": [
        {
          "output_type": "stream",
          "name": "stdout",
          "text": [
            "Average salary by Company Size\n",
            "S     78226.682432\n",
            "L    118300.982379\n",
            "M    143130.548367\n",
            "dtype: float64\n"
          ]
        },
        {
          "output_type": "display_data",
          "data": {
            "text/plain": [
              "<Figure size 640x480 with 1 Axes>"
            ],
            "image/png": "[encoded data removed]"
          },
          "metadata": {}
        }
      ]
    },
    {
      "cell_type": "markdown",
      "source": [
        "The average salary is highest for employees in large companies (L), followed by medium-sized companies (M) and small companies (S). This indicates that larger companies tend to offer higher salaries on average compared to smaller companies."
      ],
      "metadata": {
        "id": "1ATcHyuzChkh"
      }
    },
    {
      "cell_type": "markdown",
      "source": [
        "### Top 10 Highest and Lowest paid jobs"
      ],
      "metadata": {
        "id": "SgJhsKpAgBIF"
      }
    },
    {
      "cell_type": "code",
      "source": [
        "sorted_df = df.sort_values(\"salary_in_usd\")\n",
        "sorted_df.head(10)"
      ],
      "metadata": {
        "colab": {
          "base_uri": "https://localhost:8080/",
          "height": 0
        },
        "id": "eMRSCAB8gC4O",
        "outputId": "64eaf20f-aa39-415d-db5d-1001453af540"
      },
      "execution_count": 36,
      "outputs": [
        {
          "output_type": "execute_result",
          "data": {
            "text/plain": [
              "      work_year experience_level employment_type  \\\n",
              "2684       2022               MI              FT   \n",
              "2578       2021               EN              FT   \n",
              "3537       2021               MI              PT   \n",
              "3667       2021               MI              FT   \n",
              "3685       2020               EN              FT   \n",
              "3023       2022               MI              FT   \n",
              "3705       2021               EN              FT   \n",
              "3689       2020               MI              FT   \n",
              "3593       2020               EN              FT   \n",
              "2975       2022               EN              FT   \n",
              "\n",
              "                          job_title  salary salary_currency  salary_in_usd  \\\n",
              "2684                   NLP Engineer  120000             CZK           5132   \n",
              "2578             Power BI Developer  400000             INR           5409   \n",
              "3537  3D Computer Vision Researcher  400000             INR           5409   \n",
              "3667                 Data Scientist  420000             INR           5679   \n",
              "3685        Data Science Consultant  423000             INR           5707   \n",
              "3023                   Data Analyst  450000             INR           5723   \n",
              "3705              Big Data Engineer  435000             INR           5882   \n",
              "3689           Product Data Analyst  450000             INR           6072   \n",
              "3593                   Data Analyst  450000             INR           6072   \n",
              "2975                BI Data Analyst   32400             BRL           6270   \n",
              "\n",
              "     employee_residence  remote_ratio company_location company_size  \n",
              "2684                 CZ           100               CZ            M  \n",
              "2578                 IN            50               IN            L  \n",
              "3537                 IN            50               IN            M  \n",
              "3667                 IN           100               US            S  \n",
              "3685                 IN            50               IN            M  \n",
              "3023                 IN           100               IN            S  \n",
              "3705                 IN             0               CH            L  \n",
              "3689                 IN           100               IN            L  \n",
              "3593                 IN             0               IN            S  \n",
              "2975                 BR           100               BR            L  "
            ],
            "text/html": [
              "\n",
              "  <div id=\"df-33447516-4c8f-4d6c-bc26-877cda57b2c7\" class=\"colab-df-container\">\n",
              "    <div>\n",
              "<style scoped>\n",
              "    .dataframe tbody tr th:only-of-type {\n",
              "        vertical-align: middle;\n",
              "    }\n",
              "\n",
              "    .dataframe tbody tr th {\n",
              "        vertical-align: top;\n",
              "    }\n",
              "\n",
              "    .dataframe thead th {\n",
              "        text-align: right;\n",
              "    }\n",
              "</style>\n",
              "<table border=\"1\" class=\"dataframe\">\n",
              "  <thead>\n",
              "    <tr style=\"text-align: right;\">\n",
              "      <th></th>\n",
              "      <th>work_year</th>\n",
              "      <th>experience_level</th>\n",
              "      <th>employment_type</th>\n",
              "      <th>job_title</th>\n",
              "      <th>salary</th>\n",
              "      <th>salary_currency</th>\n",
              "      <th>salary_in_usd</th>\n",
              "      <th>employee_residence</th>\n",
              "      <th>remote_ratio</th>\n",
              "      <th>company_location</th>\n",
              "      <th>company_size</th>\n",
              "    </tr>\n",
              "  </thead>\n",
              "  <tbody>\n",
              "    <tr>\n",
              "      <th>2684</th>\n",
              "      <td>2022</td>\n",
              "      <td>MI</td>\n",
              "      <td>FT</td>\n",
              "      <td>NLP Engineer</td>\n",
              "      <td>120000</td>\n",
              "      <td>CZK</td>\n",
              "      <td>5132</td>\n",
              "      <td>CZ</td>\n",
              "      <td>100</td>\n",
              "      <td>CZ</td>\n",
              "      <td>M</td>\n",
              "    </tr>\n",
              "    <tr>\n",
              "      <th>2578</th>\n",
              "      <td>2021</td>\n",
              "      <td>EN</td>\n",
              "      <td>FT</td>\n",
              "      <td>Power BI Developer</td>\n",
              "      <td>400000</td>\n",
              "      <td>INR</td>\n",
              "      <td>5409</td>\n",
              "      <td>IN</td>\n",
              "      <td>50</td>\n",
              "      <td>IN</td>\n",
              "      <td>L</td>\n",
              "    </tr>\n",
              "    <tr>\n",
              "      <th>3537</th>\n",
              "      <td>2021</td>\n",
              "      <td>MI</td>\n",
              "      <td>PT</td>\n",
              "      <td>3D Computer Vision Researcher</td>\n",
              "      <td>400000</td>\n",
              "      <td>INR</td>\n",
              "      <td>5409</td>\n",
              "      <td>IN</td>\n",
              "      <td>50</td>\n",
              "      <td>IN</td>\n",
              "      <td>M</td>\n",
              "    </tr>\n",
              "    <tr>\n",
              "      <th>3667</th>\n",
              "      <td>2021</td>\n",
              "      <td>MI</td>\n",
              "      <td>FT</td>\n",
              "      <td>Data Scientist</td>\n",
              "      <td>420000</td>\n",
              "      <td>INR</td>\n",
              "      <td>5679</td>\n",
              "      <td>IN</td>\n",
              "      <td>100</td>\n",
              "      <td>US</td>\n",
              "      <td>S</td>\n",
              "    </tr>\n",
              "    <tr>\n",
              "      <th>3685</th>\n",
              "      <td>2020</td>\n",
              "      <td>EN</td>\n",
              "      <td>FT</td>\n",
              "      <td>Data Science Consultant</td>\n",
              "      <td>423000</td>\n",
              "      <td>INR</td>\n",
              "      <td>5707</td>\n",
              "      <td>IN</td>\n",
              "      <td>50</td>\n",
              "      <td>IN</td>\n",
              "      <td>M</td>\n",
              "    </tr>\n",
              "    <tr>\n",
              "      <th>3023</th>\n",
              "      <td>2022</td>\n",
              "      <td>MI</td>\n",
              "      <td>FT</td>\n",
              "      <td>Data Analyst</td>\n",
              "      <td>450000</td>\n",
              "      <td>INR</td>\n",
              "      <td>5723</td>\n",
              "      <td>IN</td>\n",
              "      <td>100</td>\n",
              "      <td>IN</td>\n",
              "      <td>S</td>\n",
              "    </tr>\n",
              "    <tr>\n",
              "      <th>3705</th>\n",
              "      <td>2021</td>\n",
              "      <td>EN</td>\n",
              "      <td>FT</td>\n",
              "      <td>Big Data Engineer</td>\n",
              "      <td>435000</td>\n",
              "      <td>INR</td>\n",
              "      <td>5882</td>\n",
              "      <td>IN</td>\n",
              "      <td>0</td>\n",
              "      <td>CH</td>\n",
              "      <td>L</td>\n",
              "    </tr>\n",
              "    <tr>\n",
              "      <th>3689</th>\n",
              "      <td>2020</td>\n",
              "      <td>MI</td>\n",
              "      <td>FT</td>\n",
              "      <td>Product Data Analyst</td>\n",
              "      <td>450000</td>\n",
              "      <td>INR</td>\n",
              "      <td>6072</td>\n",
              "      <td>IN</td>\n",
              "      <td>100</td>\n",
              "      <td>IN</td>\n",
              "      <td>L</td>\n",
              "    </tr>\n",
              "    <tr>\n",
              "      <th>3593</th>\n",
              "      <td>2020</td>\n",
              "      <td>EN</td>\n",
              "      <td>FT</td>\n",
              "      <td>Data Analyst</td>\n",
              "      <td>450000</td>\n",
              "      <td>INR</td>\n",
              "      <td>6072</td>\n",
              "      <td>IN</td>\n",
              "      <td>0</td>\n",
              "      <td>IN</td>\n",
              "      <td>S</td>\n",
              "    </tr>\n",
              "    <tr>\n",
              "      <th>2975</th>\n",
              "      <td>2022</td>\n",
              "      <td>EN</td>\n",
              "      <td>FT</td>\n",
              "      <td>BI Data Analyst</td>\n",
              "      <td>32400</td>\n",
              "      <td>BRL</td>\n",
              "      <td>6270</td>\n",
              "      <td>BR</td>\n",
              "      <td>100</td>\n",
              "      <td>BR</td>\n",
              "      <td>L</td>\n",
              "    </tr>\n",
              "  </tbody>\n",
              "</table>\n",
              "</div>\n",
              "    <div class=\"colab-df-buttons\">\n",
              "\n",
              "  <div class=\"colab-df-container\">\n",
              "    <button class=\"colab-df-convert\" onclick=\"convertToInteractive('df-33447516-4c8f-4d6c-bc26-877cda57b2c7')\"\n",
              "            title=\"Convert this dataframe to an interactive table.\"\n",
              "            style=\"display:none;\">\n",
              "\n",
              "  <svg xmlns=\"http://www.w3.org/2000/svg\" height=\"24px\" viewBox=\"0 -960 960 960\">\n",
              "    <path d=\"M120-120v-720h720v720H120Zm60-500h600v-160H180v160Zm220 220h160v-160H400v160Zm0 220h160v-160H400v160ZM180-400h160v-160H180v160Zm440 0h160v-160H620v160ZM180-180h160v-160H180v160Zm440 0h160v-160H620v160Z\"/>\n",
              "  </svg>\n",
              "    </button>\n",
              "\n",
              "  <style>\n",
              "    .colab-df-container {\n",
              "      display:flex;\n",
              "      gap: 12px;\n",
              "    }\n",
              "\n",
              "    .colab-df-convert {\n",
              "      background-color: #E8F0FE;\n",
              "      border: none;\n",
              "      border-radius: 50%;\n",
              "      cursor: pointer;\n",
              "      display: none;\n",
              "      fill: #1967D2;\n",
              "      height: 32px;\n",
              "      padding: 0 0 0 0;\n",
              "      width: 32px;\n",
              "    }\n",
              "\n",
              "    .colab-df-convert:hover {\n",
              "      background-color: #E2EBFA;\n",
              "      box-shadow: 0px 1px 2px rgba(60, 64, 67, 0.3), 0px 1px 3px 1px rgba(60, 64, 67, 0.15);\n",
              "      fill: #174EA6;\n",
              "    }\n",
              "\n",
              "    .colab-df-buttons div {\n",
              "      margin-bottom: 4px;\n",
              "    }\n",
              "\n",
              "    [theme=dark] .colab-df-convert {\n",
              "      background-color: #3B4455;\n",
              "      fill: #D2E3FC;\n",
              "    }\n",
              "\n",
              "    [theme=dark] .colab-df-convert:hover {\n",
              "      background-color: #434B5C;\n",
              "      box-shadow: 0px 1px 3px 1px rgba(0, 0, 0, 0.15);\n",
              "      filter: drop-shadow(0px 1px 2px rgba(0, 0, 0, 0.3));\n",
              "      fill: #FFFFFF;\n",
              "    }\n",
              "  </style>\n",
              "\n",
              "    <script>\n",
              "      const buttonEl =\n",
              "        document.querySelector('#df-33447516-4c8f-4d6c-bc26-877cda57b2c7 button.colab-df-convert');\n",
              "      buttonEl.style.display =\n",
              "        google.colab.kernel.accessAllowed ? 'block' : 'none';\n",
              "\n",
              "      async function convertToInteractive(key) {\n",
              "        const element = document.querySelector('#df-33447516-4c8f-4d6c-bc26-877cda57b2c7');\n",
              "        const dataTable =\n",
              "          await google.colab.kernel.invokeFunction('convertToInteractive',\n",
              "                                                    [key], {});\n",
              "        if (!dataTable) return;\n",
              "\n",
              "        const docLinkHtml = 'Like what you see? Visit the ' +\n",
              "          '<a target=\"_blank\" href=https://colab.research.google.com/notebooks/data_table.ipynb>data table notebook</a>'\n",
              "          + ' to learn more about interactive tables.';\n",
              "        element.innerHTML = '';\n",
              "        dataTable['output_type'] = 'display_data';\n",
              "        await google.colab.output.renderOutput(dataTable, element);\n",
              "        const docLink = document.createElement('div');\n",
              "        docLink.innerHTML = docLinkHtml;\n",
              "        element.appendChild(docLink);\n",
              "      }\n",
              "    </script>\n",
              "  </div>\n",
              "\n",
              "\n",
              "<div id=\"df-7e18e609-61be-47ae-b758-794e78071993\">\n",
              "  <button class=\"colab-df-quickchart\" onclick=\"quickchart('df-7e18e609-61be-47ae-b758-794e78071993')\"\n",
              "            title=\"Suggest charts\"\n",
              "            style=\"display:none;\">\n",
              "\n",
              "<svg xmlns=\"http://www.w3.org/2000/svg\" height=\"24px\"viewBox=\"0 0 24 24\"\n",
              "     width=\"24px\">\n",
              "    <g>\n",
              "        <path d=\"M19 3H5c-1.1 0-2 .9-2 2v14c0 1.1.9 2 2 2h14c1.1 0 2-.9 2-2V5c0-1.1-.9-2-2-2zM9 17H7v-7h2v7zm4 0h-2V7h2v10zm4 0h-2v-4h2v4z\"/>\n",
              "    </g>\n",
              "</svg>\n",
              "  </button>\n",
              "\n",
              "<style>\n",
              "  .colab-df-quickchart {\n",
              "      --bg-color: #E8F0FE;\n",
              "      --fill-color: #1967D2;\n",
              "      --hover-bg-color: #E2EBFA;\n",
              "      --hover-fill-color: #174EA6;\n",
              "      --disabled-fill-color: #AAA;\n",
              "      --disabled-bg-color: #DDD;\n",
              "  }\n",
              "\n",
              "  [theme=dark] .colab-df-quickchart {\n",
              "      --bg-color: #3B4455;\n",
              "      --fill-color: #D2E3FC;\n",
              "      --hover-bg-color: #434B5C;\n",
              "      --hover-fill-color: #FFFFFF;\n",
              "      --disabled-bg-color: #3B4455;\n",
              "      --disabled-fill-color: #666;\n",
              "  }\n",
              "\n",
              "  .colab-df-quickchart {\n",
              "    background-color: var(--bg-color);\n",
              "    border: none;\n",
              "    border-radius: 50%;\n",
              "    cursor: pointer;\n",
              "    display: none;\n",
              "    fill: var(--fill-color);\n",
              "    height: 32px;\n",
              "    padding: 0;\n",
              "    width: 32px;\n",
              "  }\n",
              "\n",
              "  .colab-df-quickchart:hover {\n",
              "    background-color: var(--hover-bg-color);\n",
              "    box-shadow: 0 1px 2px rgba(60, 64, 67, 0.3), 0 1px 3px 1px rgba(60, 64, 67, 0.15);\n",
              "    fill: var(--button-hover-fill-color);\n",
              "  }\n",
              "\n",
              "  .colab-df-quickchart-complete:disabled,\n",
              "  .colab-df-quickchart-complete:disabled:hover {\n",
              "    background-color: var(--disabled-bg-color);\n",
              "    fill: var(--disabled-fill-color);\n",
              "    box-shadow: none;\n",
              "  }\n",
              "\n",
              "  .colab-df-spinner {\n",
              "    border: 2px solid var(--fill-color);\n",
              "    border-color: transparent;\n",
              "    border-bottom-color: var(--fill-color);\n",
              "    animation:\n",
              "      spin 1s steps(1) infinite;\n",
              "  }\n",
              "\n",
              "  @keyframes spin {\n",
              "    0% {\n",
              "      border-color: transparent;\n",
              "      border-bottom-color: var(--fill-color);\n",
              "      border-left-color: var(--fill-color);\n",
              "    }\n",
              "    20% {\n",
              "      border-color: transparent;\n",
              "      border-left-color: var(--fill-color);\n",
              "      border-top-color: var(--fill-color);\n",
              "    }\n",
              "    30% {\n",
              "      border-color: transparent;\n",
              "      border-left-color: var(--fill-color);\n",
              "      border-top-color: var(--fill-color);\n",
              "      border-right-color: var(--fill-color);\n",
              "    }\n",
              "    40% {\n",
              "      border-color: transparent;\n",
              "      border-right-color: var(--fill-color);\n",
              "      border-top-color: var(--fill-color);\n",
              "    }\n",
              "    60% {\n",
              "      border-color: transparent;\n",
              "      border-right-color: var(--fill-color);\n",
              "    }\n",
              "    80% {\n",
              "      border-color: transparent;\n",
              "      border-right-color: var(--fill-color);\n",
              "      border-bottom-color: var(--fill-color);\n",
              "    }\n",
              "    90% {\n",
              "      border-color: transparent;\n",
              "      border-bottom-color: var(--fill-color);\n",
              "    }\n",
              "  }\n",
              "</style>\n",
              "\n",
              "  <script>\n",
              "    async function quickchart(key) {\n",
              "      const quickchartButtonEl =\n",
              "        document.querySelector('#' + key + ' button');\n",
              "      quickchartButtonEl.disabled = true;  // To prevent multiple clicks.\n",
              "      quickchartButtonEl.classList.add('colab-df-spinner');\n",
              "      try {\n",
              "        const charts = await google.colab.kernel.invokeFunction(\n",
              "            'suggestCharts', [key], {});\n",
              "      } catch (error) {\n",
              "        console.error('Error during call to suggestCharts:', error);\n",
              "      }\n",
              "      quickchartButtonEl.classList.remove('colab-df-spinner');\n",
              "      quickchartButtonEl.classList.add('colab-df-quickchart-complete');\n",
              "    }\n",
              "    (() => {\n",
              "      let quickchartButtonEl =\n",
              "        document.querySelector('#df-7e18e609-61be-47ae-b758-794e78071993 button');\n",
              "      quickchartButtonEl.style.display =\n",
              "        google.colab.kernel.accessAllowed ? 'block' : 'none';\n",
              "    })();\n",
              "  </script>\n",
              "</div>\n",
              "\n",
              "    </div>\n",
              "  </div>\n"
            ],
            "application/vnd.google.colaboratory.intrinsic+json": {
              "type": "dataframe",
              "variable_name": "sorted_df",
              "summary": "{\n  \"name\": \"sorted_df\",\n  \"rows\": 3755,\n  \"fields\": [\n    {\n      \"column\": \"work_year\",\n      \"properties\": {\n        \"dtype\": \"number\",\n        \"std\": 0,\n        \"min\": 2020,\n        \"max\": 2023,\n        \"num_unique_values\": 4,\n        \"samples\": [\n          2021,\n          2023,\n          2022\n        ],\n        \"semantic_type\": \"\",\n        \"description\": \"\"\n      }\n    },\n    {\n      \"column\": \"experience_level\",\n      \"properties\": {\n        \"dtype\": \"category\",\n        \"num_unique_values\": 4,\n        \"samples\": [\n          \"EN\",\n          \"EX\",\n          \"MI\"\n        ],\n        \"semantic_type\": \"\",\n        \"description\": \"\"\n      }\n    },\n    {\n      \"column\": \"employment_type\",\n      \"properties\": {\n        \"dtype\": \"category\",\n        \"num_unique_values\": 4,\n        \"samples\": [\n          \"PT\",\n          \"FL\",\n          \"FT\"\n        ],\n        \"semantic_type\": \"\",\n        \"description\": \"\"\n      }\n    },\n    {\n      \"column\": \"job_title\",\n      \"properties\": {\n        \"dtype\": \"category\",\n        \"num_unique_values\": 93,\n        \"samples\": [\n          \"Data Manager\",\n          \"Cloud Data Engineer\",\n          \"Data Science Lead\"\n        ],\n        \"semantic_type\": \"\",\n        \"description\": \"\"\n      }\n    },\n    {\n      \"column\": \"salary\",\n      \"properties\": {\n        \"dtype\": \"number\",\n        \"std\": 671676,\n        \"min\": 6000,\n        \"max\": 30400000,\n        \"num_unique_values\": 815,\n        \"samples\": [\n          82000,\n          111775,\n          133200\n        ],\n        \"semantic_type\": \"\",\n        \"description\": \"\"\n      }\n    },\n    {\n      \"column\": \"salary_currency\",\n      \"properties\": {\n        \"dtype\": \"category\",\n        \"num_unique_values\": 20,\n        \"samples\": [\n          \"CZK\",\n          \"HKD\",\n          \"AUD\"\n        ],\n        \"semantic_type\": \"\",\n        \"description\": \"\"\n      }\n    },\n    {\n      \"column\": \"salary_in_usd\",\n      \"properties\": {\n        \"dtype\": \"number\",\n        \"std\": 63055,\n        \"min\": 5132,\n        \"max\": 450000,\n        \"num_unique_values\": 1035,\n        \"samples\": [\n          75050,\n          108800,\n          144854\n        ],\n        \"semantic_type\": \"\",\n        \"description\": \"\"\n      }\n    },\n    {\n      \"column\": \"employee_residence\",\n      \"properties\": {\n        \"dtype\": \"category\",\n        \"num_unique_values\": 78,\n        \"samples\": [\n          \"EG\",\n          \"CZ\",\n          \"US\"\n        ],\n        \"semantic_type\": \"\",\n        \"description\": \"\"\n      }\n    },\n    {\n      \"column\": \"remote_ratio\",\n      \"properties\": {\n        \"dtype\": \"number\",\n        \"std\": 48,\n        \"min\": 0,\n        \"max\": 100,\n        \"num_unique_values\": 3,\n        \"samples\": [\n          100,\n          50,\n          0\n        ],\n        \"semantic_type\": \"\",\n        \"description\": \"\"\n      }\n    },\n    {\n      \"column\": \"company_location\",\n      \"properties\": {\n        \"dtype\": \"category\",\n        \"num_unique_values\": 72,\n        \"samples\": [\n          \"BR\",\n          \"SE\",\n          \"VN\"\n        ],\n        \"semantic_type\": \"\",\n        \"description\": \"\"\n      }\n    },\n    {\n      \"column\": \"company_size\",\n      \"properties\": {\n        \"dtype\": \"category\",\n        \"num_unique_values\": 3,\n        \"samples\": [\n          \"M\",\n          \"L\",\n          \"S\"\n        ],\n        \"semantic_type\": \"\",\n        \"description\": \"\"\n      }\n    }\n  ]\n}"
            }
          },
          "metadata": {},
          "execution_count": 36
        }
      ]
    },
    {
      "cell_type": "markdown",
      "source": [
        "Here's a brief summary of the top 10 highest-paying roles:\n",
        "\n",
        "1. **NLP Engineer**:\n",
        "Work Year: 2022\n",
        "Salary in USD: 5132\n",
        "\n",
        "2. **Power BI Developer**:\n",
        "Work Year: 2021\n",
        "Salary in USD: 5409\n",
        "\n",
        "3. **3D Computer Vision Researcher**:\n",
        "Work Year: 2021\n",
        "Salary in USD: 5409\n",
        "\n",
        "4. **Data Scientist**:\n",
        "Work Year: 2021\n",
        "Salary in USD: 5679\n",
        "\n",
        "5. **Data Science Consultant**:\n",
        "Work Year: 2020\n",
        "Salary in USD: 5707\n",
        "\n",
        "6. **Data Analyst**:\n",
        "Work Year: 2022\n",
        "Salary in USD: 5723\n",
        "\n",
        "7. **Big Data Engineer**:\n",
        "Work Year: 2021\n",
        "Salary in USD: 5882\n",
        "\n",
        "8. **Product Data Analyst**:\n",
        "Work Year: 2020\n",
        "Salary in USD: 6072\n",
        "\n",
        "9. **Data Analyst**:\n",
        "Work Year: 2020\n",
        "Salary in USD: 6072\n",
        "\n",
        "10. **BI Data Analyst**:\n",
        "Work Year: 2022\n",
        "Salary in USD: 6270"
      ],
      "metadata": {
        "id": "y_AqRXG4DwSa"
      }
    },
    {
      "cell_type": "code",
      "source": [
        "sorted_df.tail(10)"
      ],
      "metadata": {
        "colab": {
          "base_uri": "https://localhost:8080/",
          "height": 0
        },
        "id": "f5Ra-Lu2gO1D",
        "outputId": "d5607fbe-3e38-4e5e-d0e5-c9cf344293d5"
      },
      "execution_count": 37,
      "outputs": [
        {
          "output_type": "execute_result",
          "data": {
            "text/plain": [
              "      work_year experience_level employment_type  \\\n",
              "649        2023               SE              FT   \n",
              "3468       2022               SE              FT   \n",
              "1288       2023               SE              FT   \n",
              "3463       2022               SE              FT   \n",
              "3750       2020               SE              FT   \n",
              "3675       2021               EX              CT   \n",
              "3747       2021               MI              FT   \n",
              "528        2023               SE              FT   \n",
              "2011       2022               MI              FT   \n",
              "3522       2020               MI              FT   \n",
              "\n",
              "                               job_title   salary salary_currency  \\\n",
              "649                       Data Architect   376080             USD   \n",
              "3468              Applied Data Scientist   380000             USD   \n",
              "1288                        Data Analyst   385000             USD   \n",
              "3463                 Data Analytics Lead   405000             USD   \n",
              "3750                      Data Scientist   412000             USD   \n",
              "3675            Principal Data Scientist   416000             USD   \n",
              "3747  Applied Machine Learning Scientist   423000             USD   \n",
              "528                         AI Scientist  1500000             ILS   \n",
              "2011                        Data Analyst   350000             GBP   \n",
              "3522                  Research Scientist   450000             USD   \n",
              "\n",
              "      salary_in_usd employee_residence  remote_ratio company_location  \\\n",
              "649          376080                 US           100               US   \n",
              "3468         380000                 US           100               US   \n",
              "1288         385000                 US             0               US   \n",
              "3463         405000                 US           100               US   \n",
              "3750         412000                 US           100               US   \n",
              "3675         416000                 US           100               US   \n",
              "3747         423000                 US            50               US   \n",
              "528          423834                 IL             0               IL   \n",
              "2011         430967                 GB             0               GB   \n",
              "3522         450000                 US             0               US   \n",
              "\n",
              "     company_size  \n",
              "649             M  \n",
              "3468            L  \n",
              "1288            M  \n",
              "3463            L  \n",
              "3750            L  \n",
              "3675            S  \n",
              "3747            L  \n",
              "528             L  \n",
              "2011            M  \n",
              "3522            M  "
            ],
            "text/html": [
              "\n",
              "  <div id=\"df-86571856-8373-4852-bf0c-e01b2e7bb775\" class=\"colab-df-container\">\n",
              "    <div>\n",
              "<style scoped>\n",
              "    .dataframe tbody tr th:only-of-type {\n",
              "        vertical-align: middle;\n",
              "    }\n",
              "\n",
              "    .dataframe tbody tr th {\n",
              "        vertical-align: top;\n",
              "    }\n",
              "\n",
              "    .dataframe thead th {\n",
              "        text-align: right;\n",
              "    }\n",
              "</style>\n",
              "<table border=\"1\" class=\"dataframe\">\n",
              "  <thead>\n",
              "    <tr style=\"text-align: right;\">\n",
              "      <th></th>\n",
              "      <th>work_year</th>\n",
              "      <th>experience_level</th>\n",
              "      <th>employment_type</th>\n",
              "      <th>job_title</th>\n",
              "      <th>salary</th>\n",
              "      <th>salary_currency</th>\n",
              "      <th>salary_in_usd</th>\n",
              "      <th>employee_residence</th>\n",
              "      <th>remote_ratio</th>\n",
              "      <th>company_location</th>\n",
              "      <th>company_size</th>\n",
              "    </tr>\n",
              "  </thead>\n",
              "  <tbody>\n",
              "    <tr>\n",
              "      <th>649</th>\n",
              "      <td>2023</td>\n",
              "      <td>SE</td>\n",
              "      <td>FT</td>\n",
              "      <td>Data Architect</td>\n",
              "      <td>376080</td>\n",
              "      <td>USD</td>\n",
              "      <td>376080</td>\n",
              "      <td>US</td>\n",
              "      <td>100</td>\n",
              "      <td>US</td>\n",
              "      <td>M</td>\n",
              "    </tr>\n",
              "    <tr>\n",
              "      <th>3468</th>\n",
              "      <td>2022</td>\n",
              "      <td>SE</td>\n",
              "      <td>FT</td>\n",
              "      <td>Applied Data Scientist</td>\n",
              "      <td>380000</td>\n",
              "      <td>USD</td>\n",
              "      <td>380000</td>\n",
              "      <td>US</td>\n",
              "      <td>100</td>\n",
              "      <td>US</td>\n",
              "      <td>L</td>\n",
              "    </tr>\n",
              "    <tr>\n",
              "      <th>1288</th>\n",
              "      <td>2023</td>\n",
              "      <td>SE</td>\n",
              "      <td>FT</td>\n",
              "      <td>Data Analyst</td>\n",
              "      <td>385000</td>\n",
              "      <td>USD</td>\n",
              "      <td>385000</td>\n",
              "      <td>US</td>\n",
              "      <td>0</td>\n",
              "      <td>US</td>\n",
              "      <td>M</td>\n",
              "    </tr>\n",
              "    <tr>\n",
              "      <th>3463</th>\n",
              "      <td>2022</td>\n",
              "      <td>SE</td>\n",
              "      <td>FT</td>\n",
              "      <td>Data Analytics Lead</td>\n",
              "      <td>405000</td>\n",
              "      <td>USD</td>\n",
              "      <td>405000</td>\n",
              "      <td>US</td>\n",
              "      <td>100</td>\n",
              "      <td>US</td>\n",
              "      <td>L</td>\n",
              "    </tr>\n",
              "    <tr>\n",
              "      <th>3750</th>\n",
              "      <td>2020</td>\n",
              "      <td>SE</td>\n",
              "      <td>FT</td>\n",
              "      <td>Data Scientist</td>\n",
              "      <td>412000</td>\n",
              "      <td>USD</td>\n",
              "      <td>412000</td>\n",
              "      <td>US</td>\n",
              "      <td>100</td>\n",
              "      <td>US</td>\n",
              "      <td>L</td>\n",
              "    </tr>\n",
              "    <tr>\n",
              "      <th>3675</th>\n",
              "      <td>2021</td>\n",
              "      <td>EX</td>\n",
              "      <td>CT</td>\n",
              "      <td>Principal Data Scientist</td>\n",
              "      <td>416000</td>\n",
              "      <td>USD</td>\n",
              "      <td>416000</td>\n",
              "      <td>US</td>\n",
              "      <td>100</td>\n",
              "      <td>US</td>\n",
              "      <td>S</td>\n",
              "    </tr>\n",
              "    <tr>\n",
              "      <th>3747</th>\n",
              "      <td>2021</td>\n",
              "      <td>MI</td>\n",
              "      <td>FT</td>\n",
              "      <td>Applied Machine Learning Scientist</td>\n",
              "      <td>423000</td>\n",
              "      <td>USD</td>\n",
              "      <td>423000</td>\n",
              "      <td>US</td>\n",
              "      <td>50</td>\n",
              "      <td>US</td>\n",
              "      <td>L</td>\n",
              "    </tr>\n",
              "    <tr>\n",
              "      <th>528</th>\n",
              "      <td>2023</td>\n",
              "      <td>SE</td>\n",
              "      <td>FT</td>\n",
              "      <td>AI Scientist</td>\n",
              "      <td>1500000</td>\n",
              "      <td>ILS</td>\n",
              "      <td>423834</td>\n",
              "      <td>IL</td>\n",
              "      <td>0</td>\n",
              "      <td>IL</td>\n",
              "      <td>L</td>\n",
              "    </tr>\n",
              "    <tr>\n",
              "      <th>2011</th>\n",
              "      <td>2022</td>\n",
              "      <td>MI</td>\n",
              "      <td>FT</td>\n",
              "      <td>Data Analyst</td>\n",
              "      <td>350000</td>\n",
              "      <td>GBP</td>\n",
              "      <td>430967</td>\n",
              "      <td>GB</td>\n",
              "      <td>0</td>\n",
              "      <td>GB</td>\n",
              "      <td>M</td>\n",
              "    </tr>\n",
              "    <tr>\n",
              "      <th>3522</th>\n",
              "      <td>2020</td>\n",
              "      <td>MI</td>\n",
              "      <td>FT</td>\n",
              "      <td>Research Scientist</td>\n",
              "      <td>450000</td>\n",
              "      <td>USD</td>\n",
              "      <td>450000</td>\n",
              "      <td>US</td>\n",
              "      <td>0</td>\n",
              "      <td>US</td>\n",
              "      <td>M</td>\n",
              "    </tr>\n",
              "  </tbody>\n",
              "</table>\n",
              "</div>\n",
              "    <div class=\"colab-df-buttons\">\n",
              "\n",
              "  <div class=\"colab-df-container\">\n",
              "    <button class=\"colab-df-convert\" onclick=\"convertToInteractive('df-86571856-8373-4852-bf0c-e01b2e7bb775')\"\n",
              "            title=\"Convert this dataframe to an interactive table.\"\n",
              "            style=\"display:none;\">\n",
              "\n",
              "  <svg xmlns=\"http://www.w3.org/2000/svg\" height=\"24px\" viewBox=\"0 -960 960 960\">\n",
              "    <path d=\"M120-120v-720h720v720H120Zm60-500h600v-160H180v160Zm220 220h160v-160H400v160Zm0 220h160v-160H400v160ZM180-400h160v-160H180v160Zm440 0h160v-160H620v160ZM180-180h160v-160H180v160Zm440 0h160v-160H620v160Z\"/>\n",
              "  </svg>\n",
              "    </button>\n",
              "\n",
              "  <style>\n",
              "    .colab-df-container {\n",
              "      display:flex;\n",
              "      gap: 12px;\n",
              "    }\n",
              "\n",
              "    .colab-df-convert {\n",
              "      background-color: #E8F0FE;\n",
              "      border: none;\n",
              "      border-radius: 50%;\n",
              "      cursor: pointer;\n",
              "      display: none;\n",
              "      fill: #1967D2;\n",
              "      height: 32px;\n",
              "      padding: 0 0 0 0;\n",
              "      width: 32px;\n",
              "    }\n",
              "\n",
              "    .colab-df-convert:hover {\n",
              "      background-color: #E2EBFA;\n",
              "      box-shadow: 0px 1px 2px rgba(60, 64, 67, 0.3), 0px 1px 3px 1px rgba(60, 64, 67, 0.15);\n",
              "      fill: #174EA6;\n",
              "    }\n",
              "\n",
              "    .colab-df-buttons div {\n",
              "      margin-bottom: 4px;\n",
              "    }\n",
              "\n",
              "    [theme=dark] .colab-df-convert {\n",
              "      background-color: #3B4455;\n",
              "      fill: #D2E3FC;\n",
              "    }\n",
              "\n",
              "    [theme=dark] .colab-df-convert:hover {\n",
              "      background-color: #434B5C;\n",
              "      box-shadow: 0px 1px 3px 1px rgba(0, 0, 0, 0.15);\n",
              "      filter: drop-shadow(0px 1px 2px rgba(0, 0, 0, 0.3));\n",
              "      fill: #FFFFFF;\n",
              "    }\n",
              "  </style>\n",
              "\n",
              "    <script>\n",
              "      const buttonEl =\n",
              "        document.querySelector('#df-86571856-8373-4852-bf0c-e01b2e7bb775 button.colab-df-convert');\n",
              "      buttonEl.style.display =\n",
              "        google.colab.kernel.accessAllowed ? 'block' : 'none';\n",
              "\n",
              "      async function convertToInteractive(key) {\n",
              "        const element = document.querySelector('#df-86571856-8373-4852-bf0c-e01b2e7bb775');\n",
              "        const dataTable =\n",
              "          await google.colab.kernel.invokeFunction('convertToInteractive',\n",
              "                                                    [key], {});\n",
              "        if (!dataTable) return;\n",
              "\n",
              "        const docLinkHtml = 'Like what you see? Visit the ' +\n",
              "          '<a target=\"_blank\" href=https://colab.research.google.com/notebooks/data_table.ipynb>data table notebook</a>'\n",
              "          + ' to learn more about interactive tables.';\n",
              "        element.innerHTML = '';\n",
              "        dataTable['output_type'] = 'display_data';\n",
              "        await google.colab.output.renderOutput(dataTable, element);\n",
              "        const docLink = document.createElement('div');\n",
              "        docLink.innerHTML = docLinkHtml;\n",
              "        element.appendChild(docLink);\n",
              "      }\n",
              "    </script>\n",
              "  </div>\n",
              "\n",
              "\n",
              "<div id=\"df-ff2ce2fa-f47c-458d-ae9c-3182b3abe746\">\n",
              "  <button class=\"colab-df-quickchart\" onclick=\"quickchart('df-ff2ce2fa-f47c-458d-ae9c-3182b3abe746')\"\n",
              "            title=\"Suggest charts\"\n",
              "            style=\"display:none;\">\n",
              "\n",
              "<svg xmlns=\"http://www.w3.org/2000/svg\" height=\"24px\"viewBox=\"0 0 24 24\"\n",
              "     width=\"24px\">\n",
              "    <g>\n",
              "        <path d=\"M19 3H5c-1.1 0-2 .9-2 2v14c0 1.1.9 2 2 2h14c1.1 0 2-.9 2-2V5c0-1.1-.9-2-2-2zM9 17H7v-7h2v7zm4 0h-2V7h2v10zm4 0h-2v-4h2v4z\"/>\n",
              "    </g>\n",
              "</svg>\n",
              "  </button>\n",
              "\n",
              "<style>\n",
              "  .colab-df-quickchart {\n",
              "      --bg-color: #E8F0FE;\n",
              "      --fill-color: #1967D2;\n",
              "      --hover-bg-color: #E2EBFA;\n",
              "      --hover-fill-color: #174EA6;\n",
              "      --disabled-fill-color: #AAA;\n",
              "      --disabled-bg-color: #DDD;\n",
              "  }\n",
              "\n",
              "  [theme=dark] .colab-df-quickchart {\n",
              "      --bg-color: #3B4455;\n",
              "      --fill-color: #D2E3FC;\n",
              "      --hover-bg-color: #434B5C;\n",
              "      --hover-fill-color: #FFFFFF;\n",
              "      --disabled-bg-color: #3B4455;\n",
              "      --disabled-fill-color: #666;\n",
              "  }\n",
              "\n",
              "  .colab-df-quickchart {\n",
              "    background-color: var(--bg-color);\n",
              "    border: none;\n",
              "    border-radius: 50%;\n",
              "    cursor: pointer;\n",
              "    display: none;\n",
              "    fill: var(--fill-color);\n",
              "    height: 32px;\n",
              "    padding: 0;\n",
              "    width: 32px;\n",
              "  }\n",
              "\n",
              "  .colab-df-quickchart:hover {\n",
              "    background-color: var(--hover-bg-color);\n",
              "    box-shadow: 0 1px 2px rgba(60, 64, 67, 0.3), 0 1px 3px 1px rgba(60, 64, 67, 0.15);\n",
              "    fill: var(--button-hover-fill-color);\n",
              "  }\n",
              "\n",
              "  .colab-df-quickchart-complete:disabled,\n",
              "  .colab-df-quickchart-complete:disabled:hover {\n",
              "    background-color: var(--disabled-bg-color);\n",
              "    fill: var(--disabled-fill-color);\n",
              "    box-shadow: none;\n",
              "  }\n",
              "\n",
              "  .colab-df-spinner {\n",
              "    border: 2px solid var(--fill-color);\n",
              "    border-color: transparent;\n",
              "    border-bottom-color: var(--fill-color);\n",
              "    animation:\n",
              "      spin 1s steps(1) infinite;\n",
              "  }\n",
              "\n",
              "  @keyframes spin {\n",
              "    0% {\n",
              "      border-color: transparent;\n",
              "      border-bottom-color: var(--fill-color);\n",
              "      border-left-color: var(--fill-color);\n",
              "    }\n",
              "    20% {\n",
              "      border-color: transparent;\n",
              "      border-left-color: var(--fill-color);\n",
              "      border-top-color: var(--fill-color);\n",
              "    }\n",
              "    30% {\n",
              "      border-color: transparent;\n",
              "      border-left-color: var(--fill-color);\n",
              "      border-top-color: var(--fill-color);\n",
              "      border-right-color: var(--fill-color);\n",
              "    }\n",
              "    40% {\n",
              "      border-color: transparent;\n",
              "      border-right-color: var(--fill-color);\n",
              "      border-top-color: var(--fill-color);\n",
              "    }\n",
              "    60% {\n",
              "      border-color: transparent;\n",
              "      border-right-color: var(--fill-color);\n",
              "    }\n",
              "    80% {\n",
              "      border-color: transparent;\n",
              "      border-right-color: var(--fill-color);\n",
              "      border-bottom-color: var(--fill-color);\n",
              "    }\n",
              "    90% {\n",
              "      border-color: transparent;\n",
              "      border-bottom-color: var(--fill-color);\n",
              "    }\n",
              "  }\n",
              "</style>\n",
              "\n",
              "  <script>\n",
              "    async function quickchart(key) {\n",
              "      const quickchartButtonEl =\n",
              "        document.querySelector('#' + key + ' button');\n",
              "      quickchartButtonEl.disabled = true;  // To prevent multiple clicks.\n",
              "      quickchartButtonEl.classList.add('colab-df-spinner');\n",
              "      try {\n",
              "        const charts = await google.colab.kernel.invokeFunction(\n",
              "            'suggestCharts', [key], {});\n",
              "      } catch (error) {\n",
              "        console.error('Error during call to suggestCharts:', error);\n",
              "      }\n",
              "      quickchartButtonEl.classList.remove('colab-df-spinner');\n",
              "      quickchartButtonEl.classList.add('colab-df-quickchart-complete');\n",
              "    }\n",
              "    (() => {\n",
              "      let quickchartButtonEl =\n",
              "        document.querySelector('#df-ff2ce2fa-f47c-458d-ae9c-3182b3abe746 button');\n",
              "      quickchartButtonEl.style.display =\n",
              "        google.colab.kernel.accessAllowed ? 'block' : 'none';\n",
              "    })();\n",
              "  </script>\n",
              "</div>\n",
              "\n",
              "    </div>\n",
              "  </div>\n"
            ],
            "application/vnd.google.colaboratory.intrinsic+json": {
              "type": "dataframe",
              "summary": "{\n  \"name\": \"sorted_df\",\n  \"rows\": 10,\n  \"fields\": [\n    {\n      \"column\": \"work_year\",\n      \"properties\": {\n        \"dtype\": \"number\",\n        \"std\": 1,\n        \"min\": 2020,\n        \"max\": 2023,\n        \"num_unique_values\": 4,\n        \"samples\": [\n          2022,\n          2021,\n          2023\n        ],\n        \"semantic_type\": \"\",\n        \"description\": \"\"\n      }\n    },\n    {\n      \"column\": \"experience_level\",\n      \"properties\": {\n        \"dtype\": \"category\",\n        \"num_unique_values\": 3,\n        \"samples\": [\n          \"SE\",\n          \"EX\",\n          \"MI\"\n        ],\n        \"semantic_type\": \"\",\n        \"description\": \"\"\n      }\n    },\n    {\n      \"column\": \"employment_type\",\n      \"properties\": {\n        \"dtype\": \"category\",\n        \"num_unique_values\": 2,\n        \"samples\": [\n          \"CT\",\n          \"FT\"\n        ],\n        \"semantic_type\": \"\",\n        \"description\": \"\"\n      }\n    },\n    {\n      \"column\": \"job_title\",\n      \"properties\": {\n        \"dtype\": \"string\",\n        \"num_unique_values\": 9,\n        \"samples\": [\n          \"AI Scientist\",\n          \"Applied Data Scientist\"\n        ],\n        \"semantic_type\": \"\",\n        \"description\": \"\"\n      }\n    },\n    {\n      \"column\": \"salary\",\n      \"properties\": {\n        \"dtype\": \"number\",\n        \"std\": 349092,\n        \"min\": 350000,\n        \"max\": 1500000,\n        \"num_unique_values\": 10,\n        \"samples\": [\n          350000,\n          380000\n        ],\n        \"semantic_type\": \"\",\n        \"description\": \"\"\n      }\n    },\n    {\n      \"column\": \"salary_currency\",\n      \"properties\": {\n        \"dtype\": \"category\",\n        \"num_unique_values\": 3,\n        \"samples\": [\n          \"USD\",\n          \"ILS\"\n        ],\n        \"semantic_type\": \"\",\n        \"description\": \"\"\n      }\n    },\n    {\n      \"column\": \"salary_in_usd\",\n      \"properties\": {\n        \"dtype\": \"number\",\n        \"std\": 23898,\n        \"min\": 376080,\n        \"max\": 450000,\n        \"num_unique_values\": 10,\n        \"samples\": [\n          430967,\n          380000\n        ],\n        \"semantic_type\": \"\",\n        \"description\": \"\"\n      }\n    },\n    {\n      \"column\": \"employee_residence\",\n      \"properties\": {\n        \"dtype\": \"category\",\n        \"num_unique_values\": 3,\n        \"samples\": [\n          \"US\",\n          \"IL\"\n        ],\n        \"semantic_type\": \"\",\n        \"description\": \"\"\n      }\n    },\n    {\n      \"column\": \"remote_ratio\",\n      \"properties\": {\n        \"dtype\": \"number\",\n        \"std\": 49,\n        \"min\": 0,\n        \"max\": 100,\n        \"num_unique_values\": 3,\n        \"samples\": [\n          100,\n          0\n        ],\n        \"semantic_type\": \"\",\n        \"description\": \"\"\n      }\n    },\n    {\n      \"column\": \"company_location\",\n      \"properties\": {\n        \"dtype\": \"category\",\n        \"num_unique_values\": 3,\n        \"samples\": [\n          \"US\",\n          \"IL\"\n        ],\n        \"semantic_type\": \"\",\n        \"description\": \"\"\n      }\n    },\n    {\n      \"column\": \"company_size\",\n      \"properties\": {\n        \"dtype\": \"category\",\n        \"num_unique_values\": 3,\n        \"samples\": [\n          \"M\",\n          \"L\"\n        ],\n        \"semantic_type\": \"\",\n        \"description\": \"\"\n      }\n    }\n  ]\n}"
            }
          },
          "metadata": {},
          "execution_count": 37
        }
      ]
    },
    {
      "cell_type": "markdown",
      "source": [
        "Here's a brief summary of the 10 lowest-paying roles:\n",
        "\n",
        "1. **Data Architect**:\n",
        "Work Year: 2023\n",
        "Salary in USD: 376080\n",
        "\n",
        "2. **Applied Data Scientist**:\n",
        "Work Year: 2022\n",
        "Salary in USD: 380000\n",
        "\n",
        "3. **Data Analyst**:\n",
        "Work Year: 2023\n",
        "Salary in USD: 385000\n",
        "\n",
        "4. **Data Analytics Lead**:\n",
        "Work Year: 2022\n",
        "Salary in USD: 405000\n",
        "\n",
        "5. **Data Scientist**:\n",
        "Work Year: 2020\n",
        "Salary in USD: 412000\n",
        "\n",
        "6. **Principal Data Scientist**:\n",
        "Work Year: 2021\n",
        "Salary in USD: 416000\n",
        "\n",
        "7. **Applied Machine Learning Scientist**:\n",
        "Work Year: 2021\n",
        "Salary in USD: 423000\n",
        "\n",
        "8. **AI Scientist**:\n",
        "Work Year: 2023\n",
        "Salary in ILS: 423834\n",
        "\n",
        "9. **Data Analyst**:\n",
        "Work Year: 2022\n",
        "Salary in GBP: 430967\n",
        "\n",
        "10. **Research Scientist**:\n",
        "Work Year: 2020\n",
        "Salary in USD: 450000"
      ],
      "metadata": {
        "id": "tQMQOUY3Ep4A"
      }
    },
    {
      "cell_type": "markdown",
      "source": [
        "## **Multivariate Analysis**"
      ],
      "metadata": {
        "id": "thX7_eicgW0w"
      }
    },
    {
      "cell_type": "markdown",
      "source": [
        "Multivariate analysis involves the analysis of three or more variables to understand the relationships between them. It helps to uncover complex patterns and interactions that may not be apparent in univariate or bivariate analyses. Multivariate analysis techniques include multiple regression, factor analysis, and cluster analysis."
      ],
      "metadata": {
        "id": "guCPgbYD5wSM"
      }
    },
    {
      "cell_type": "markdown",
      "source": [
        "### Analysis of jobs provided by Large companies"
      ],
      "metadata": {
        "id": "g3xBgPfWgtyj"
      }
    },
    {
      "cell_type": "code",
      "source": [
        "large_jobs = mapped_job_titles[df.company_size==\"L\"]\n",
        "large_jobs.value_counts()"
      ],
      "metadata": {
        "colab": {
          "base_uri": "https://localhost:8080/"
        },
        "id": "aHD8Y0f2gve-",
        "outputId": "af672359-aab0-41ad-a9fb-65c27a11e8db"
      },
      "execution_count": 38,
      "outputs": [
        {
          "output_type": "execute_result",
          "data": {
            "text/plain": [
              "job_title\n",
              "Data Science & Machine Learning      230\n",
              "Data Engineering & Infrastructure    105\n",
              "Data Analysis & Analytics             71\n",
              "Data Management                       23\n",
              "Artificial Intelligence (AI)          10\n",
              "Business Intelligence (BI)             9\n",
              "Compliance & Quality Assurance         2\n",
              "Computer Vision                        2\n",
              "Product & Marketing Data               2\n",
              "Name: count, dtype: int64"
            ]
          },
          "metadata": {},
          "execution_count": 38
        }
      ]
    },
    {
      "cell_type": "markdown",
      "source": [
        "This output shows the count of each job title within the subset of jobs that belong to large companies. The most common job titles in this subset are \"Data Science & Machine Learning\" with 230 occurrences, followed by \"Data Engineering & Infrastructure\" with 105 occurrences, and \"Data Analysis & Analytics\" with 71 occurrences. Other job titles, such as \"Data Management,\" \"Artificial Intelligence (AI),\" and \"Business Intelligence (BI),\" have lower counts, ranging from 2 to 23 occurrences."
      ],
      "metadata": {
        "id": "46cY0h59Fjga"
      }
    },
    {
      "cell_type": "code",
      "source": [
        "job_vs_salary_L = pd.Series({job : df.salary_in_usd[df.company_size==\"L\"][large_jobs==job].mean() for job in large_jobs.value_counts().keys()}).sort_values()\n",
        "print(job_vs_salary_L)\n",
        "job_vs_salary_L.plot(kind=\"bar\");"
      ],
      "metadata": {
        "colab": {
          "base_uri": "https://localhost:8080/",
          "height": 831
        },
        "id": "TUqH45JCgx1w",
        "outputId": "06c66526-242d-4961-8e57-6277d6b79d25"
      },
      "execution_count": 39,
      "outputs": [
        {
          "output_type": "stream",
          "name": "stdout",
          "text": [
            "Computer Vision                       36363.500000\n",
            "Product & Marketing Data              37485.000000\n",
            "Business Intelligence (BI)            61302.333333\n",
            "Compliance & Quality Assurance        65000.000000\n",
            "Data Analysis & Analytics             81961.549296\n",
            "Data Engineering & Infrastructure    120747.600000\n",
            "Data Science & Machine Learning      126814.708696\n",
            "Data Management                      152638.478261\n",
            "Artificial Intelligence (AI)         170339.200000\n",
            "dtype: float64\n"
          ]
        },
        {
          "output_type": "display_data",
          "data": {
            "text/plain": [
              "<Figure size 640x480 with 1 Axes>"
            ],
            "image/png": "[encoded data removed]"
          },
          "metadata": {}
        }
      ]
    },
    {
      "cell_type": "markdown",
      "source": [
        "This output presents the average salaries for different job categories. Among these categories, \"Computer Vision\" has the lowest average salary at 36,363.50 dollars, followed by \"Product & Marketing Data\" at 37,485.00 dollars. On the other end, \"Artificial Intelligence (AI)\" has the highest average salary at 170,339.20 dollars, followed by \"Data Management\" at 152,638.48 dollars. The \"Data Engineering & Infrastructure\" and \"Data Science & Machine Learning\" categories also have relatively high average salaries at 120,747.60 dollars and 126,814.71 dollars, respectively."
      ],
      "metadata": {
        "id": "Ln5FIPC8GTSB"
      }
    },
    {
      "cell_type": "markdown",
      "source": [
        "### Analysis of Hybrid jobs"
      ],
      "metadata": {
        "id": "LXckKC6dg3nt"
      }
    },
    {
      "cell_type": "code",
      "source": [
        "hybrid_jobs = mapped_job_titles[df.remote_ratio==50]\n",
        "hybrid_jobs.value_counts()"
      ],
      "metadata": {
        "colab": {
          "base_uri": "https://localhost:8080/"
        },
        "id": "85AbXbDeg0Sc",
        "outputId": "fcb086b5-e762-47d3-9279-02d9ebd4d889"
      },
      "execution_count": 40,
      "outputs": [
        {
          "output_type": "execute_result",
          "data": {
            "text/plain": [
              "job_title\n",
              "Data Science & Machine Learning      104\n",
              "Data Analysis & Analytics             29\n",
              "Data Engineering & Infrastructure     29\n",
              "Data Management                        8\n",
              "Artificial Intelligence (AI)           7\n",
              "Business Intelligence (BI)             6\n",
              "Computer Vision                        4\n",
              "Product & Marketing Data               1\n",
              "Compliance & Quality Assurance         1\n",
              "Name: count, dtype: int64"
            ]
          },
          "metadata": {},
          "execution_count": 40
        }
      ]
    },
    {
      "cell_type": "markdown",
      "source": [
        "This output displays the count of each job title within the subset of jobs that have a remote work ratio of 50%. The most common job titles in this subset are \"Data Science & Machine Learning,\" \"Data Analysis & Analytics,\" and \"Data Engineering & Infrastructure,\" with 104, 29, and 29 occurrences, respectively."
      ],
      "metadata": {
        "id": "Yvrv8mAlF8j0"
      }
    },
    {
      "cell_type": "code",
      "source": [
        "job_vs_salary_H = pd.Series({job : df.salary_in_usd[df.remote_ratio==50][hybrid_jobs==job].mean() for job in hybrid_jobs.value_counts().keys()}).sort_values()\n",
        "print(job_vs_salary_H)\n",
        "job_vs_salary_H.plot(kind=\"bar\");"
      ],
      "metadata": {
        "colab": {
          "base_uri": "https://localhost:8080/",
          "height": 831
        },
        "id": "UBZh28Ddg76u",
        "outputId": "b52d28a2-bf47-4239-d2e0-6b61f020f841"
      },
      "execution_count": 41,
      "outputs": [
        {
          "output_type": "stream",
          "name": "stdout",
          "text": [
            "Computer Vision                       15772.750000\n",
            "Compliance & Quality Assurance        45555.000000\n",
            "Data Analysis & Analytics             51103.206897\n",
            "Business Intelligence (BI)            51263.166667\n",
            "Product & Marketing Data              66970.000000\n",
            "Data Science & Machine Learning       81834.028846\n",
            "Data Engineering & Infrastructure     85196.448276\n",
            "Artificial Intelligence (AI)         122976.571429\n",
            "Data Management                      126283.750000\n",
            "dtype: float64\n"
          ]
        },
        {
          "output_type": "display_data",
          "data": {
            "text/plain": [
              "<Figure size 640x480 with 1 Axes>"
            ],
            "image/png": "[encoded data removed]"
          },
          "metadata": {}
        }
      ]
    },
    {
      "cell_type": "markdown",
      "source": [
        "This output shows the average salaries for different job categories. \"Computer Vision\" has the lowest average salary at 15,772.75 dollars, followed by \"Compliance & Quality Assurance\" at 45,555.00 dollars. \"Data Analysis & Analytics\" and \"Business Intelligence (BI)\" have similar average salaries at 51,103.21 dollars and 51,263.17 dollars, respectively. \"Product & Marketing Data\" has an average salary of 66,970.00 dollars, while \"Data Science & Machine Learning\" has an average salary of 81,834.03 dollars. The highest average salaries are in \"Data Engineering & Infrastructure\" at 85,196.45 dollars, \"Artificial Intelligence (AI)\" at 122,976.57 dollars, and \"Data Management\" at 126,283.75 dollars."
      ],
      "metadata": {
        "id": "N_RT_-YUGnHS"
      }
    },
    {
      "cell_type": "markdown",
      "source": [
        "### Analysis of jobs with different employee residence and company location"
      ],
      "metadata": {
        "id": "AP1VOA0Sg-z7"
      }
    },
    {
      "cell_type": "code",
      "source": [
        "df.remote_ratio[df.company_location!=df.employee_residence].value_counts()"
      ],
      "metadata": {
        "colab": {
          "base_uri": "https://localhost:8080/"
        },
        "id": "4DM04BkLhAcp",
        "outputId": "78b9f50d-7027-4c29-d2dd-eb3260386677"
      },
      "execution_count": 42,
      "outputs": [
        {
          "output_type": "execute_result",
          "data": {
            "text/plain": [
              "remote_ratio\n",
              "100    71\n",
              "50     18\n",
              "0       7\n",
              "Name: count, dtype: int64"
            ]
          },
          "metadata": {},
          "execution_count": 42
        }
      ]
    },
    {
      "cell_type": "markdown",
      "source": [
        "This output shows the distribution of remote work ratios for cases where the company location does not match the employee's residence. There are 71 instances where the remote work ratio is 100%, indicating fully remote work. Additionally, there are 18 instances with a 50% remote work ratio and 7 instances with no remote work (0% remote work ratio)."
      ],
      "metadata": {
        "id": "FFJC7cRVG5xY"
      }
    },
    {
      "cell_type": "code",
      "source": [
        "df.employment_type[df.company_location!=df.employee_residence].value_counts()"
      ],
      "metadata": {
        "colab": {
          "base_uri": "https://localhost:8080/"
        },
        "id": "j37Vl43UhD3l",
        "outputId": "60478d43-6731-4e18-a13f-2bf00abb2ea8"
      },
      "execution_count": 43,
      "outputs": [
        {
          "output_type": "execute_result",
          "data": {
            "text/plain": [
              "employment_type\n",
              "FT    81\n",
              "PT     7\n",
              "FL     6\n",
              "CT     2\n",
              "Name: count, dtype: int64"
            ]
          },
          "metadata": {},
          "execution_count": 43
        }
      ]
    },
    {
      "cell_type": "markdown",
      "source": [
        "This output indicates the distribution of employment types for cases where the company location does not match the employee's residence. There are 81 instances of full-time (FT) employment, 7 instances of part-time (PT) employment, 6 instances of freelance (FL) employment, and 2 instances of contract (CT) employment."
      ],
      "metadata": {
        "id": "7YTCvwn9G_-q"
      }
    },
    {
      "cell_type": "code",
      "source": [
        "mapped_job_titles[df.company_location!=df.employee_residence].value_counts()"
      ],
      "metadata": {
        "colab": {
          "base_uri": "https://localhost:8080/"
        },
        "id": "vMmg-oDUhGjM",
        "outputId": "54389fb1-5111-438d-934b-29888f8d59ae"
      },
      "execution_count": 44,
      "outputs": [
        {
          "output_type": "execute_result",
          "data": {
            "text/plain": [
              "job_title\n",
              "Data Science & Machine Learning      39\n",
              "Data Analysis & Analytics            18\n",
              "Data Engineering & Infrastructure    17\n",
              "Artificial Intelligence (AI)          7\n",
              "Computer Vision                       6\n",
              "Data Management                       5\n",
              "Business Intelligence (BI)            2\n",
              "Compliance & Quality Assurance        1\n",
              "Product & Marketing Data              1\n",
              "Name: count, dtype: int64"
            ]
          },
          "metadata": {},
          "execution_count": 44
        }
      ]
    },
    {
      "cell_type": "markdown",
      "source": [
        "This output shows the distribution of job titles for cases where the company location does not match the employee's residence. The most common job title is \"Data Science & Machine Learning\" with 39 occurrences, followed by \"Data Analysis & Analytics\" with 18 occurrences, and \"Data Engineering & Infrastructure\" with 17 occurrences. Other job titles like \"Artificial Intelligence (AI),\" \"Computer Vision,\" \"Data Management,\" \"Business Intelligence (BI),\" \"Compliance & Quality Assurance,\" and \"Product & Marketing Data\" also appear in smaller numbers."
      ],
      "metadata": {
        "id": "O9u-nEv3HH5k"
      }
    },
    {
      "cell_type": "code",
      "source": [
        "print(df.salary_in_usd[df.company_location!=df.employee_residence].describe())\n",
        "df.salary_in_usd[df.company_location!=df.employee_residence].plot(kind=\"hist\")"
      ],
      "metadata": {
        "colab": {
          "base_uri": "https://localhost:8080/",
          "height": 609
        },
        "id": "aGXghCJThTpg",
        "outputId": "795f7184-fc78-4d1a-e3b2-7a54a47e2d86"
      },
      "execution_count": 45,
      "outputs": [
        {
          "output_type": "stream",
          "name": "stdout",
          "text": [
            "count        96.000000\n",
            "mean      68359.989583\n",
            "std       48624.396083\n",
            "min        5679.000000\n",
            "25%       35862.250000\n",
            "50%       55108.500000\n",
            "75%       88355.500000\n",
            "max      225000.000000\n",
            "Name: salary_in_usd, dtype: float64\n"
          ]
        },
        {
          "output_type": "execute_result",
          "data": {
            "text/plain": [
              "<Axes: ylabel='Frequency'>"
            ]
          },
          "metadata": {},
          "execution_count": 45
        },
        {
          "output_type": "display_data",
          "data": {
            "text/plain": [
              "<Figure size 640x480 with 1 Axes>"
            ],
            "image/png": "[encoded data removed]"
          },
          "metadata": {}
        }
      ]
    },
    {
      "cell_type": "markdown",
      "source": [
        "This summary provides statistical information about the \"salary_in_usd\" column for cases where the company location does not match the employee's residence. It includes the count, mean, standard deviation, minimum, 25th percentile, median, 75th percentile, and maximum values for the salary data."
      ],
      "metadata": {
        "id": "4GEg6nxRHUwY"
      }
    },
    {
      "cell_type": "code",
      "source": [
        "# Full time onsite jobs where employee residence is not the same as company location\n",
        "mapped_job_titles[df.remote_ratio==0][df.company_location!=df.employee_residence].value_counts()"
      ],
      "metadata": {
        "colab": {
          "base_uri": "https://localhost:8080/"
        },
        "id": "PS387q_DhWmG",
        "outputId": "cd5fcd6e-cd3f-4bf3-d6e6-9850c61c689a"
      },
      "execution_count": 46,
      "outputs": [
        {
          "output_type": "execute_result",
          "data": {
            "text/plain": [
              "job_title\n",
              "Data Engineering & Infrastructure    3\n",
              "Data Analysis & Analytics            1\n",
              "Artificial Intelligence (AI)         1\n",
              "Data Management                      1\n",
              "Data Science & Machine Learning      1\n",
              "Name: count, dtype: int64"
            ]
          },
          "metadata": {},
          "execution_count": 46
        }
      ]
    },
    {
      "cell_type": "markdown",
      "source": [
        "This summary shows the count of job titles for cases where the company location does not match the employee's residence. The job titles include \"Data Engineering & Infrastructure,\" \"Data Analysis & Analytics,\" \"Artificial Intelligence (AI),\" \"Data Management,\" and \"Data Science & Machine Learning.\""
      ],
      "metadata": {
        "id": "DvpuowWGHbvu"
      }
    },
    {
      "cell_type": "code",
      "source": [
        "print(df.salary_in_usd[df.remote_ratio==0][df.company_location!=df.employee_residence].describe())\n",
        "df[df.remote_ratio==0][df.company_location!=df.employee_residence]"
      ],
      "metadata": {
        "colab": {
          "base_uri": "https://localhost:8080/",
          "height": 624
        },
        "id": "1xtF_nAThYVz",
        "outputId": "2f0929ed-0a94-41d7-efab-63911674a234"
      },
      "execution_count": 47,
      "outputs": [
        {
          "output_type": "stream",
          "name": "stdout",
          "text": [
            "count         7.000000\n",
            "mean      48983.857143\n",
            "std       42182.006679\n",
            "min        5882.000000\n",
            "25%       17500.000000\n",
            "50%       26005.000000\n",
            "75%       85000.000000\n",
            "max      106000.000000\n",
            "Name: salary_in_usd, dtype: float64\n"
          ]
        },
        {
          "output_type": "stream",
          "name": "stderr",
          "text": [
            "<ipython-input-47-d455811ee8ec>:2: UserWarning: Boolean Series key will be reindexed to match DataFrame index.\n",
            "  df[df.remote_ratio==0][df.company_location!=df.employee_residence]\n"
          ]
        },
        {
          "output_type": "execute_result",
          "data": {
            "text/plain": [
              "      work_year experience_level employment_type             job_title  \\\n",
              "183        2020               EX              FT    Staff Data Analyst   \n",
              "736        2023               EN              FT         AI Programmer   \n",
              "974        2022               EX              FT  Data Science Manager   \n",
              "3621       2021               EN              FT    Research Scientist   \n",
              "3664       2021               MI              FT         Data Engineer   \n",
              "3696       2021               MI              FL         Data Engineer   \n",
              "3705       2021               EN              FT     Big Data Engineer   \n",
              "\n",
              "      salary salary_currency  salary_in_usd employee_residence  remote_ratio  \\\n",
              "183    15000             USD          15000                 NG             0   \n",
              "736    70000             USD          70000                 IN             0   \n",
              "974   106000             USD         106000                 UZ             0   \n",
              "3621  100000             USD         100000                 JE             0   \n",
              "3664   22000             EUR          26005                 RO             0   \n",
              "3696   20000             USD          20000                 IT             0   \n",
              "3705  435000             INR           5882                 IN             0   \n",
              "\n",
              "     company_location company_size  \n",
              "183                CA            M  \n",
              "736                AU            L  \n",
              "974                RU            L  \n",
              "3621               CN            L  \n",
              "3664               US            L  \n",
              "3696               US            L  \n",
              "3705               CH            L  "
            ],
            "text/html": [
              "\n",
              "  <div id=\"df-20b77d42-93c0-4bb4-ab76-96614b152f1a\" class=\"colab-df-container\">\n",
              "    <div>\n",
              "<style scoped>\n",
              "    .dataframe tbody tr th:only-of-type {\n",
              "        vertical-align: middle;\n",
              "    }\n",
              "\n",
              "    .dataframe tbody tr th {\n",
              "        vertical-align: top;\n",
              "    }\n",
              "\n",
              "    .dataframe thead th {\n",
              "        text-align: right;\n",
              "    }\n",
              "</style>\n",
              "<table border=\"1\" class=\"dataframe\">\n",
              "  <thead>\n",
              "    <tr style=\"text-align: right;\">\n",
              "      <th></th>\n",
              "      <th>work_year</th>\n",
              "      <th>experience_level</th>\n",
              "      <th>employment_type</th>\n",
              "      <th>job_title</th>\n",
              "      <th>salary</th>\n",
              "      <th>salary_currency</th>\n",
              "      <th>salary_in_usd</th>\n",
              "      <th>employee_residence</th>\n",
              "      <th>remote_ratio</th>\n",
              "      <th>company_location</th>\n",
              "      <th>company_size</th>\n",
              "    </tr>\n",
              "  </thead>\n",
              "  <tbody>\n",
              "    <tr>\n",
              "      <th>183</th>\n",
              "      <td>2020</td>\n",
              "      <td>EX</td>\n",
              "      <td>FT</td>\n",
              "      <td>Staff Data Analyst</td>\n",
              "      <td>15000</td>\n",
              "      <td>USD</td>\n",
              "      <td>15000</td>\n",
              "      <td>NG</td>\n",
              "      <td>0</td>\n",
              "      <td>CA</td>\n",
              "      <td>M</td>\n",
              "    </tr>\n",
              "    <tr>\n",
              "      <th>736</th>\n",
              "      <td>2023</td>\n",
              "      <td>EN</td>\n",
              "      <td>FT</td>\n",
              "      <td>AI Programmer</td>\n",
              "      <td>70000</td>\n",
              "      <td>USD</td>\n",
              "      <td>70000</td>\n",
              "      <td>IN</td>\n",
              "      <td>0</td>\n",
              "      <td>AU</td>\n",
              "      <td>L</td>\n",
              "    </tr>\n",
              "    <tr>\n",
              "      <th>974</th>\n",
              "      <td>2022</td>\n",
              "      <td>EX</td>\n",
              "      <td>FT</td>\n",
              "      <td>Data Science Manager</td>\n",
              "      <td>106000</td>\n",
              "      <td>USD</td>\n",
              "      <td>106000</td>\n",
              "      <td>UZ</td>\n",
              "      <td>0</td>\n",
              "      <td>RU</td>\n",
              "      <td>L</td>\n",
              "    </tr>\n",
              "    <tr>\n",
              "      <th>3621</th>\n",
              "      <td>2021</td>\n",
              "      <td>EN</td>\n",
              "      <td>FT</td>\n",
              "      <td>Research Scientist</td>\n",
              "      <td>100000</td>\n",
              "      <td>USD</td>\n",
              "      <td>100000</td>\n",
              "      <td>JE</td>\n",
              "      <td>0</td>\n",
              "      <td>CN</td>\n",
              "      <td>L</td>\n",
              "    </tr>\n",
              "    <tr>\n",
              "      <th>3664</th>\n",
              "      <td>2021</td>\n",
              "      <td>MI</td>\n",
              "      <td>FT</td>\n",
              "      <td>Data Engineer</td>\n",
              "      <td>22000</td>\n",
              "      <td>EUR</td>\n",
              "      <td>26005</td>\n",
              "      <td>RO</td>\n",
              "      <td>0</td>\n",
              "      <td>US</td>\n",
              "      <td>L</td>\n",
              "    </tr>\n",
              "    <tr>\n",
              "      <th>3696</th>\n",
              "      <td>2021</td>\n",
              "      <td>MI</td>\n",
              "      <td>FL</td>\n",
              "      <td>Data Engineer</td>\n",
              "      <td>20000</td>\n",
              "      <td>USD</td>\n",
              "      <td>20000</td>\n",
              "      <td>IT</td>\n",
              "      <td>0</td>\n",
              "      <td>US</td>\n",
              "      <td>L</td>\n",
              "    </tr>\n",
              "    <tr>\n",
              "      <th>3705</th>\n",
              "      <td>2021</td>\n",
              "      <td>EN</td>\n",
              "      <td>FT</td>\n",
              "      <td>Big Data Engineer</td>\n",
              "      <td>435000</td>\n",
              "      <td>INR</td>\n",
              "      <td>5882</td>\n",
              "      <td>IN</td>\n",
              "      <td>0</td>\n",
              "      <td>CH</td>\n",
              "      <td>L</td>\n",
              "    </tr>\n",
              "  </tbody>\n",
              "</table>\n",
              "</div>\n",
              "    <div class=\"colab-df-buttons\">\n",
              "\n",
              "  <div class=\"colab-df-container\">\n",
              "    <button class=\"colab-df-convert\" onclick=\"convertToInteractive('df-20b77d42-93c0-4bb4-ab76-96614b152f1a')\"\n",
              "            title=\"Convert this dataframe to an interactive table.\"\n",
              "            style=\"display:none;\">\n",
              "\n",
              "  <svg xmlns=\"http://www.w3.org/2000/svg\" height=\"24px\" viewBox=\"0 -960 960 960\">\n",
              "    <path d=\"M120-120v-720h720v720H120Zm60-500h600v-160H180v160Zm220 220h160v-160H400v160Zm0 220h160v-160H400v160ZM180-400h160v-160H180v160Zm440 0h160v-160H620v160ZM180-180h160v-160H180v160Zm440 0h160v-160H620v160Z\"/>\n",
              "  </svg>\n",
              "    </button>\n",
              "\n",
              "  <style>\n",
              "    .colab-df-container {\n",
              "      display:flex;\n",
              "      gap: 12px;\n",
              "    }\n",
              "\n",
              "    .colab-df-convert {\n",
              "      background-color: #E8F0FE;\n",
              "      border: none;\n",
              "      border-radius: 50%;\n",
              "      cursor: pointer;\n",
              "      display: none;\n",
              "      fill: #1967D2;\n",
              "      height: 32px;\n",
              "      padding: 0 0 0 0;\n",
              "      width: 32px;\n",
              "    }\n",
              "\n",
              "    .colab-df-convert:hover {\n",
              "      background-color: #E2EBFA;\n",
              "      box-shadow: 0px 1px 2px rgba(60, 64, 67, 0.3), 0px 1px 3px 1px rgba(60, 64, 67, 0.15);\n",
              "      fill: #174EA6;\n",
              "    }\n",
              "\n",
              "    .colab-df-buttons div {\n",
              "      margin-bottom: 4px;\n",
              "    }\n",
              "\n",
              "    [theme=dark] .colab-df-convert {\n",
              "      background-color: #3B4455;\n",
              "      fill: #D2E3FC;\n",
              "    }\n",
              "\n",
              "    [theme=dark] .colab-df-convert:hover {\n",
              "      background-color: #434B5C;\n",
              "      box-shadow: 0px 1px 3px 1px rgba(0, 0, 0, 0.15);\n",
              "      filter: drop-shadow(0px 1px 2px rgba(0, 0, 0, 0.3));\n",
              "      fill: #FFFFFF;\n",
              "    }\n",
              "  </style>\n",
              "\n",
              "    <script>\n",
              "      const buttonEl =\n",
              "        document.querySelector('#df-20b77d42-93c0-4bb4-ab76-96614b152f1a button.colab-df-convert');\n",
              "      buttonEl.style.display =\n",
              "        google.colab.kernel.accessAllowed ? 'block' : 'none';\n",
              "\n",
              "      async function convertToInteractive(key) {\n",
              "        const element = document.querySelector('#df-20b77d42-93c0-4bb4-ab76-96614b152f1a');\n",
              "        const dataTable =\n",
              "          await google.colab.kernel.invokeFunction('convertToInteractive',\n",
              "                                                    [key], {});\n",
              "        if (!dataTable) return;\n",
              "\n",
              "        const docLinkHtml = 'Like what you see? Visit the ' +\n",
              "          '<a target=\"_blank\" href=https://colab.research.google.com/notebooks/data_table.ipynb>data table notebook</a>'\n",
              "          + ' to learn more about interactive tables.';\n",
              "        element.innerHTML = '';\n",
              "        dataTable['output_type'] = 'display_data';\n",
              "        await google.colab.output.renderOutput(dataTable, element);\n",
              "        const docLink = document.createElement('div');\n",
              "        docLink.innerHTML = docLinkHtml;\n",
              "        element.appendChild(docLink);\n",
              "      }\n",
              "    </script>\n",
              "  </div>\n",
              "\n",
              "\n",
              "<div id=\"df-5490ece9-99c9-4789-b234-6ef2b0a09b44\">\n",
              "  <button class=\"colab-df-quickchart\" onclick=\"quickchart('df-5490ece9-99c9-4789-b234-6ef2b0a09b44')\"\n",
              "            title=\"Suggest charts\"\n",
              "            style=\"display:none;\">\n",
              "\n",
              "<svg xmlns=\"http://www.w3.org/2000/svg\" height=\"24px\"viewBox=\"0 0 24 24\"\n",
              "     width=\"24px\">\n",
              "    <g>\n",
              "        <path d=\"M19 3H5c-1.1 0-2 .9-2 2v14c0 1.1.9 2 2 2h14c1.1 0 2-.9 2-2V5c0-1.1-.9-2-2-2zM9 17H7v-7h2v7zm4 0h-2V7h2v10zm4 0h-2v-4h2v4z\"/>\n",
              "    </g>\n",
              "</svg>\n",
              "  </button>\n",
              "\n",
              "<style>\n",
              "  .colab-df-quickchart {\n",
              "      --bg-color: #E8F0FE;\n",
              "      --fill-color: #1967D2;\n",
              "      --hover-bg-color: #E2EBFA;\n",
              "      --hover-fill-color: #174EA6;\n",
              "      --disabled-fill-color: #AAA;\n",
              "      --disabled-bg-color: #DDD;\n",
              "  }\n",
              "\n",
              "  [theme=dark] .colab-df-quickchart {\n",
              "      --bg-color: #3B4455;\n",
              "      --fill-color: #D2E3FC;\n",
              "      --hover-bg-color: #434B5C;\n",
              "      --hover-fill-color: #FFFFFF;\n",
              "      --disabled-bg-color: #3B4455;\n",
              "      --disabled-fill-color: #666;\n",
              "  }\n",
              "\n",
              "  .colab-df-quickchart {\n",
              "    background-color: var(--bg-color);\n",
              "    border: none;\n",
              "    border-radius: 50%;\n",
              "    cursor: pointer;\n",
              "    display: none;\n",
              "    fill: var(--fill-color);\n",
              "    height: 32px;\n",
              "    padding: 0;\n",
              "    width: 32px;\n",
              "  }\n",
              "\n",
              "  .colab-df-quickchart:hover {\n",
              "    background-color: var(--hover-bg-color);\n",
              "    box-shadow: 0 1px 2px rgba(60, 64, 67, 0.3), 0 1px 3px 1px rgba(60, 64, 67, 0.15);\n",
              "    fill: var(--button-hover-fill-color);\n",
              "  }\n",
              "\n",
              "  .colab-df-quickchart-complete:disabled,\n",
              "  .colab-df-quickchart-complete:disabled:hover {\n",
              "    background-color: var(--disabled-bg-color);\n",
              "    fill: var(--disabled-fill-color);\n",
              "    box-shadow: none;\n",
              "  }\n",
              "\n",
              "  .colab-df-spinner {\n",
              "    border: 2px solid var(--fill-color);\n",
              "    border-color: transparent;\n",
              "    border-bottom-color: var(--fill-color);\n",
              "    animation:\n",
              "      spin 1s steps(1) infinite;\n",
              "  }\n",
              "\n",
              "  @keyframes spin {\n",
              "    0% {\n",
              "      border-color: transparent;\n",
              "      border-bottom-color: var(--fill-color);\n",
              "      border-left-color: var(--fill-color);\n",
              "    }\n",
              "    20% {\n",
              "      border-color: transparent;\n",
              "      border-left-color: var(--fill-color);\n",
              "      border-top-color: var(--fill-color);\n",
              "    }\n",
              "    30% {\n",
              "      border-color: transparent;\n",
              "      border-left-color: var(--fill-color);\n",
              "      border-top-color: var(--fill-color);\n",
              "      border-right-color: var(--fill-color);\n",
              "    }\n",
              "    40% {\n",
              "      border-color: transparent;\n",
              "      border-right-color: var(--fill-color);\n",
              "      border-top-color: var(--fill-color);\n",
              "    }\n",
              "    60% {\n",
              "      border-color: transparent;\n",
              "      border-right-color: var(--fill-color);\n",
              "    }\n",
              "    80% {\n",
              "      border-color: transparent;\n",
              "      border-right-color: var(--fill-color);\n",
              "      border-bottom-color: var(--fill-color);\n",
              "    }\n",
              "    90% {\n",
              "      border-color: transparent;\n",
              "      border-bottom-color: var(--fill-color);\n",
              "    }\n",
              "  }\n",
              "</style>\n",
              "\n",
              "  <script>\n",
              "    async function quickchart(key) {\n",
              "      const quickchartButtonEl =\n",
              "        document.querySelector('#' + key + ' button');\n",
              "      quickchartButtonEl.disabled = true;  // To prevent multiple clicks.\n",
              "      quickchartButtonEl.classList.add('colab-df-spinner');\n",
              "      try {\n",
              "        const charts = await google.colab.kernel.invokeFunction(\n",
              "            'suggestCharts', [key], {});\n",
              "      } catch (error) {\n",
              "        console.error('Error during call to suggestCharts:', error);\n",
              "      }\n",
              "      quickchartButtonEl.classList.remove('colab-df-spinner');\n",
              "      quickchartButtonEl.classList.add('colab-df-quickchart-complete');\n",
              "    }\n",
              "    (() => {\n",
              "      let quickchartButtonEl =\n",
              "        document.querySelector('#df-5490ece9-99c9-4789-b234-6ef2b0a09b44 button');\n",
              "      quickchartButtonEl.style.display =\n",
              "        google.colab.kernel.accessAllowed ? 'block' : 'none';\n",
              "    })();\n",
              "  </script>\n",
              "</div>\n",
              "\n",
              "    </div>\n",
              "  </div>\n"
            ],
            "application/vnd.google.colaboratory.intrinsic+json": {
              "type": "dataframe",
              "summary": "{\n  \"name\": \"df[df\",\n  \"rows\": 7,\n  \"fields\": [\n    {\n      \"column\": \"work_year\",\n      \"properties\": {\n        \"dtype\": \"number\",\n        \"std\": 0,\n        \"min\": 2020,\n        \"max\": 2023,\n        \"num_unique_values\": 4,\n        \"samples\": [\n          2023,\n          2021,\n          2020\n        ],\n        \"semantic_type\": \"\",\n        \"description\": \"\"\n      }\n    },\n    {\n      \"column\": \"experience_level\",\n      \"properties\": {\n        \"dtype\": \"category\",\n        \"num_unique_values\": 3,\n        \"samples\": [\n          \"EX\",\n          \"EN\",\n          \"MI\"\n        ],\n        \"semantic_type\": \"\",\n        \"description\": \"\"\n      }\n    },\n    {\n      \"column\": \"employment_type\",\n      \"properties\": {\n        \"dtype\": \"category\",\n        \"num_unique_values\": 2,\n        \"samples\": [\n          \"FL\",\n          \"FT\"\n        ],\n        \"semantic_type\": \"\",\n        \"description\": \"\"\n      }\n    },\n    {\n      \"column\": \"job_title\",\n      \"properties\": {\n        \"dtype\": \"string\",\n        \"num_unique_values\": 6,\n        \"samples\": [\n          \"Staff Data Analyst\",\n          \"AI Programmer\"\n        ],\n        \"semantic_type\": \"\",\n        \"description\": \"\"\n      }\n    },\n    {\n      \"column\": \"salary\",\n      \"properties\": {\n        \"dtype\": \"number\",\n        \"std\": 148441,\n        \"min\": 15000,\n        \"max\": 435000,\n        \"num_unique_values\": 7,\n        \"samples\": [\n          15000,\n          70000\n        ],\n        \"semantic_type\": \"\",\n        \"description\": \"\"\n      }\n    },\n    {\n      \"column\": \"salary_currency\",\n      \"properties\": {\n        \"dtype\": \"category\",\n        \"num_unique_values\": 3,\n        \"samples\": [\n          \"USD\",\n          \"EUR\"\n        ],\n        \"semantic_type\": \"\",\n        \"description\": \"\"\n      }\n    },\n    {\n      \"column\": \"salary_in_usd\",\n      \"properties\": {\n        \"dtype\": \"number\",\n        \"std\": 42182,\n        \"min\": 5882,\n        \"max\": 106000,\n        \"num_unique_values\": 7,\n        \"samples\": [\n          15000,\n          70000\n        ],\n        \"semantic_type\": \"\",\n        \"description\": \"\"\n      }\n    },\n    {\n      \"column\": \"employee_residence\",\n      \"properties\": {\n        \"dtype\": \"string\",\n        \"num_unique_values\": 6,\n        \"samples\": [\n          \"NG\",\n          \"IN\"\n        ],\n        \"semantic_type\": \"\",\n        \"description\": \"\"\n      }\n    },\n    {\n      \"column\": \"remote_ratio\",\n      \"properties\": {\n        \"dtype\": \"number\",\n        \"std\": 0,\n        \"min\": 0,\n        \"max\": 0,\n        \"num_unique_values\": 1,\n        \"samples\": [\n          0\n        ],\n        \"semantic_type\": \"\",\n        \"description\": \"\"\n      }\n    },\n    {\n      \"column\": \"company_location\",\n      \"properties\": {\n        \"dtype\": \"string\",\n        \"num_unique_values\": 6,\n        \"samples\": [\n          \"CA\"\n        ],\n        \"semantic_type\": \"\",\n        \"description\": \"\"\n      }\n    },\n    {\n      \"column\": \"company_size\",\n      \"properties\": {\n        \"dtype\": \"category\",\n        \"num_unique_values\": 2,\n        \"samples\": [\n          \"L\"\n        ],\n        \"semantic_type\": \"\",\n        \"description\": \"\"\n      }\n    }\n  ]\n}"
            }
          },
          "metadata": {},
          "execution_count": 47
        }
      ]
    },
    {
      "cell_type": "markdown",
      "source": [
        "This summary provides statistics for the salaries (in USD) where the remote work ratio is 0 and the company location does not match the employee's residence. The data includes a count of 7, with a mean salary of approximately 48983.86 USD. The standard deviation is around 42182.01, with the minimum salary being 5882 USD and the maximum salary being 106000 USD. The quartile values are 17500 USD (25th percentile), 26005 USD (50th percentile or median), and 85000 USD (75th percentile)."
      ],
      "metadata": {
        "id": "YKL5iaQjHnMG"
      }
    },
    {
      "cell_type": "markdown",
      "source": [
        "# References"
      ],
      "metadata": {
        "id": "BZnzbOzItiFV"
      }
    },
    {
      "cell_type": "markdown",
      "source": [
        "1. https://hex.tech/blog/univariate-analysis-data-exploration/\n",
        "2. https://www.questionpro.com/blog/bivariate-analysis/\n",
        "3. https://towardsdatascience.com/multivariate-analysis-going-beyond-one-variable-at-a-time-5d341bd4daca\n",
        "4. https://www.geeksforgeeks.org/what-is-exploratory-data-analysis/"
      ],
      "metadata": {
        "id": "d-V91ZN8uk50"
      }
    },
    {
      "cell_type": "markdown",
      "source": [
        "# Conclusion"
      ],
      "metadata": {
        "id": "biC1y-7kudjD"
      }
    },
    {
      "cell_type": "markdown",
      "source": [
        "Salaries vary widely, with most falling between 80,000 and 160,000 dollars.\n",
        "Job titles are diverse, with \"Data Scientist\" being the most common.\n",
        "There is a positive correlation between salary and experience level, indicating that more experienced individuals tend to earn higher salaries. Remote work is common, with many positions offering full remote or hybrid options. Location also plays a role in salaries, with some regions offering higher average salaries than others.\n",
        "\n",
        "Overall, the EDA provides valuable insights into the dataset, helping to understand the factors that influence data science salaries."
      ],
      "metadata": {
        "id": "AkZwh8U9uf_R"
      }
    },
    {
      "cell_type": "markdown",
      "source": [
        "# MIT License"
      ],
      "metadata": {
        "id": "sFBO-JV4uht7"
      }
    },
    {
      "cell_type": "markdown",
      "source": [
        "MIT License\n",
        "\n",
        "Copyright (c) 2024 SaiPranaviJeedigunta\n",
        "\n",
        "Permission is hereby granted, free of charge, to any person obtaining a copy\n",
        "of this software and associated documentation files (the \"Software\"), to deal\n",
        "in the Software without restriction, including without limitation the rights\n",
        "to use, copy, modify, merge, publish, distribute, sublicense, and/or sell\n",
        "copies of the Software, and to permit persons to whom the Software is\n",
        "furnished to do so, subject to the following conditions:\n",
        "\n",
        "The above copyright notice and this permission notice shall be included in all\n",
        "copies or substantial portions of the Software.\n",
        "\n",
        "THE SOFTWARE IS PROVIDED \"AS IS\", WITHOUT WARRANTY OF ANY KIND, EXPRESS OR\n",
        "IMPLIED, INCLUDING BUT NOT LIMITED TO THE WARRANTIES OF MERCHANTABILITY,\n",
        "FITNESS FOR A PARTICULAR PURPOSE AND NONINFRINGEMENT. IN NO EVENT SHALL THE\n",
        "AUTHORS OR COPYRIGHT HOLDERS BE LIABLE FOR ANY CLAIM, DAMAGES OR OTHER\n",
        "LIABILITY, WHETHER IN AN ACTION OF CONTRACT, TORT OR OTHERWISE, ARISING FROM,\n",
        "OUT OF OR IN CONNECTION WITH THE SOFTWARE OR THE USE OR OTHER DEALINGS IN THE\n",
        "SOFTWARE."
      ],
      "metadata": {
        "id": "UABdHiiYtkp3"
      }
    }
  ]
}